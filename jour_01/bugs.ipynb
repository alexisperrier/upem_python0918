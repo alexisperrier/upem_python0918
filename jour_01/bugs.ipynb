{
 "cells": [
  {
   "cell_type": "markdown",
   "metadata": {},
   "source": [
    "Ce code comporte 4 erreurs de syntaxe\n",
    "\n",
    "Saurez vous les trouver toutes ?\n"
   ]
  },
  {
   "cell_type": "code",
   "execution_count": 5,
   "metadata": {},
   "outputs": [
    {
     "name": "stdout",
     "output_type": "stream",
     "text": [
      "c'est trop petit\n"
     ]
    }
   ],
   "source": [
    "\n",
    "hauteur = 80\n",
    "\n",
    "if (hauteur > 180):\n",
    "    print (\"c'est trop haut\")\n",
    "elif (hauteur < 90) :\n",
    "    print (\"ca passe tout juste\")\n",
    "elif (hauteur < 100) :\n",
    "    print (\"c'est trop petit\")\n",
    "\n"
   ]
  },
  {
   "cell_type": "code",
   "execution_count": null,
   "metadata": {},
   "outputs": [],
   "source": [
    "\n",
    "\n",
    "\n"
   ]
  }
 ],
 "metadata": {
  "kernelspec": {
   "display_name": "Python 3",
   "language": "python",
   "name": "python3"
  },
  "language_info": {
   "codemirror_mode": {
    "name": "ipython",
    "version": 3
   },
   "file_extension": ".py",
   "mimetype": "text/x-python",
   "name": "python",
   "nbconvert_exporter": "python",
   "pygments_lexer": "ipython3",
   "version": "3.6.5"
  }
 },
 "nbformat": 4,
 "nbformat_minor": 2
}
