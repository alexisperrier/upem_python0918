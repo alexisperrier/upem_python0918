{
 "cells": [
  {
   "cell_type": "code",
   "execution_count": 11,
   "metadata": {},
   "outputs": [],
   "source": [
    "\n",
    "# une liste de noms\n",
    "\n",
    "equipe = ['Amelie','Jean', 'Bruno', 'John', 'Nathalie']\n",
    "\n",
    "\n",
    "chiffres = [1,2,3,87, 100, 12, 54, True, 'brocoli']\n"
   ]
  },
  {
   "cell_type": "code",
   "execution_count": 12,
   "metadata": {},
   "outputs": [
    {
     "data": {
      "text/plain": [
       "5"
      ]
     },
     "execution_count": 12,
     "metadata": {},
     "output_type": "execute_result"
    }
   ],
   "source": [
    "# combien d'elements dans ma liste\n",
    "\n",
    "len(equipe)\n"
   ]
  },
  {
   "cell_type": "code",
   "execution_count": 13,
   "metadata": {},
   "outputs": [
    {
     "data": {
      "text/plain": [
       "9"
      ]
     },
     "execution_count": 13,
     "metadata": {},
     "output_type": "execute_result"
    }
   ],
   "source": [
    "len(chiffres)"
   ]
  },
  {
   "cell_type": "code",
   "execution_count": 14,
   "metadata": {},
   "outputs": [
    {
     "data": {
      "text/plain": [
       "['Amelie', 'Jean', 'Bruno', 'John', 'Nathalie']"
      ]
     },
     "execution_count": 14,
     "metadata": {},
     "output_type": "execute_result"
    }
   ],
   "source": [
    "equipe"
   ]
  },
  {
   "cell_type": "code",
   "execution_count": 15,
   "metadata": {},
   "outputs": [
    {
     "name": "stdout",
     "output_type": "stream",
     "text": [
      " Les membres de l'equipe sont ['Amelie', 'Jean', 'Bruno', 'John', 'Nathalie']  \n"
     ]
    }
   ],
   "source": [
    "print(\" Les membres de l'equipe sont {}  \".format(equipe))"
   ]
  },
  {
   "cell_type": "markdown",
   "metadata": {},
   "source": [
    "# Boucles"
   ]
  },
  {
   "cell_type": "code",
   "execution_count": 19,
   "metadata": {},
   "outputs": [
    {
     "name": "stdout",
     "output_type": "stream",
     "text": [
      "Bonjour Amelie\n",
      "Bonjour Jean\n",
      "Bonjour Bruno\n",
      "Bonjour John\n",
      "Bonjour Nathalie\n"
     ]
    }
   ],
   "source": [
    "equipe = ['Amelie','Jean', 'Bruno', 'John', 'Nathalie']\n",
    "\n",
    "for prenom in equipe:\n",
    "    print(\"Bonjour {}\".format(prenom))"
   ]
  },
  {
   "cell_type": "code",
   "execution_count": 23,
   "metadata": {},
   "outputs": [
    {
     "name": "stdout",
     "output_type": "stream",
     "text": [
      "4 au carré = 16\n",
      "1 au carré = 1\n",
      "3 au carré = 9\n",
      "5 au carré = 25\n",
      "6 au carré = 36\n",
      "3.15 au carré = 9.9225\n",
      "8 au carré = 64\n",
      "-1 au carré = 1\n"
     ]
    }
   ],
   "source": [
    "lst = [4,1,3,5,6, 3.15, 8, -1]\n",
    "\n",
    "for i in lst:\n",
    "    print(\"{} au carré = {}\".format(i, i**2))\n",
    "\n"
   ]
  },
  {
   "cell_type": "code",
   "execution_count": 24,
   "metadata": {},
   "outputs": [
    {
     "name": "stdout",
     "output_type": "stream",
     "text": [
      "la somme est 21\n"
     ]
    }
   ],
   "source": [
    "lst = [1,2,3,4,5,6]\n",
    "\n",
    "la_somme = 0\n",
    "for i in lst:\n",
    "    la_somme = la_somme + i\n",
    "\n",
    "print(\"la somme est {}\".format(la_somme))"
   ]
  },
  {
   "cell_type": "code",
   "execution_count": 26,
   "metadata": {},
   "outputs": [
    {
     "name": "stdout",
     "output_type": "stream",
     "text": [
      "Nantes\n",
      "Paris\n",
      "Bordeaux\n"
     ]
    }
   ],
   "source": [
    "liste_des_villes = [ 'Nantes', 'Paris','Bordeaux', 'Lyon'  ]\n",
    "\n",
    "\n",
    "for nom_de_la_ville in liste_des_villes:\n",
    "    if 'a' in nom_de_la_ville:\n",
    "        print(nom_de_la_ville)\n",
    "    \n",
    "\n"
   ]
  },
  {
   "cell_type": "code",
   "execution_count": 35,
   "metadata": {},
   "outputs": [
    {
     "name": "stdout",
     "output_type": "stream",
     "text": [
      "la ville Nantes a 6 lettres.\n",
      "la ville Paris n'a que 5 lettres.\n",
      "la ville Bordeaux a 8 lettres.\n",
      "4 lettres\n"
     ]
    }
   ],
   "source": [
    "# Afficher les noms de villes de moins de 6 lettres\n",
    "\n",
    "# la longueur d'une chaine de charateres : len('Paris')\n",
    "\n",
    "liste_des_villes = [ 'Nantes', 'Paris','Bordeaux', 'Lyon'  ]\n",
    "\n",
    "for nom_de_la_ville in liste_des_villes:\n",
    "    \n",
    "    if len(nom_de_la_ville) > 5:\n",
    "        print(\"la ville {} a {} lettres.\".format(nom_de_la_ville, len(nom_de_la_ville)))\n",
    "    elif len(nom_de_la_ville) == 4:\n",
    "    else:\n",
    "        if len(nom_de_la_ville) == 4:\n",
    "            print(\"4 lettres\")    \n",
    "        else : \n",
    "            print(\"la ville {} n'a que {} lettres.\".format(nom_de_la_ville, len(nom_de_la_ville)))\n",
    "\n",
    "\n",
    "\n"
   ]
  },
  {
   "cell_type": "markdown",
   "metadata": {},
   "source": [
    "\n",
    "if (condition A):\n",
    "    ....\n",
    "\n",
    "elif (condition B):\n",
    "    ....\n",
    "    \n",
    "elif (condition C):\n",
    "    ....\n",
    "    \n",
    "else:\n",
    "    \n",
    "    \n",
    "    "
   ]
  },
  {
   "cell_type": "code",
   "execution_count": 36,
   "metadata": {},
   "outputs": [
    {
     "name": "stdout",
     "output_type": "stream",
     "text": [
      "premier element Amelie\n"
     ]
    }
   ],
   "source": [
    "equipe = ['Amelie','Jean', 'Bruno', 'John', 'Nathalie']\n",
    "\n",
    "print(\"premier element: {}\".format(equipe[0]))\n"
   ]
  },
  {
   "cell_type": "code",
   "execution_count": 37,
   "metadata": {},
   "outputs": [
    {
     "name": "stdout",
     "output_type": "stream",
     "text": [
      "['Jean', 'Bruno']\n"
     ]
    }
   ],
   "source": [
    "print(equipe[1:3])"
   ]
  },
  {
   "cell_type": "code",
   "execution_count": 38,
   "metadata": {},
   "outputs": [
    {
     "name": "stdout",
     "output_type": "stream",
     "text": [
      "['Amelie', 'Jean', 'Bruno']\n"
     ]
    }
   ],
   "source": [
    "print(equipe[:3])"
   ]
  },
  {
   "cell_type": "code",
   "execution_count": 39,
   "metadata": {},
   "outputs": [
    {
     "name": "stdout",
     "output_type": "stream",
     "text": [
      "['Amelie', 'Jean', 'Bruno', 'John', 'Nathalie']\n"
     ]
    }
   ],
   "source": [
    "print(equipe[:])"
   ]
  },
  {
   "cell_type": "code",
   "execution_count": 41,
   "metadata": {},
   "outputs": [
    {
     "name": "stdout",
     "output_type": "stream",
     "text": [
      "['Bruno', 'John', 'Nathalie']\n"
     ]
    }
   ],
   "source": [
    "print(equipe[2:])"
   ]
  },
  {
   "cell_type": "code",
   "execution_count": 43,
   "metadata": {},
   "outputs": [
    {
     "name": "stdout",
     "output_type": "stream",
     "text": [
      "Nathalie\n"
     ]
    }
   ],
   "source": [
    "print(equipe[-1])"
   ]
  },
  {
   "cell_type": "code",
   "execution_count": 44,
   "metadata": {},
   "outputs": [
    {
     "name": "stdout",
     "output_type": "stream",
     "text": [
      "['John', 'Nathalie']\n"
     ]
    }
   ],
   "source": [
    "print(equipe[-2:])"
   ]
  },
  {
   "cell_type": "code",
   "execution_count": 45,
   "metadata": {},
   "outputs": [
    {
     "data": {
      "text/plain": [
       "['Amelie', 'Bruno', 'Jean', 'John', 'Nathalie']"
      ]
     },
     "execution_count": 45,
     "metadata": {},
     "output_type": "execute_result"
    }
   ],
   "source": [
    "sorted(equipe)"
   ]
  },
  {
   "cell_type": "code",
   "execution_count": 47,
   "metadata": {},
   "outputs": [],
   "source": [
    "?equipe.append"
   ]
  },
  {
   "cell_type": "code",
   "execution_count": 48,
   "metadata": {},
   "outputs": [],
   "source": [
    "equipe.append('zorro')"
   ]
  },
  {
   "cell_type": "code",
   "execution_count": 49,
   "metadata": {},
   "outputs": [
    {
     "data": {
      "text/plain": [
       "['Amelie', 'Jean', 'Bruno', 'John', 'Nathalie', 'zorro']"
      ]
     },
     "execution_count": 49,
     "metadata": {},
     "output_type": "execute_result"
    }
   ],
   "source": [
    "equipe"
   ]
  },
  {
   "cell_type": "code",
   "execution_count": 50,
   "metadata": {},
   "outputs": [
    {
     "data": {
      "text/plain": [
       "[1, 2, 3, 4, 5, -10]"
      ]
     },
     "execution_count": 50,
     "metadata": {},
     "output_type": "execute_result"
    }
   ],
   "source": [
    "a = [1,2,3,4,5]\n",
    "a.append(-10)\n",
    "a"
   ]
  },
  {
   "cell_type": "code",
   "execution_count": 51,
   "metadata": {},
   "outputs": [
    {
     "data": {
      "text/plain": [
       "[1, 2, 3, 4, 5, -10, 'bob']"
      ]
     },
     "execution_count": 51,
     "metadata": {},
     "output_type": "execute_result"
    }
   ],
   "source": [
    "a.append('bob')\n",
    "a"
   ]
  },
  {
   "cell_type": "markdown",
   "metadata": {},
   "source": [
    "# Construire une liste de façon itérative avec append()"
   ]
  },
  {
   "cell_type": "code",
   "execution_count": 58,
   "metadata": {},
   "outputs": [
    {
     "name": "stdout",
     "output_type": "stream",
     "text": [
      "J'ai ajouté le nom 'AMELIE' en majuscule a la liste ['AMELIE']\n",
      "J'ai ajouté le nom 'JEAN' en majuscule a la liste ['AMELIE', 'JEAN']\n",
      "J'ai ajouté le nom 'BRUNO' en majuscule a la liste ['AMELIE', 'JEAN', 'BRUNO']\n",
      "J'ai ajouté le nom 'JOHN' en majuscule a la liste ['AMELIE', 'JEAN', 'BRUNO', 'JOHN']\n",
      "J'ai ajouté le nom 'NATHALIE' en majuscule a la liste ['AMELIE', 'JEAN', 'BRUNO', 'JOHN', 'NATHALIE']\n"
     ]
    }
   ],
   "source": [
    "# Mettre en minuscule .lower() les prenom dans une nouvelle liste\n",
    "\n",
    "equipe = ['Amelie','Jean', 'Bruno', 'John', 'Nathalie']\n",
    "\n",
    "nouvelle_liste = []\n",
    "\n",
    "for nom in equipe:\n",
    "    nom_minuscule = nom.upper()\n",
    "    nouvelle_liste.append(nom_minuscule)\n",
    "    \n",
    "    \n",
    "    print(\"J'ai ajouté le nom '{}' en majuscule a la liste {}\".format(nom_minuscule, nouvelle_liste))\n",
    "\n",
    "\n"
   ]
  },
  {
   "cell_type": "code",
   "execution_count": 63,
   "metadata": {},
   "outputs": [
    {
     "ename": "TypeError",
     "evalue": "insert() takes exactly 2 arguments (1 given)",
     "output_type": "error",
     "traceback": [
      "\u001b[0;31m---------------------------------------------------------------------------\u001b[0m",
      "\u001b[0;31mTypeError\u001b[0m                                 Traceback (most recent call last)",
      "\u001b[0;32m<ipython-input-63-8b9d217c3c6a>\u001b[0m in \u001b[0;36m<module>\u001b[0;34m()\u001b[0m\n\u001b[0;32m----> 1\u001b[0;31m \u001b[0mequipe\u001b[0m\u001b[0;34m.\u001b[0m\u001b[0minsert\u001b[0m\u001b[0;34m(\u001b[0m\u001b[0;34m'Manu'\u001b[0m\u001b[0;34m)\u001b[0m\u001b[0;34m\u001b[0m\u001b[0m\n\u001b[0m",
      "\u001b[0;31mTypeError\u001b[0m: insert() takes exactly 2 arguments (1 given)"
     ]
    }
   ],
   "source": [
    "equipe.insert(1,'Manu')"
   ]
  },
  {
   "cell_type": "code",
   "execution_count": 62,
   "metadata": {},
   "outputs": [
    {
     "data": {
      "text/plain": [
       "['Amelie', 'manu', 'Jean', 'Bruno', 'John', 'Nathalie']"
      ]
     },
     "execution_count": 62,
     "metadata": {},
     "output_type": "execute_result"
    }
   ],
   "source": [
    "equipe"
   ]
  },
  {
   "cell_type": "code",
   "execution_count": 64,
   "metadata": {},
   "outputs": [
    {
     "data": {
      "text/plain": [
       "['Amelie', 'Manu', 'manu', 'Jean', 'Bruno', 'John', 'Nathalie']"
      ]
     },
     "execution_count": 64,
     "metadata": {},
     "output_type": "execute_result"
    }
   ],
   "source": [
    "equipe.insert(1,'Manu')\n",
    "equipe"
   ]
  },
  {
   "cell_type": "code",
   "execution_count": 65,
   "metadata": {},
   "outputs": [],
   "source": [
    "equipe.clear()"
   ]
  },
  {
   "cell_type": "code",
   "execution_count": 66,
   "metadata": {},
   "outputs": [
    {
     "data": {
      "text/plain": [
       "[]"
      ]
     },
     "execution_count": 66,
     "metadata": {},
     "output_type": "execute_result"
    }
   ],
   "source": [
    "equipe"
   ]
  },
  {
   "cell_type": "code",
   "execution_count": 74,
   "metadata": {},
   "outputs": [
    {
     "name": "stdout",
     "output_type": "stream",
     "text": [
      "la liste est vide\n"
     ]
    }
   ],
   "source": [
    "equipe = ['Amelie', 'manu', 'Jean', 'Bruno', 'John', 'Nathalie']\n",
    "equipe.clear()\n",
    "\n",
    "if len(equipe) == 0:\n",
    "    print(\"la liste est vide\")\n"
   ]
  },
  {
   "cell_type": "code",
   "execution_count": 76,
   "metadata": {},
   "outputs": [
    {
     "name": "stdout",
     "output_type": "stream",
     "text": [
      "la liste est vide\n"
     ]
    }
   ],
   "source": [
    "if equipe == []:\n",
    "    print(\"la liste est vide\")\n",
    "    "
   ]
  },
  {
   "cell_type": "code",
   "execution_count": 77,
   "metadata": {},
   "outputs": [
    {
     "name": "stdout",
     "output_type": "stream",
     "text": [
      "vide\n"
     ]
    }
   ],
   "source": [
    "if not equipe:\n",
    "    print(\"vide\")"
   ]
  },
  {
   "cell_type": "markdown",
   "metadata": {},
   "source": [
    "# Immutable vs mutable type\n"
   ]
  },
  {
   "cell_type": "code",
   "execution_count": 80,
   "metadata": {},
   "outputs": [
    {
     "data": {
      "text/plain": [
       "[1, 2]"
      ]
     },
     "execution_count": 80,
     "metadata": {},
     "output_type": "execute_result"
    }
   ],
   "source": [
    "a = [1,2]\n",
    "\n",
    "b = a\n",
    "b"
   ]
  },
  {
   "cell_type": "code",
   "execution_count": 81,
   "metadata": {},
   "outputs": [
    {
     "data": {
      "text/plain": [
       "[5, 2]"
      ]
     },
     "execution_count": 81,
     "metadata": {},
     "output_type": "execute_result"
    }
   ],
   "source": [
    "a[0] = 5\n",
    "b"
   ]
  },
  {
   "cell_type": "code",
   "execution_count": 82,
   "metadata": {},
   "outputs": [
    {
     "data": {
      "text/plain": [
       "[1, 2]"
      ]
     },
     "execution_count": 82,
     "metadata": {},
     "output_type": "execute_result"
    }
   ],
   "source": [
    "a = [1,2]\n",
    "\n",
    "b = a.copy()\n",
    "b"
   ]
  },
  {
   "cell_type": "code",
   "execution_count": 83,
   "metadata": {},
   "outputs": [
    {
     "data": {
      "text/plain": [
       "[1, 2]"
      ]
     },
     "execution_count": 83,
     "metadata": {},
     "output_type": "execute_result"
    }
   ],
   "source": [
    "a[0] = 5\n",
    "b"
   ]
  },
  {
   "cell_type": "markdown",
   "metadata": {},
   "source": [
    "# ajouter 2 listes"
   ]
  },
  {
   "cell_type": "code",
   "execution_count": 84,
   "metadata": {},
   "outputs": [
    {
     "name": "stdout",
     "output_type": "stream",
     "text": [
      "[1, 2, 3, 1, 4, 5, 6]\n"
     ]
    }
   ],
   "source": [
    "a = [1,2,3]\n",
    "b = [1, 4,5,6]\n",
    "c = a + b\n",
    "\n",
    "print(c)"
   ]
  },
  {
   "cell_type": "code",
   "execution_count": 86,
   "metadata": {},
   "outputs": [
    {
     "name": "stdout",
     "output_type": "stream",
     "text": [
      "il fait beauet chaud\n"
     ]
    }
   ],
   "source": [
    "premier = 'il fait beau'\n",
    "deuxieme = 'et chaud'\n",
    "\n",
    "total = premier + deuxieme\n",
    "print(total)\n"
   ]
  },
  {
   "cell_type": "code",
   "execution_count": 87,
   "metadata": {},
   "outputs": [
    {
     "name": "stdout",
     "output_type": "stream",
     "text": [
      "il fait beau et chaud\n"
     ]
    }
   ],
   "source": [
    "total = premier + ' ' + deuxieme\n",
    "print(total)\n"
   ]
  },
  {
   "cell_type": "markdown",
   "metadata": {},
   "source": [
    "# Join pour concatener des listes"
   ]
  },
  {
   "cell_type": "code",
   "execution_count": 88,
   "metadata": {},
   "outputs": [
    {
     "name": "stdout",
     "output_type": "stream",
     "text": [
      "il fait beau et chaud\n"
     ]
    }
   ],
   "source": [
    "premier = 'il fait beau'\n",
    "deuxieme = 'et chaud'\n",
    "\n",
    "total = ' '.join( [premier, deuxieme]   )\n",
    "print(total)\n",
    "\n"
   ]
  },
  {
   "cell_type": "code",
   "execution_count": 91,
   "metadata": {},
   "outputs": [
    {
     "name": "stdout",
     "output_type": "stream",
     "text": [
      " Les membres de l'equipe sont: Amelie, Jean, Bruno, John, Nathalie    \n"
     ]
    }
   ],
   "source": [
    "equipe = ['Amelie','Jean', 'Bruno', 'John', 'Nathalie']\n",
    "\n",
    "print(\" Les membres de l'equipe sont: {}    \".format( \", \".join(equipe)     ))\n"
   ]
  },
  {
   "cell_type": "code",
   "execution_count": 92,
   "metadata": {},
   "outputs": [],
   "source": [
    "texte = \"Mesdames, messieurs. Voie C. Attention au passage d'un train, éloignez vous de la bordure du quai s'il vous plaît.\"\n"
   ]
  },
  {
   "cell_type": "markdown",
   "metadata": {},
   "source": [
    "# Extraire les mots d'un texte avec split"
   ]
  },
  {
   "cell_type": "code",
   "execution_count": 112,
   "metadata": {},
   "outputs": [
    {
     "data": {
      "text/plain": [
       "\"Mesdames, messieurs. Voie C. Attention au passage d'un train, éloignez vous de la bordure du quai s'il vous plaît.\""
      ]
     },
     "execution_count": 112,
     "metadata": {},
     "output_type": "execute_result"
    }
   ],
   "source": [
    "texte"
   ]
  },
  {
   "cell_type": "code",
   "execution_count": 113,
   "metadata": {},
   "outputs": [],
   "source": [
    "mots = texte.split(' ')"
   ]
  },
  {
   "cell_type": "code",
   "execution_count": 114,
   "metadata": {},
   "outputs": [
    {
     "data": {
      "text/plain": [
       "['Mesdames,',\n",
       " 'messieurs.',\n",
       " 'Voie',\n",
       " 'C.',\n",
       " 'Attention',\n",
       " 'au',\n",
       " 'passage',\n",
       " \"d'un\",\n",
       " 'train,',\n",
       " 'éloignez',\n",
       " 'vous',\n",
       " 'de',\n",
       " 'la',\n",
       " 'bordure',\n",
       " 'du',\n",
       " 'quai',\n",
       " \"s'il\",\n",
       " 'vous',\n",
       " 'plaît.']"
      ]
     },
     "execution_count": 114,
     "metadata": {},
     "output_type": "execute_result"
    }
   ],
   "source": [
    "mots"
   ]
  },
  {
   "cell_type": "markdown",
   "metadata": {},
   "source": [
    "# Module string et ponctutaion"
   ]
  },
  {
   "cell_type": "code",
   "execution_count": 120,
   "metadata": {},
   "outputs": [],
   "source": [
    "texte = \"Mesdames, messieurs. Voie C. Attention au passage d'un train, éloignez vous de la bordure du quai s'il vous plaît.\"\n",
    "\n",
    "signes = \",.;:'-\"\n",
    "\n",
    "texte_sans_ponctuation = []\n",
    "\n",
    "for mot in texte.split(' '):\n",
    "    for ponctuation in signes:\n",
    "        if ponctuation in mot:\n",
    "            mot =  mot.replace(ponctuation, '')   \n",
    "\n",
    "    texte_sans_ponctuation.append(mot)\n",
    "    \n"
   ]
  },
  {
   "cell_type": "code",
   "execution_count": 118,
   "metadata": {},
   "outputs": [
    {
     "data": {
      "text/plain": [
       "['Mesdames',\n",
       " 'messieurs',\n",
       " 'Voie',\n",
       " 'C',\n",
       " 'Attention',\n",
       " 'au',\n",
       " 'passage',\n",
       " 'dun',\n",
       " 'train',\n",
       " 'éloignez',\n",
       " 'vous',\n",
       " 'de',\n",
       " 'la',\n",
       " 'bordure',\n",
       " 'du',\n",
       " 'quai',\n",
       " 'sil',\n",
       " 'vous',\n",
       " 'plaît']"
      ]
     },
     "execution_count": 118,
     "metadata": {},
     "output_type": "execute_result"
    }
   ],
   "source": [
    "texte_sans_ponctuation"
   ]
  },
  {
   "cell_type": "code",
   "execution_count": 119,
   "metadata": {},
   "outputs": [
    {
     "data": {
      "text/plain": [
       "'Mesdames messieurs Voie C Attention au passage dun train éloignez vous de la bordure du quai sil vous plaît'"
      ]
     },
     "execution_count": 119,
     "metadata": {},
     "output_type": "execute_result"
    }
   ],
   "source": [
    "' '.join(texte_sans_ponctuation)"
   ]
  },
  {
   "cell_type": "code",
   "execution_count": 122,
   "metadata": {},
   "outputs": [
    {
     "data": {
      "text/plain": [
       "'!\"#$%&\\'()*+,-./:;<=>?@[\\\\]^_`{|}~'"
      ]
     },
     "execution_count": 122,
     "metadata": {},
     "output_type": "execute_result"
    }
   ],
   "source": [
    "import string\n",
    "\n",
    "string.punctuation"
   ]
  },
  {
   "cell_type": "code",
   "execution_count": 123,
   "metadata": {},
   "outputs": [
    {
     "data": {
      "text/plain": [
       "'abcdefghijklmnopqrstuvwxyzABCDEFGHIJKLMNOPQRSTUVWXYZ'"
      ]
     },
     "execution_count": 123,
     "metadata": {},
     "output_type": "execute_result"
    }
   ],
   "source": [
    "string.ascii_letters"
   ]
  },
  {
   "cell_type": "code",
   "execution_count": 124,
   "metadata": {},
   "outputs": [
    {
     "data": {
      "text/plain": [
       "'0123456789'"
      ]
     },
     "execution_count": 124,
     "metadata": {},
     "output_type": "execute_result"
    }
   ],
   "source": [
    "string.digits\n"
   ]
  },
  {
   "cell_type": "code",
   "execution_count": 126,
   "metadata": {},
   "outputs": [],
   "source": [
    "?string.capwords()"
   ]
  },
  {
   "cell_type": "code",
   "execution_count": 127,
   "metadata": {},
   "outputs": [
    {
     "data": {
      "text/plain": [
       "'Madame Monsieur Bonjour'"
      ]
     },
     "execution_count": 127,
     "metadata": {},
     "output_type": "execute_result"
    }
   ],
   "source": [
    "texte = \"madame monsieur bonjour\"\n",
    "string.capwords(texte)"
   ]
  },
  {
   "cell_type": "code",
   "execution_count": 128,
   "metadata": {},
   "outputs": [],
   "source": [
    "?string.capwords"
   ]
  },
  {
   "cell_type": "code",
   "execution_count": null,
   "metadata": {},
   "outputs": [],
   "source": []
  }
 ],
 "metadata": {
  "kernelspec": {
   "display_name": "Python 3",
   "language": "python",
   "name": "python3"
  },
  "language_info": {
   "codemirror_mode": {
    "name": "ipython",
    "version": 3
   },
   "file_extension": ".py",
   "mimetype": "text/x-python",
   "name": "python",
   "nbconvert_exporter": "python",
   "pygments_lexer": "ipython3",
   "version": "3.6.5"
  }
 },
 "nbformat": 4,
 "nbformat_minor": 2
}
