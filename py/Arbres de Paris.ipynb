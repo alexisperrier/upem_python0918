{
 "cells": [
  {
   "cell_type": "markdown",
   "metadata": {},
   "source": [
    "# Exploration du dataset les arbres de paris\n",
    "\n",
    "* Notebook Jupyter\n",
    "* Fichier de données les 4000 arbres de Paris disponible à l'adresse: https://opendata.paris.fr/explore/dataset/les-arbres/\n",
    "\n",
    "Nous allons\n",
    "\n",
    "* Charger le fichier dans une dataframe pandas\n",
    "* explorer le fichier \n",
    "    * histogrammes des hauteurs de arbres, des circonference\n",
    "    * nombres d'especes d'arbres, ...\n",
    "    * repartition par type de voie, par arrondissement, ...\n",
    "\n",
    "\n",
    "Le fichier est aussi disponible en local sur \"../data/les-arbres.csv\"\n"
   ]
  },
  {
   "cell_type": "code",
   "execution_count": 2,
   "metadata": {
    "collapsed": true
   },
   "outputs": [],
   "source": [
    "# importer la librairie pandas\n",
    "import pandas as pd\n",
    "\n",
    "# Constante pour indiquer ou sont les fichiers\n",
    "DATA_PATH = '../data/'"
   ]
  },
  {
   "cell_type": "code",
   "execution_count": 3,
   "metadata": {},
   "outputs": [
    {
     "name": "stderr",
     "output_type": "stream",
     "text": [
      "b'Skipping line 1916: expected 17 fields, saw 18\\n'\n"
     ]
    }
   ],
   "source": [
    "# Charger le fichier dans une dataframe pandas\n",
    "\n",
    "df = pd.read_csv(DATA_PATH + 'les-arbres.csv', error_bad_lines = False, delimiter = ';')"
   ]
  },
  {
   "cell_type": "markdown",
   "metadata": {},
   "source": [
    "# combien de rows\n",
    "df.shape\n"
   ]
  },
  {
   "cell_type": "code",
   "execution_count": 6,
   "metadata": {},
   "outputs": [
    {
     "data": {
      "text/plain": [
       "(200332, 17)"
      ]
     },
     "execution_count": 6,
     "metadata": {},
     "output_type": "execute_result"
    }
   ],
   "source": [
    "df.shape"
   ]
  },
  {
   "cell_type": "markdown",
   "metadata": {},
   "source": [
    "# les colonnes"
   ]
  },
  {
   "cell_type": "code",
   "execution_count": 7,
   "metadata": {},
   "outputs": [
    {
     "data": {
      "text/plain": [
       "Index(['IDBASE', 'TYPEEMPLACEMENT', 'DOMANIALITE', 'ARRONDISSEMENT',\n",
       "       'COMPLEMENTADRESSE', 'NUMERO', 'LIEU / ADRESSE', 'IDEMPLACEMENT',\n",
       "       'LIBELLEFRANCAIS', 'GENRE', 'ESPECE', 'VARIETEOUCULTIVAR',\n",
       "       'CIRCONFERENCEENCM', 'HAUTEUR (m)', 'STADEDEVELOPPEMENT', 'REMARQUABLE',\n",
       "       'geo_point_2d'],\n",
       "      dtype='object')"
      ]
     },
     "execution_count": 7,
     "metadata": {},
     "output_type": "execute_result"
    }
   ],
   "source": [
    "df.columns"
   ]
  },
  {
   "cell_type": "markdown",
   "metadata": {},
   "source": [
    "# Changer les colonnes:\n",
    "* en minuscule\n",
    "* enlever les parentheses et /\n",
    "* remplacer les espaces par _\n"
   ]
  },
  {
   "cell_type": "code",
   "execution_count": 9,
   "metadata": {},
   "outputs": [
    {
     "data": {
      "text/plain": [
       "Index(['IDBASE', 'TYPEEMPLACEMENT', 'DOMANIALITE', 'ARRONDISSEMENT',\n",
       "       'COMPLEMENTADRESSE', 'NUMERO', 'LIEU / ADRESSE', 'IDEMPLACEMENT',\n",
       "       'LIBELLEFRANCAIS', 'GENRE', 'ESPECE', 'VARIETEOUCULTIVAR',\n",
       "       'CIRCONFERENCEENCM', 'HAUTEUR (m)', 'STADEDEVELOPPEMENT', 'REMARQUABLE',\n",
       "       'geo_point_2d'],\n",
       "      dtype='object')"
      ]
     },
     "execution_count": 9,
     "metadata": {},
     "output_type": "execute_result"
    }
   ],
   "source": [
    "colonnes = df.columns\n",
    "colonnes"
   ]
  },
  {
   "cell_type": "code",
   "execution_count": 17,
   "metadata": {
    "collapsed": true
   },
   "outputs": [],
   "source": [
    "def colname(col):\n",
    "    for char in ['/', '(', ')']:\n",
    "        col = col.replace(char, '')\n",
    "    col = col.replace(' ', '_')\n",
    "    col = col.replace('__', '_')\n",
    "    return col.lower()\n",
    "\n",
    "# test \n",
    "\n",
    "assert colname(\"HAUTEUR (m)\") == \"hauteur_m\", \"Y'a un bug\"\n"
   ]
  },
  {
   "cell_type": "code",
   "execution_count": 18,
   "metadata": {},
   "outputs": [
    {
     "data": {
      "text/plain": [
       "['idbase',\n",
       " 'typeemplacement',\n",
       " 'domanialite',\n",
       " 'arrondissement',\n",
       " 'complementadresse',\n",
       " 'numero',\n",
       " 'lieu_adresse',\n",
       " 'idemplacement',\n",
       " 'libellefrancais',\n",
       " 'genre',\n",
       " 'espece',\n",
       " 'varieteoucultivar',\n",
       " 'circonferenceencm',\n",
       " 'hauteur_m',\n",
       " 'stadedeveloppement',\n",
       " 'remarquable',\n",
       " 'geo_point_2d']"
      ]
     },
     "execution_count": 18,
     "metadata": {},
     "output_type": "execute_result"
    }
   ],
   "source": [
    "colonnes = [ colname(col) for col in df.columns  ]\n",
    "colonnes"
   ]
  },
  {
   "cell_type": "code",
   "execution_count": 19,
   "metadata": {
    "collapsed": true
   },
   "outputs": [],
   "source": [
    "# Renommer les colonnes de df"
   ]
  },
  {
   "cell_type": "code",
   "execution_count": 20,
   "metadata": {},
   "outputs": [
    {
     "data": {
      "text/plain": [
       "Index(['idbase', 'typeemplacement', 'domanialite', 'arrondissement',\n",
       "       'complementadresse', 'numero', 'lieu_adresse', 'idemplacement',\n",
       "       'libellefrancais', 'genre', 'espece', 'varieteoucultivar',\n",
       "       'circonferenceencm', 'hauteur_m', 'stadedeveloppement', 'remarquable',\n",
       "       'geo_point_2d'],\n",
       "      dtype='object')"
      ]
     },
     "execution_count": 20,
     "metadata": {},
     "output_type": "execute_result"
    }
   ],
   "source": [
    "df.columns = colonnes\n",
    "df.columns"
   ]
  },
  {
   "cell_type": "markdown",
   "metadata": {},
   "source": [
    "# et maintenant je peut acceder aux valeurs d'une colonne par\n",
    "\n",
    "* df.typeemplacement\n",
    "\n",
    "ou \n",
    "\n",
    "* df['typeemplacement']\n",
    "\n"
   ]
  },
  {
   "cell_type": "code",
   "execution_count": 23,
   "metadata": {},
   "outputs": [
    {
     "data": {
      "text/plain": [
       "0         Arbre\n",
       "1         Arbre\n",
       "2         Arbre\n",
       "3         Arbre\n",
       "4         Arbre\n",
       "5         Arbre\n",
       "6         Arbre\n",
       "7         Arbre\n",
       "8         Arbre\n",
       "9         Arbre\n",
       "10        Arbre\n",
       "11        Arbre\n",
       "12        Arbre\n",
       "13        Arbre\n",
       "14        Arbre\n",
       "15        Arbre\n",
       "16        Arbre\n",
       "17        Arbre\n",
       "18        Arbre\n",
       "19        Arbre\n",
       "20        Arbre\n",
       "21        Arbre\n",
       "22        Arbre\n",
       "23        Arbre\n",
       "24        Arbre\n",
       "25        Arbre\n",
       "26        Arbre\n",
       "27        Arbre\n",
       "28        Arbre\n",
       "29        Arbre\n",
       "          ...  \n",
       "200302    Arbre\n",
       "200303    Arbre\n",
       "200304    Arbre\n",
       "200305    Arbre\n",
       "200306    Arbre\n",
       "200307    Arbre\n",
       "200308    Arbre\n",
       "200309    Arbre\n",
       "200310    Arbre\n",
       "200311    Arbre\n",
       "200312    Arbre\n",
       "200313    Arbre\n",
       "200314    Arbre\n",
       "200315    Arbre\n",
       "200316    Arbre\n",
       "200317    Arbre\n",
       "200318    Arbre\n",
       "200319    Arbre\n",
       "200320    Arbre\n",
       "200321    Arbre\n",
       "200322    Arbre\n",
       "200323    Arbre\n",
       "200324    Arbre\n",
       "200325    Arbre\n",
       "200326    Arbre\n",
       "200327    Arbre\n",
       "200328    Arbre\n",
       "200329    Arbre\n",
       "200330    Arbre\n",
       "200331    Arbre\n",
       "Name: typeemplacement, Length: 200332, dtype: object"
      ]
     },
     "execution_count": 23,
     "metadata": {},
     "output_type": "execute_result"
    }
   ],
   "source": [
    "df.typeemplacement"
   ]
  },
  {
   "cell_type": "code",
   "execution_count": null,
   "metadata": {
    "collapsed": true
   },
   "outputs": [],
   "source": []
  }
 ],
 "metadata": {
  "kernelspec": {
   "display_name": "Python 3",
   "language": "python",
   "name": "python3"
  },
  "language_info": {
   "codemirror_mode": {
    "name": "ipython",
    "version": 3
   },
   "file_extension": ".py",
   "mimetype": "text/x-python",
   "name": "python",
   "nbconvert_exporter": "python",
   "pygments_lexer": "ipython3",
   "version": "3.6.2"
  }
 },
 "nbformat": 4,
 "nbformat_minor": 2
}
