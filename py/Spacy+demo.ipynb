{
 "cells": [
  {
   "cell_type": "markdown",
   "metadata": {},
   "source": [
    "# Install de spacy\n",
    "\n",
    "\n",
    "## Windows : \n",
    "\n",
    "anaconda forge -> click droit executer en tant qu'administrateur\n",
    "\n",
    "\n",
    "### dans la console\n",
    "\n",
    "> conda config --add channels conda-forge\n",
    "\n",
    "> conda install spacy\n",
    "\n",
    "> python -m spacy download en\n",
    "\n",
    "\n"
   ]
  },
  {
   "cell_type": "code",
   "execution_count": 1,
   "metadata": {
    "collapsed": true
   },
   "outputs": [],
   "source": [
    "import spacy\n",
    "nlp= spacy.load('fr')"
   ]
  },
  {
   "cell_type": "code",
   "execution_count": 4,
   "metadata": {},
   "outputs": [
    {
     "data": {
      "text/plain": [
       "'fr'"
      ]
     },
     "execution_count": 4,
     "metadata": {},
     "output_type": "execute_result"
    }
   ],
   "source": [
    "nlp.lang"
   ]
  },
  {
   "cell_type": "code",
   "execution_count": 7,
   "metadata": {
    "collapsed": true
   },
   "outputs": [],
   "source": [
    "text = \"Pendant quelques jours, le Nautilus s’écarta constamment de la côte américaine. Il ne voulait pas, évidemment, fréquenter les flots du golfe du Mexique ou de la mer des Antilles. Cependant, l’eau n’eût pas manqué sous sa quille, puisque la profondeur moyenne de ces mers est de dix-huit cents mètres; mais, probablement ces parages, semés d’îles et sillonnés de steamers, ne convenaient pas au capitaine Nemo.\""
   ]
  },
  {
   "cell_type": "code",
   "execution_count": 8,
   "metadata": {},
   "outputs": [
    {
     "data": {
      "text/plain": [
       "'Pendant quelques jours, le Nautilus s’écarta constamment de la côte américaine. Il ne voulait pas, évidemment, fréquenter les flots du golfe du Mexique ou de la mer des Antilles. Cependant, l’eau n’eût pas manqué sous sa quille, puisque la profondeur moyenne de ces mers est de dix-huit cents mètres; mais, probablement ces parages, semés d’îles et sillonnés de steamers, ne convenaient pas au capitaine Nemo.'"
      ]
     },
     "execution_count": 8,
     "metadata": {},
     "output_type": "execute_result"
    }
   ],
   "source": [
    "text"
   ]
  },
  {
   "cell_type": "code",
   "execution_count": 9,
   "metadata": {
    "collapsed": true
   },
   "outputs": [],
   "source": [
    "doc = nlp(text)"
   ]
  },
  {
   "cell_type": "code",
   "execution_count": 10,
   "metadata": {},
   "outputs": [
    {
     "data": {
      "text/plain": [
       "(Nautilus, golfe du Mexique, mer des Antilles, capitaine Nemo)"
      ]
     },
     "execution_count": 10,
     "metadata": {},
     "output_type": "execute_result"
    }
   ],
   "source": [
    "doc.ents\n"
   ]
  },
  {
   "cell_type": "code",
   "execution_count": 12,
   "metadata": {},
   "outputs": [
    {
     "name": "stdout",
     "output_type": "stream",
     "text": [
      "Nautilus LOC\n",
      "golfe du Mexique LOC\n",
      "mer des Antilles LOC\n",
      "capitaine Nemo PER\n"
     ]
    }
   ],
   "source": [
    "for entity in doc.ents:\n",
    "    print(entity.text, entity.label_)"
   ]
  },
  {
   "cell_type": "code",
   "execution_count": 14,
   "metadata": {},
   "outputs": [],
   "source": [
    "text = \"À la suite du bombardement de Guernica, le 26 avril 1937 pendant la guerre civile espagnole, Picasso est horrifié par ce crime et se lance dans la création d'une de ses œuvres les plus célèbres : Guernica. Il dit : « Cette peinture n’est pas faite pour décorer les appartements. C’est un instrument de guerre, offensif et défensif contre l’ennemi. » Elle symbolise toute l'horreur de la guerre et la colère ressentie par Picasso à la mort de nombreuses victimes innocentes, causée par le bombardement des avions nazis à la demande du général Franco. Guernica est exposé dans le Pavillon espagnol de l'Exposition internationale à Paris en 1937. Cette même année Picasso demande sa naturalisation, ce qui lui est refusé; il ne redemandera plus jamais la nationalité française.\""
   ]
  },
  {
   "cell_type": "code",
   "execution_count": 15,
   "metadata": {},
   "outputs": [
    {
     "name": "stdout",
     "output_type": "stream",
     "text": [
      "bombardement de Guernica MISC\n",
      "Picasso PER\n",
      "Guernica PER\n",
      "C’ MISC\n",
      "Picasso PER\n",
      "général Franco PER\n",
      "Guernica LOC\n",
      "Pavillon LOC\n",
      "Exposition internationale à Paris MISC\n",
      "Picasso PER\n"
     ]
    }
   ],
   "source": [
    "doc = nlp(text)\n",
    "for entity in doc.ents:\n",
    "    print(entity.text, entity.label_)"
   ]
  },
  {
   "cell_type": "code",
   "execution_count": 16,
   "metadata": {},
   "outputs": [
    {
     "name": "stdout",
     "output_type": "stream",
     "text": [
      "À la suite du bombardement de Guernica, le 26 avril 1937 pendant la guerre civile espagnole, Picasso est horrifié par ce crime et se lance dans la création d'une de ses œuvres les plus célèbres : Guernica. Il dit : « Cette peinture n’est pas faite pour décorer les appartements. C’est un instrument de guerre, offensif et défensif contre l’ennemi. » Elle symbolise toute l'horreur de la guerre et la colère ressentie par Picasso à la mort de nombreuses victimes innocentes, causée par le bombardement des avions nazis à la demande du général Franco. Guernica est exposé dans le Pavillon espagnol de l'Exposition internationale à Paris en 1937. Cette même année Picasso demande sa naturalisation, ce qui lui est refusé ; il ne redemandera plus jamais la nationalité française.\n"
     ]
    }
   ],
   "source": []
  },
  {
   "cell_type": "code",
   "execution_count": 20,
   "metadata": {},
   "outputs": [
    {
     "name": "stdout",
     "output_type": "stream",
     "text": [
      "Pendant quelques jours, le Nautilus s’écarta constamment de la côte américaine.\n"
     ]
    }
   ],
   "source": [
    "text = \"Pendant quelques jours, le Nautilus s’écarta constamment de la côte américaine.\"\n",
    "print(text)"
   ]
  },
  {
   "cell_type": "code",
   "execution_count": 21,
   "metadata": {},
   "outputs": [
    {
     "name": "stdout",
     "output_type": "stream",
     "text": [
      "----------\n",
      "Pendant\n",
      "pendant\n",
      "ADP\n",
      "ADP___\n",
      "case\n",
      "Xxxxx\n",
      "True\n",
      "False\n",
      "----------\n",
      "quelques\n",
      "quelque\n",
      "DET\n",
      "DET__Definite=Ind|Number=Plur|PronType=Art\n",
      "det\n",
      "xxxx\n",
      "True\n",
      "True\n",
      "----------\n",
      "jours\n",
      "jour\n",
      "NOUN\n",
      "NOUN__Gender=Masc|Number=Plur\n",
      "obl\n",
      "xxxx\n",
      "True\n",
      "False\n",
      "----------\n",
      ",\n",
      ",\n",
      "PUNCT\n",
      "PUNCT___\n",
      "punct\n",
      ",\n",
      "False\n",
      "False\n",
      "----------\n",
      "le\n",
      "le\n",
      "DET\n",
      "DET__Definite=Def|Gender=Masc|Number=Sing|PronType=Art\n",
      "det\n",
      "xx\n",
      "True\n",
      "True\n",
      "----------\n",
      "Nautilus\n",
      "nautilus\n",
      "PROPN\n",
      "PROPN__Gender=Masc|Number=Sing\n",
      "nsubj\n",
      "Xxxxx\n",
      "True\n",
      "False\n",
      "----------\n",
      "s’\n",
      "s’\n",
      "AUX\n",
      "AUX__Mood=Sub|Number=Sing|Person=3|Tense=Pres|VerbForm=Fin\n",
      "amod\n",
      "x’\n",
      "False\n",
      "False\n",
      "----------\n",
      "écarta\n",
      "écarter\n",
      "ADJ\n",
      "ADJ__Gender=Masc|Number=Sing\n",
      "ROOT\n",
      "xxxx\n",
      "True\n",
      "False\n",
      "----------\n",
      "constamment\n",
      "constamment\n",
      "ADV\n",
      "ADV___\n",
      "advmod\n",
      "xxxx\n",
      "True\n",
      "False\n",
      "----------\n",
      "de\n",
      "de\n",
      "ADP\n",
      "ADP___\n",
      "case\n",
      "xx\n",
      "True\n",
      "True\n",
      "----------\n",
      "la\n",
      "le\n",
      "DET\n",
      "DET__Definite=Def|Gender=Fem|Number=Sing|PronType=Art\n",
      "det\n",
      "xx\n",
      "True\n",
      "True\n",
      "----------\n",
      "côte\n",
      "côte\n",
      "NOUN\n",
      "NOUN__Gender=Fem|Number=Sing\n",
      "obl\n",
      "xxxx\n",
      "True\n",
      "False\n",
      "----------\n",
      "américaine\n",
      "américain\n",
      "ADJ\n",
      "ADJ__Gender=Fem|Number=Sing\n",
      "amod\n",
      "xxxx\n",
      "True\n",
      "False\n",
      "----------\n",
      ".\n",
      ".\n",
      "PUNCT\n",
      "PUNCT___\n",
      "punct\n",
      ".\n",
      "False\n",
      "False\n"
     ]
    }
   ],
   "source": [
    "doc = nlp(text)\n",
    "\n",
    "for token in doc:\n",
    "    print(\"--\"*5) \n",
    "    print(token.text) \n",
    "    print(token.lemma_ ) \n",
    "    print(token.pos_ ) \n",
    "    print( token.tag_ ) \n",
    "    print( token.dep_ ) \n",
    "    print( token.shape_ ) \n",
    "    print( token.is_alpha ) \n",
    "    print( token.is_stop)\n",
    "doc = nlp(text)\n",
    "\n",
    "    "
   ]
  },
  {
   "cell_type": "code",
   "execution_count": 24,
   "metadata": {},
   "outputs": [
    {
     "name": "stdout",
     "output_type": "stream",
     "text": [
      "separation separation separation =========================\n"
     ]
    }
   ],
   "source": [
    "print(\"separation \" * 3 + \"=\" * 25  )"
   ]
  },
  {
   "cell_type": "code",
   "execution_count": 31,
   "metadata": {},
   "outputs": [
    {
     "data": {
      "text/plain": [
       "array([ 0.49327871,  0.15483682, -1.23879707, -0.88885975,  0.49707231,\n",
       "        0.18061011,  0.46646881, -0.15508994,  0.05695033, -1.52624047,\n",
       "       -1.24374282,  0.99336803,  1.26844764, -1.57021964, -0.58260918,\n",
       "       -0.41430187,  0.25355402,  0.03840523,  0.19684148,  0.87543142,\n",
       "       -0.46606725,  0.44388279,  1.35773444, -0.78990418,  0.76369298,\n",
       "        0.99777013,  0.85023028,  0.40337569, -0.49409983,  0.96219623,\n",
       "       -0.16673024,  1.24722469,  0.52699137, -0.69419813,  0.70825833,\n",
       "       -0.26726037, -1.16414285,  0.45809379, -0.35727924,  2.17085195,\n",
       "        0.43976465,  1.75067413,  0.13641371, -1.99298608,  1.24800563,\n",
       "       -0.16045454, -0.62194687, -0.1099007 , -1.50638211,  1.27421081,\n",
       "       -1.82226956,  2.18439913,  0.88823408,  1.77591264,  0.20722735,\n",
       "        0.65340316,  1.99441266, -1.84380782, -0.28770146,  0.52070755,\n",
       "       -0.36445934, -1.35209644, -1.66968596,  1.10274303, -2.52499938,\n",
       "       -0.63729328, -0.67467719, -0.06050944, -1.4696939 , -0.15750416,\n",
       "       -0.76721662,  2.59597635, -2.91194749,  0.54906911,  1.55547225,\n",
       "       -1.08663058, -0.22668348,  0.31581014,  0.09713455, -1.85635722,\n",
       "        2.23667932, -0.76613003, -1.99965978, -1.14751232,  0.51872432,\n",
       "       -0.32781938,  0.89437103,  0.92995375,  0.51687402,  1.01974964,\n",
       "        0.31398875,  0.22112486,  0.94563007, -0.05370753,  0.5992406 ,\n",
       "       -0.39944321, -0.61911392,  1.32644725, -0.44355878,  0.71672666,\n",
       "        2.17067719, -1.85801661, -0.93240231, -2.18288302, -1.39313293,\n",
       "       -0.66634315, -1.57365668,  1.51665556,  1.99389052, -0.01488066,\n",
       "        0.61390841, -0.81765759, -2.33039546,  1.41955292, -2.07238078,\n",
       "        0.73025304,  0.80927223, -0.52323455, -0.22565973,  1.36214328,\n",
       "        0.15189981,  1.55829942, -0.89789003, -0.14235905, -0.58464956,\n",
       "        0.59904909, -0.18619061, -0.12229858,  0.37410206,  0.84611219,\n",
       "        0.1152242 , -0.50549144, -0.03148959,  0.95658624, -0.36066216,\n",
       "       -0.29561353,  1.09583342, -0.05164706, -0.73582119, -0.0816291 ,\n",
       "       -0.24233475,  0.23988576, -0.02240669,  0.02942488, -0.41684312,\n",
       "       -0.54377043, -0.78670657, -0.34249216,  0.36516809,  0.28952566,\n",
       "        0.51139373,  0.06058233, -0.1782148 ,  0.13691041,  0.00834316,\n",
       "       -0.62414056, -0.50119996, -0.27744287,  0.19177568,  0.28206822,\n",
       "       -0.29680938,  0.83094567, -0.54181701,  0.4383378 ,  1.79462647,\n",
       "        0.07428078,  0.09925202,  0.118137  , -0.18266067, -0.30127457,\n",
       "        0.05839142,  0.55618834,  0.15295717,  0.13908714,  0.21727373,\n",
       "        0.30738643, -0.87882918,  0.05983927, -0.38225248, -0.17752075,\n",
       "        0.51066875,  0.49049538, -0.23036893, -0.26229429, -0.04658154,\n",
       "        0.1736327 , -0.5039289 ,  0.09894972,  0.82008964,  0.07294048,\n",
       "       -0.01244066,  0.43560717,  0.42927435, -0.04612452, -0.49852198,\n",
       "        0.33537611, -0.49827585,  0.51987916,  0.61344689, -0.58931905,\n",
       "       -0.03497699, -0.29423684,  0.98700935,  0.63164169, -0.70927799,\n",
       "        0.27141693, -1.01092291,  0.55568928, -0.96283913, -1.27027965,\n",
       "        0.53005564,  0.22739847, -0.17798938,  0.20310012,  0.18964151,\n",
       "        0.03937181,  0.47055694, -0.33266568, -0.55769908,  0.06101578,\n",
       "       -0.12531866, -0.0450873 , -0.71110409, -0.42763773,  1.07679594,\n",
       "       -0.1614622 ,  0.07575643, -0.13200441, -0.1088016 , -0.14128856,\n",
       "       -0.24286591, -0.00643982, -0.17613907, -0.09945501,  0.46206775,\n",
       "        0.35608906,  0.42180401, -0.17365228, -1.27845573, -0.12018354,\n",
       "       -0.96650732, -0.63572121,  0.50132579, -0.72318226, -0.74619263,\n",
       "       -0.30703703,  0.30227774, -0.38457218,  0.11292231,  0.06104108,\n",
       "       -0.1370025 ,  0.96608955, -0.07797905,  0.79933745, -0.97747648,\n",
       "        0.27210644,  0.18324351, -0.11373959, -0.65185463, -0.9454757 ,\n",
       "       -1.00972164,  0.72225183,  0.12070731,  0.1179458 , -0.13539836,\n",
       "        0.79924852, -0.28342557, -0.06575296,  0.31620106, -0.82143325,\n",
       "       -0.38226968,  0.46259633, -0.66477925,  1.20846474,  0.0790512 ,\n",
       "       -0.49899217, -1.16245675, -1.36922097,  1.01006627,  0.44039425,\n",
       "        0.58117783, -0.11416145,  0.36689562,  1.31189156,  0.14155276,\n",
       "        0.12651825,  0.78046626,  1.31284904,  0.46881393,  0.46830064,\n",
       "       -0.34963581,  1.21543384, -0.50396532, -0.08888515,  0.2341857 ,\n",
       "        0.07942842, -0.83734733, -0.44844976,  1.15551436,  0.47890076,\n",
       "       -0.38743305,  0.12244544,  1.1014117 ,  0.81857735,  0.44166073,\n",
       "        0.15884669, -0.17903773,  0.2612496 , -0.14677599, -0.15819696,\n",
       "        1.11690819,  0.61786854, -0.55159467,  0.35421053,  0.19755922,\n",
       "        1.23272705, -0.61586475,  0.00949824, -0.42932627, -0.48517233,\n",
       "        0.65325242,  0.50137913,  0.85102612, -0.28736296,  2.61542368,\n",
       "        1.04533362,  0.2339578 , -0.68378401,  0.10858289,  0.12403977,\n",
       "       -0.35288939, -0.29146081, -0.39086249,  1.84652126,  0.17373   ,\n",
       "        0.44775364, -1.62736976, -0.70162857,  0.1769038 , -0.15458062,\n",
       "       -1.21371853,  1.15501773, -0.52303845, -1.08582211, -0.33982918,\n",
       "       -0.08928267,  0.96745145, -0.92875177, -0.06191491, -1.16449094,\n",
       "        0.49750137, -0.91863972, -1.18053246, -0.60423213, -0.54263484,\n",
       "        0.08375235,  0.4636316 , -1.22459793, -0.36457419, -0.24377699,\n",
       "       -0.1392698 ,  0.10088568, -0.09928303,  0.47371116, -0.56142706,\n",
       "       -0.81799787, -0.22188091,  0.45334265, -1.12506485, -0.54888117,\n",
       "        0.33304772,  0.73387164,  0.36614034, -0.17604408,  0.63218766,\n",
       "       -0.82314092,  0.5015443 , -0.88198501, -0.4374432 ,  1.73954034,\n",
       "        0.27115634, -0.4985413 , -0.72272927, -0.94939464], dtype=float32)"
      ]
     },
     "execution_count": 31,
     "metadata": {},
     "output_type": "execute_result"
    }
   ],
   "source": [
    "doc.vector"
   ]
  },
  {
   "cell_type": "code",
   "execution_count": 39,
   "metadata": {
    "collapsed": true
   },
   "outputs": [],
   "source": [
    "text_01 = \"Pendant quelques jours, le Nautilus s’écarta constamment de la côte américaine.\"\n",
    "text_02 = \"Pendant quelques jours, le bateau s’approcha de la côte armoricaine.\"\n",
    "text_03 = \"pour faire un clafoutis, aux pruneaux il faut des pruneaux\"\n",
    "text_04 = \"je traverse la rue et je vous trouve un boulot\"\n",
    "\n",
    "d1 = nlp(text_01)\n",
    "d2 = nlp(text_02)\n",
    "d3 = nlp(text_03)\n",
    "d4 = nlp(text_04)\n",
    "\n",
    "\n"
   ]
  },
  {
   "cell_type": "code",
   "execution_count": 40,
   "metadata": {},
   "outputs": [
    {
     "data": {
      "text/plain": [
       "0.86914812816472375"
      ]
     },
     "execution_count": 40,
     "metadata": {},
     "output_type": "execute_result"
    }
   ],
   "source": [
    "d1.similarity(d2)"
   ]
  },
  {
   "cell_type": "code",
   "execution_count": 41,
   "metadata": {},
   "outputs": [
    {
     "data": {
      "text/plain": [
       "0.86914812816472375"
      ]
     },
     "execution_count": 41,
     "metadata": {},
     "output_type": "execute_result"
    }
   ],
   "source": [
    "d2.similarity(d1)"
   ]
  },
  {
   "cell_type": "code",
   "execution_count": 42,
   "metadata": {},
   "outputs": [
    {
     "data": {
      "text/plain": [
       "0.59524390692687679"
      ]
     },
     "execution_count": 42,
     "metadata": {},
     "output_type": "execute_result"
    }
   ],
   "source": [
    "d3.similarity(d1)"
   ]
  },
  {
   "cell_type": "code",
   "execution_count": 44,
   "metadata": {},
   "outputs": [
    {
     "data": {
      "text/plain": [
       "0.29620271851000729"
      ]
     },
     "execution_count": 44,
     "metadata": {},
     "output_type": "execute_result"
    }
   ],
   "source": [
    "d4.similarity(d2)"
   ]
  },
  {
   "cell_type": "code",
   "execution_count": 45,
   "metadata": {
    "scrolled": true
   },
   "outputs": [
    {
     "name": "stdout",
     "output_type": "stream",
     "text": [
      "chien chien 1.0\n",
      "chien chat 0.527373\n",
      "chien banane 0.36317\n",
      "chat chien 0.527373\n",
      "chat chat 1.0\n",
      "chat banane 0.29934\n",
      "banane chien 0.36317\n",
      "banane chat 0.29934\n",
      "banane banane 1.0\n"
     ]
    }
   ],
   "source": [
    "tokens = nlp('chien chat banane')\n",
    "\n",
    "for token1 in tokens:\n",
    "    for token2 in tokens:\n",
    "        print(token1.text, token2.text, token1.similarity(token2))"
   ]
  },
  {
   "cell_type": "code",
   "execution_count": 46,
   "metadata": {},
   "outputs": [
    {
     "name": "stdout",
     "output_type": "stream",
     "text": [
      "\n",
      "Je Je nsubj viens\n",
      "\n",
      "une nouvelle machine à café, machine obj acheter\n",
      "\n",
      "elle elle nsubj range\n"
     ]
    }
   ],
   "source": [
    "text = \"Je viens d'acheter une nouvelle machine à café, elle se range dans l'armoire à glace.\"\n",
    "doc = nlp(text)\n",
    "for chunk in doc.noun_chunks:\n",
    "    print()\n",
    "    print(chunk.text, chunk.root.text, chunk.root.dep_, chunk.root.head.text)\n",
    "\n",
    "\n"
   ]
  },
  {
   "cell_type": "code",
   "execution_count": null,
   "metadata": {
    "collapsed": true
   },
   "outputs": [],
   "source": []
  }
 ],
 "metadata": {
  "kernelspec": {
   "display_name": "Python 3",
   "language": "python",
   "name": "python3"
  },
  "language_info": {
   "codemirror_mode": {
    "name": "ipython",
    "version": 3
   },
   "file_extension": ".py",
   "mimetype": "text/x-python",
   "name": "python",
   "nbconvert_exporter": "python",
   "pygments_lexer": "ipython3",
   "version": "3.6.2"
  }
 },
 "nbformat": 4,
 "nbformat_minor": 2
}
