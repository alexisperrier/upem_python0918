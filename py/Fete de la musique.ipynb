{
 "cells": [
  {
   "cell_type": "markdown",
   "metadata": {},
   "source": [
    "# la fete de la musique\n",
    "\n",
    "dataset provenant de :\n",
    "    \n"
   ]
  },
  {
   "cell_type": "code",
   "execution_count": 2,
   "metadata": {},
   "outputs": [
    {
     "name": "stderr",
     "output_type": "stream",
     "text": [
      "/Users/alexis/anaconda3/lib/python3.6/site-packages/IPython/core/interactiveshell.py:2698: DtypeWarning: Columns (6,12,66,69,70,71,72,73,82,86,94,98,106,110,118,122,130,134,142) have mixed types. Specify dtype option on import or set low_memory=False.\n",
      "  interactivity=interactivity, compiler=compiler, result=result)\n"
     ]
    }
   ],
   "source": [
    "import pandas as pd\n",
    "\n",
    "DATA_PATH = '/Users/alexis/amcp/upem/python0918/data/'\n",
    "df = pd.read_csv(DATA_PATH + 'fete-de-la-musique-2018.csv', error_bad_lines = False, delimiter = ';')"
   ]
  },
  {
   "cell_type": "code",
   "execution_count": 3,
   "metadata": {},
   "outputs": [
    {
     "data": {
      "text/plain": [
       "(4684, 179)"
      ]
     },
     "execution_count": 3,
     "metadata": {},
     "output_type": "execute_result"
    }
   ],
   "source": [
    "df.shape"
   ]
  },
  {
   "cell_type": "code",
   "execution_count": 4,
   "metadata": {},
   "outputs": [
    {
     "data": {
      "text/plain": [
       "Index(['Identifiant', 'Titre - FR', 'Titre - DE', 'Titre - EN', 'Titre - ES',\n",
       "       'Titre - IT', 'Titre - ZH', 'Description - FR', 'Description - DE',\n",
       "       'Description - EN',\n",
       "       ...\n",
       "       'Accès / Itinéraire - ID', 'Accès / Itinéraire - NL',\n",
       "       'Accès / Itinéraire - EU', 'Accès / Itinéraire - BS',\n",
       "       'Accès / Itinéraire - HR', 'Accès / Itinéraire - CS',\n",
       "       'Accès / Itinéraire - GL', 'Accès / Itinéraire - CO',\n",
       "       'Accès / Itinéraire - SH', 'geolocalisation'],\n",
       "      dtype='object', length=179)"
      ]
     },
     "execution_count": 4,
     "metadata": {},
     "output_type": "execute_result"
    }
   ],
   "source": [
    "df.columns"
   ]
  },
  {
   "cell_type": "code",
   "execution_count": null,
   "metadata": {
    "collapsed": true
   },
   "outputs": [],
   "source": []
  }
 ],
 "metadata": {
  "kernelspec": {
   "display_name": "Python 3",
   "language": "python",
   "name": "python3"
  },
  "language_info": {
   "codemirror_mode": {
    "name": "ipython",
    "version": 3
   },
   "file_extension": ".py",
   "mimetype": "text/x-python",
   "name": "python",
   "nbconvert_exporter": "python",
   "pygments_lexer": "ipython3",
   "version": "3.6.2"
  }
 },
 "nbformat": 4,
 "nbformat_minor": 2
}
