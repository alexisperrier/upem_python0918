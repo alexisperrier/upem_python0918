{
 "cells": [
  {
   "cell_type": "markdown",
   "metadata": {},
   "source": [
    "# Visualisation - arbres et arrondissements"
   ]
  },
  {
   "cell_type": "code",
   "execution_count": 22,
   "metadata": {},
   "outputs": [
    {
     "name": "stderr",
     "output_type": "stream",
     "text": [
      "b'Skipping line 1916: expected 17 fields, saw 18\\n'\n"
     ]
    }
   ],
   "source": [
    "import pandas as pd\n",
    "\n",
    "df = pd.read_csv('les-arbres.csv', sep=';', error_bad_lines = False)"
   ]
  },
  {
   "cell_type": "code",
   "execution_count": 23,
   "metadata": {},
   "outputs": [
    {
     "name": "stdout",
     "output_type": "stream",
     "text": [
      "(200332, 17)\n",
      "(199873, 17)\n",
      "(199738, 17)\n"
     ]
    }
   ],
   "source": [
    "# limiter la hauteur a 50m\n",
    "condition = df['HAUTEUR (m)'] < 50\n",
    "print(df.shape)\n",
    "df = df[condition]\n",
    "print(df.shape)\n",
    "\n",
    "# limiter la circonference a 500cm\n",
    "condition = df['CIRCONFERENCEENCM'] < 500\n",
    "\n",
    "df = df[condition]\n",
    "print(df.shape)\n",
    "\n"
   ]
  },
  {
   "cell_type": "code",
   "execution_count": 25,
   "metadata": {},
   "outputs": [
    {
     "name": "stdout",
     "output_type": "stream",
     "text": [
      "['PARIS 11E ARRDT' 'PARIS 18E ARRDT' 'PARIS 15E ARRDT' 'PARIS 14E ARRDT'\n",
      " 'PARIS 16E ARRDT' 'PARIS 7E ARRDT' 'PARIS 19E ARRDT' 'PARIS 20E ARRDT'\n",
      " 'PARIS 4E ARRDT' 'PARIS 12E ARRDT' 'PARIS 17E ARRDT' 'PARIS 8E ARRDT'\n",
      " 'PARIS 13E ARRDT' 'PARIS 6E ARRDT' 'PARIS 10E ARRDT' 'PARIS 3E ARRDT'\n",
      " 'PARIS 1ER ARRDT' 'PARIS 9E ARRDT' 'PARIS 5E ARRDT' 'PARIS 2E ARRDT']\n",
      "['PARIS 11E ARRDT' 'PARIS 18E ARRDT' 'PARIS 15E ARRDT' 'PARIS 14E ARRDT'\n",
      " 'PARIS 16E ARRDT' 'PARIS 7E ARRDT' 'PARIS 19E ARRDT' 'PARIS 20E ARRDT'\n",
      " 'PARIS 4E ARRDT' 'PARIS 12E ARRDT' 'PARIS 17E ARRDT' 'PARIS 8E ARRDT'\n",
      " 'PARIS 13E ARRDT' 'PARIS 6E ARRDT' 'PARIS 10E ARRDT' 'PARIS 3E ARRDT'\n",
      " 'PARIS 1ER ARRDT' 'PARIS 9E ARRDT' 'PARIS 5E ARRDT' 'PARIS 2E ARRDT']\n"
     ]
    }
   ],
   "source": [
    "# Ne garder que les arbres dans paris\n",
    "\n",
    "# liste de tous les arrondissements\n",
    "print(df['ARRONDISSEMENT'].unique())\n",
    "\n",
    "# condition l'ARRONDISSEMENT doit contenir le mot PARIS\n",
    "dans_paris = df['ARRONDISSEMENT'].str.contains('PARIS')\n",
    "\n",
    "# sous la condition \"dans_paris\", la liste de tous les arrondissements serait\n",
    "print(df[dans_paris]['ARRONDISSEMENT'].unique())\n",
    "\n",
    "# on restreint donc aux rangées qui verifient la condition dans_paris\n",
    "df = df[dans_paris]\n",
    "\n",
    "# reset de l'index\n",
    "df.reset_index(inplace = True, drop = True)"
   ]
  },
  {
   "cell_type": "code",
   "execution_count": null,
   "metadata": {},
   "outputs": [],
   "source": []
  },
  {
   "cell_type": "code",
   "execution_count": 27,
   "metadata": {},
   "outputs": [
    {
     "name": "stdout",
     "output_type": "stream",
     "text": [
      "\"C_ARINSEE\";\"L_AR\";\"SURFACE\";\"PERIMETRE\";\"OBJECTID\";\"LONGUEUR\"\r\n",
      "75102;\"2ème Ardt\";991153.74474596;4554.10435957;2;4553.93876373\r\n",
      "75103;\"3ème Ardt\";1170882.82818778;4519.26364836;3;4519.07198175\r\n",
      "75112;\"12ème Ardt\";16314782.6372674;24089.6662978;12;24088.03892205\r\n",
      "75101;\"1er Ardt\";1824612.86048666;6054.93686218;1;6054.68086176\r\n",
      "75104;\"4ème Ardt\";1600585.63150251;5420.90843368;4;5420.63677909\r\n",
      "75108;\"8ème Ardt\";3880036.39704363;7880.53326819;8;7880.26066073\r\n",
      "75114;\"14ème Ardt\";5614877.30907921;10317.4833099;14;10316.72025836\r\n",
      "75119;\"19ème Ardt\";6792651.12902648;11253.1824786;19;11252.94322851\r\n",
      "75120;\"20ème Ardt\";5983446.03718297;10704.9404863;20;10704.48377412\r\n",
      "75106;\"6ème Ardt\";2153095.58639283;6483.68678565;6;6483.32455954\r\n",
      "75109;\"9ème Ardt\";2178303.27487137;6471.5882901;9;6471.38914439\r\n",
      "75117;\"17ème Ardt\";5668834.50445393;10775.579516;17;10775.34891467\r\n",
      "75115;\"15ème Ardt\";8494994.08101075;13678.7983149;15;13677.92366106\r\n",
      "75105;\"5ème Ardt\";2539374.62284532;6239.19539614;5;6238.8234077\r\n",
      "75107;\"7ème Ardt\";4090057.18546976;8099.42488348;7;8099.03315106\r\n",
      "75110;\"10ème Ardt\";2891739.44162064;6739.37505466;10;6739.16835945\r\n",
      "75111;\"11ème Ardt\";3665441.55248808;8282.01188584;11;8281.63528771\r\n",
      "75113;\"13ème Ardt\";7149311.09107136;11546.5465264;13;11545.68698553\r\n",
      "75116;\"16ème Ardt\";16372542.1289739;17416.1096565;16;17415.32672605\r\n",
      "75118;\"18ème Ardt\";5996051.30811905;9916.46417634;18;9916.30382695\r\n"
     ]
    }
   ],
   "source": [
    "# regarder le fichiers arrondissement\n",
    "\n",
    "!cat arrondissements.csv\n",
    "\n"
   ]
  },
  {
   "cell_type": "code",
   "execution_count": 28,
   "metadata": {},
   "outputs": [],
   "source": [
    "# donc il faut ouvrir avec ; comme separateur\n",
    "\n",
    "arrdt = pd.read_csv(  'arrondissements.csv', sep = \";\")\n"
   ]
  },
  {
   "cell_type": "code",
   "execution_count": 29,
   "metadata": {},
   "outputs": [
    {
     "data": {
      "text/html": [
       "<div>\n",
       "<style scoped>\n",
       "    .dataframe tbody tr th:only-of-type {\n",
       "        vertical-align: middle;\n",
       "    }\n",
       "\n",
       "    .dataframe tbody tr th {\n",
       "        vertical-align: top;\n",
       "    }\n",
       "\n",
       "    .dataframe thead th {\n",
       "        text-align: right;\n",
       "    }\n",
       "</style>\n",
       "<table border=\"1\" class=\"dataframe\">\n",
       "  <thead>\n",
       "    <tr style=\"text-align: right;\">\n",
       "      <th></th>\n",
       "      <th>C_ARINSEE</th>\n",
       "      <th>L_AR</th>\n",
       "      <th>SURFACE</th>\n",
       "      <th>PERIMETRE</th>\n",
       "      <th>OBJECTID</th>\n",
       "      <th>LONGUEUR</th>\n",
       "    </tr>\n",
       "  </thead>\n",
       "  <tbody>\n",
       "    <tr>\n",
       "      <th>0</th>\n",
       "      <td>75102</td>\n",
       "      <td>2ème Ardt</td>\n",
       "      <td>9.911537e+05</td>\n",
       "      <td>4554.104360</td>\n",
       "      <td>2</td>\n",
       "      <td>4553.938764</td>\n",
       "    </tr>\n",
       "    <tr>\n",
       "      <th>1</th>\n",
       "      <td>75103</td>\n",
       "      <td>3ème Ardt</td>\n",
       "      <td>1.170883e+06</td>\n",
       "      <td>4519.263648</td>\n",
       "      <td>3</td>\n",
       "      <td>4519.071982</td>\n",
       "    </tr>\n",
       "    <tr>\n",
       "      <th>2</th>\n",
       "      <td>75112</td>\n",
       "      <td>12ème Ardt</td>\n",
       "      <td>1.631478e+07</td>\n",
       "      <td>24089.666298</td>\n",
       "      <td>12</td>\n",
       "      <td>24088.038922</td>\n",
       "    </tr>\n",
       "    <tr>\n",
       "      <th>3</th>\n",
       "      <td>75101</td>\n",
       "      <td>1er Ardt</td>\n",
       "      <td>1.824613e+06</td>\n",
       "      <td>6054.936862</td>\n",
       "      <td>1</td>\n",
       "      <td>6054.680862</td>\n",
       "    </tr>\n",
       "    <tr>\n",
       "      <th>4</th>\n",
       "      <td>75104</td>\n",
       "      <td>4ème Ardt</td>\n",
       "      <td>1.600586e+06</td>\n",
       "      <td>5420.908434</td>\n",
       "      <td>4</td>\n",
       "      <td>5420.636779</td>\n",
       "    </tr>\n",
       "  </tbody>\n",
       "</table>\n",
       "</div>"
      ],
      "text/plain": [
       "   C_ARINSEE        L_AR       SURFACE     PERIMETRE  OBJECTID      LONGUEUR\n",
       "0      75102   2ème Ardt  9.911537e+05   4554.104360         2   4553.938764\n",
       "1      75103   3ème Ardt  1.170883e+06   4519.263648         3   4519.071982\n",
       "2      75112  12ème Ardt  1.631478e+07  24089.666298        12  24088.038922\n",
       "3      75101    1er Ardt  1.824613e+06   6054.936862         1   6054.680862\n",
       "4      75104   4ème Ardt  1.600586e+06   5420.908434         4   5420.636779"
      ]
     },
     "execution_count": 29,
     "metadata": {},
     "output_type": "execute_result"
    }
   ],
   "source": [
    "arrdt.head()"
   ]
  },
  {
   "cell_type": "code",
   "execution_count": 33,
   "metadata": {},
   "outputs": [
    {
     "data": {
      "text/plain": [
       "C_ARINSEE      int64\n",
       "L_AR          object\n",
       "SURFACE      float64\n",
       "PERIMETRE    float64\n",
       "OBJECTID       int64\n",
       "LONGUEUR     float64\n",
       "dtype: object"
      ]
     },
     "execution_count": 33,
     "metadata": {},
     "output_type": "execute_result"
    }
   ],
   "source": [
    "arrdt.dtypes"
   ]
  },
  {
   "cell_type": "code",
   "execution_count": null,
   "metadata": {},
   "outputs": [],
   "source": [
    "dico = {'PARIS 11E ARRDT': '75111', \n",
    "        'PARIS 18E ARRDT': '75118', \n",
    "        'PARIS 15E ARRDT': '75115', \n",
    "        'PARIS 14E ARRDT': '75114',\n",
    "        'PARIS 16E ARRDT': '75116', \n",
    "        'PARIS 7E ARRDT': '75107', \n",
    "        'PARIS 19E ARRDT': '75119', \n",
    "        'PARIS 20E ARRDT': '75120', \n",
    "        'PARIS 4E ARRDT': '75104', \n",
    "        'PARIS 12E ARRDT': '75112', \n",
    "        'PARIS 17E ARRDT': '75117', \n",
    "        'PARIS 8E ARRDT': '75108', \n",
    "        'PARIS 13E ARRDT': '75113', \n",
    "        'PARIS 6E ARRDT': '75106', \n",
    "        'PARIS 10E ARRDT': '75110', \n",
    "        'PARIS 3E ARRDT': '75103', \n",
    "        'PARIS 1ER ARRDT': '75101', \n",
    "        'PARIS 9E ARRDT': '75109', \n",
    "        'PARIS 5E ARRDT': '75105', \n",
    "        'PARIS 2E ARRDT': '75102'\n",
    "       }\n"
   ]
  },
  {
   "cell_type": "markdown",
   "metadata": {},
   "source": [
    "Transformer les valeurs de df['ARRONDISSEMENT'] ('PARIS 8E ARRDT')  en '75108'"
   ]
  },
  {
   "cell_type": "code",
   "execution_count": 34,
   "metadata": {},
   "outputs": [
    {
     "data": {
      "text/plain": [
       "0         PARIS 11E ARRDT\n",
       "1         PARIS 18E ARRDT\n",
       "2         PARIS 15E ARRDT\n",
       "3         PARIS 14E ARRDT\n",
       "4         PARIS 16E ARRDT\n",
       "5          PARIS 7E ARRDT\n",
       "6         PARIS 19E ARRDT\n",
       "7         PARIS 20E ARRDT\n",
       "8          PARIS 4E ARRDT\n",
       "9         PARIS 15E ARRDT\n",
       "10        PARIS 19E ARRDT\n",
       "11        PARIS 18E ARRDT\n",
       "12        PARIS 15E ARRDT\n",
       "13        PARIS 12E ARRDT\n",
       "14        PARIS 12E ARRDT\n",
       "15        PARIS 16E ARRDT\n",
       "16        PARIS 17E ARRDT\n",
       "17        PARIS 15E ARRDT\n",
       "18        PARIS 16E ARRDT\n",
       "19        PARIS 16E ARRDT\n",
       "20        PARIS 16E ARRDT\n",
       "21        PARIS 15E ARRDT\n",
       "22        PARIS 11E ARRDT\n",
       "23         PARIS 8E ARRDT\n",
       "24        PARIS 18E ARRDT\n",
       "25        PARIS 20E ARRDT\n",
       "26        PARIS 12E ARRDT\n",
       "27        PARIS 13E ARRDT\n",
       "28        PARIS 13E ARRDT\n",
       "29        PARIS 15E ARRDT\n",
       "               ...       \n",
       "159801    PARIS 14E ARRDT\n",
       "159802    PARIS 14E ARRDT\n",
       "159803    PARIS 16E ARRDT\n",
       "159804    PARIS 20E ARRDT\n",
       "159805    PARIS 15E ARRDT\n",
       "159806    PARIS 15E ARRDT\n",
       "159807    PARIS 16E ARRDT\n",
       "159808    PARIS 15E ARRDT\n",
       "159809    PARIS 16E ARRDT\n",
       "159810    PARIS 10E ARRDT\n",
       "159811    PARIS 11E ARRDT\n",
       "159812    PARIS 12E ARRDT\n",
       "159813    PARIS 12E ARRDT\n",
       "159814    PARIS 12E ARRDT\n",
       "159815     PARIS 5E ARRDT\n",
       "159816     PARIS 8E ARRDT\n",
       "159817     PARIS 8E ARRDT\n",
       "159818    PARIS 15E ARRDT\n",
       "159819    PARIS 15E ARRDT\n",
       "159820    PARIS 16E ARRDT\n",
       "159821     PARIS 7E ARRDT\n",
       "159822     PARIS 8E ARRDT\n",
       "159823     PARIS 8E ARRDT\n",
       "159824    PARIS 10E ARRDT\n",
       "159825    PARIS 19E ARRDT\n",
       "159826    PARIS 13E ARRDT\n",
       "159827    PARIS 12E ARRDT\n",
       "159828    PARIS 14E ARRDT\n",
       "159829    PARIS 12E ARRDT\n",
       "159830    PARIS 13E ARRDT\n",
       "Name: ARRONDISSEMENT, Length: 159831, dtype: object"
      ]
     },
     "execution_count": 34,
     "metadata": {},
     "output_type": "execute_result"
    }
   ],
   "source": [
    "df['ARRONDISSEMENT']"
   ]
  },
  {
   "cell_type": "code",
   "execution_count": null,
   "metadata": {},
   "outputs": [],
   "source": []
  }
 ],
 "metadata": {
  "kernelspec": {
   "display_name": "Python 3",
   "language": "python",
   "name": "python3"
  },
  "language_info": {
   "codemirror_mode": {
    "name": "ipython",
    "version": 3
   },
   "file_extension": ".py",
   "mimetype": "text/x-python",
   "name": "python",
   "nbconvert_exporter": "python",
   "pygments_lexer": "ipython3",
   "version": "3.6.5"
  }
 },
 "nbformat": 4,
 "nbformat_minor": 2
}
