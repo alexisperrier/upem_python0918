{
 "cells": [
  {
   "cell_type": "markdown",
   "metadata": {},
   "source": [
    "# Fonction\n",
    "\n",
    "Cette fonction prends un texte et retourne la liste des mots uniques du texte\n"
   ]
  },
  {
   "cell_type": "code",
   "execution_count": 10,
   "metadata": {},
   "outputs": [],
   "source": [
    "\n",
    "def mots_uniques(texte):\n",
    "    '''\n",
    "    Cette fonction prends un texte et retourne la liste des mots uniques du texte\n",
    "    '''\n",
    "    \n",
    "    liste_des_mots = texte.split(' ')\n",
    "    \n",
    "    liste_des_mots_uniques = list( set(liste_des_mots) )\n",
    "    \n",
    "    return liste_des_mots_uniques\n"
   ]
  },
  {
   "cell_type": "code",
   "execution_count": 11,
   "metadata": {},
   "outputs": [],
   "source": [
    "# J'appelle la fonction\n",
    "\n",
    "texte = '''Il en est un plus laid, plus méchant, plus immonde!\n",
    "  Quoiqu il ne pousse ni grands gestes ni grands cris,\n",
    "  Il ferait volontiers de la terre un débris\n",
    "  Et dans un bâillement avalerait le monde'''\n",
    "\n",
    "resultat = mots_uniques(texte)"
   ]
  },
  {
   "cell_type": "code",
   "execution_count": 13,
   "metadata": {},
   "outputs": [
    {
     "data": {
      "text/plain": [
       "['',\n",
       " 'Quoiqu',\n",
       " 'grands',\n",
       " 'le',\n",
       " 'débris\\n',\n",
       " 'pousse',\n",
       " 'ne',\n",
       " 'gestes',\n",
       " 'terre',\n",
       " 'Et',\n",
       " 'Il',\n",
       " 'méchant,',\n",
       " 'monde',\n",
       " 'laid,',\n",
       " 'cris,\\n',\n",
       " 'ni',\n",
       " 'la',\n",
       " 'il',\n",
       " 'de',\n",
       " 'bâillement',\n",
       " 'dans',\n",
       " 'immonde!\\n',\n",
       " 'est',\n",
       " 'avalerait',\n",
       " 'ferait',\n",
       " 'plus',\n",
       " 'un',\n",
       " 'volontiers',\n",
       " 'en']"
      ]
     },
     "execution_count": 13,
     "metadata": {},
     "output_type": "execute_result"
    }
   ],
   "source": [
    "resultat"
   ]
  },
  {
   "cell_type": "code",
   "execution_count": 68,
   "metadata": {},
   "outputs": [],
   "source": [
    "def voyelle_ou_consonne(lettre):\n",
    "    \n",
    "    voyelles = 'aeiouy'\n",
    "\n",
    "    if (type(lettre) == str) & (len(str(lettre)) == 1) :\n",
    "        \n",
    "        if lettre in voyelles:\n",
    "            return \"c'est une voyelle\"\n",
    "        elif lettre in string.digits:\n",
    "            return \"c'est un nombre\"\n",
    "        else:\n",
    "            return \"c'est une consonne\"\n",
    "\n",
    "    else:\n",
    "        return \"mauvais input\"\n",
    "    \n",
    "    \n",
    "# resultats attendus\n",
    "assert (voyelle_ou_consonne('a') == \"c'est une voyelle\"), \"il y a une erreur\"      \n",
    "assert (voyelle_ou_consonne('b') == \"c'est une consonne\"), \"il y a une erreur\"      \n",
    "\n",
    "# cas non prevu\n",
    "assert (voyelle_ou_consonne('4') == \"c'est un nombre\"), \"il y a une erreur\"      \n",
    "assert (voyelle_ou_consonne(1)   == \"mauvais input\"), \"il y a une erreur\"      \n",
    "\n"
   ]
  },
  {
   "cell_type": "code",
   "execution_count": 58,
   "metadata": {},
   "outputs": [
    {
     "data": {
      "text/plain": [
       "\"c'est un nombre\""
      ]
     },
     "execution_count": 58,
     "metadata": {},
     "output_type": "execute_result"
    }
   ],
   "source": [
    "voyelle_ou_consonne('1')\n"
   ]
  },
  {
   "cell_type": "code",
   "execution_count": 59,
   "metadata": {},
   "outputs": [
    {
     "data": {
      "text/plain": [
       "'0123456789'"
      ]
     },
     "execution_count": 59,
     "metadata": {},
     "output_type": "execute_result"
    }
   ],
   "source": [
    "import string\n",
    "\n",
    "string.digits\n"
   ]
  },
  {
   "cell_type": "code",
   "execution_count": 60,
   "metadata": {},
   "outputs": [
    {
     "data": {
      "text/plain": [
       "'mauvais input'"
      ]
     },
     "execution_count": 60,
     "metadata": {},
     "output_type": "execute_result"
    }
   ],
   "source": [
    "voyelle_ou_consonne('bonjour')"
   ]
  },
  {
   "attachments": {},
   "cell_type": "markdown",
   "metadata": {},
   "source": [
    "# fonction 2\n",
    "\n",
    "Ecrire une fonction qui prends une *string* en entree et un *int*  \n",
    "et qui en enleve tous les mots plus court que ce nombre (n).\n",
    "\n",
    "    def enlever_mots_courts(texte, n):\n",
    "        \n",
    "        \n",
    "\n",
    "par exemple:\n",
    "\n",
    "    enlever_mots_courts(\"il fait beau mais il pleut\", 3)\n",
    "\n",
    "retourne\n",
    "\n",
    "\"fait beau mais pleut\"\n",
    "\n",
    "\n",
    "    enlever_mots_courts(\"je manque d'inspiration mais on va y arriver\", 5)\n",
    "    \n",
    "\"*manque d'inspiration arriver*\"\n",
    "\n",
    "\n",
    "\n",
    "\n",
    "\n",
    "\n"
   ]
  },
  {
   "cell_type": "code",
   "execution_count": 65,
   "metadata": {},
   "outputs": [],
   "source": [
    "def enlever_mots_courts(texte, n):\n",
    "    liste_des_mots = texte.split(' ')\n",
    "\n",
    "    for mot in liste_des_mots:\n",
    "        if len(mot) <= n:\n",
    "            liste_des_mots.remove(mot)\n",
    "            \n",
    "    return ' '.join(liste_des_mots)\n",
    "\n",
    "\n",
    "# test\n",
    "# assert condition, \"message d'erreur\"\n",
    "\n",
    "assert( enlever_mots_courts(\"le café est trop chaud\", 3)  == \"café trop chaud\" ), \"Y'a un bug\"\n",
    "        \n",
    "\n",
    "    "
   ]
  },
  {
   "cell_type": "code",
   "execution_count": 66,
   "metadata": {},
   "outputs": [
    {
     "data": {
      "text/plain": [
       "'café trop chaud'"
      ]
     },
     "execution_count": 66,
     "metadata": {},
     "output_type": "execute_result"
    }
   ],
   "source": [
    "enlever_mots_courts(\"le café est trop chaud\", 3)"
   ]
  },
  {
   "cell_type": "code",
   "execution_count": 63,
   "metadata": {},
   "outputs": [],
   "source": [
    "def enlever_mots_courts(texte, n):\n",
    "    liste_des_mots = texte.split(' ')\n",
    "\n",
    "    liste_mots_longs = []\n",
    "\n",
    "    for mot in liste_des_mots:\n",
    "        if len(mot) > n:\n",
    "            liste_mots_longs.append(mot)\n",
    "            \n",
    "    return ' '.join(liste_mots_longs)\n",
    "\n",
    "assert (enlever_mots_courts(\"le café est trop chaud\", 3)  ==\"café trop chaud\" ), \"Y'a un bug\"\n"
   ]
  },
  {
   "cell_type": "code",
   "execution_count": null,
   "metadata": {},
   "outputs": [],
   "source": []
  }
 ],
 "metadata": {
  "kernelspec": {
   "display_name": "Python 3",
   "language": "python",
   "name": "python3"
  },
  "language_info": {
   "codemirror_mode": {
    "name": "ipython",
    "version": 3
   },
   "file_extension": ".py",
   "mimetype": "text/x-python",
   "name": "python",
   "nbconvert_exporter": "python",
   "pygments_lexer": "ipython3",
   "version": "3.6.5"
  }
 },
 "nbformat": 4,
 "nbformat_minor": 2
}
