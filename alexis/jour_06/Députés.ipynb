{
 "cells": [
  {
   "cell_type": "markdown",
   "metadata": {},
   "source": [
    "# dataset les députés actifs\n",
    "\n",
    "Le dataset les deputes.zip contient les nom et infos des deputes actifs\n",
    "\n",
    "Chaque député a un fichier csv qui lui est propre dans le repertoire ./acteur/ (au lieu d'avoir un unique fichier avec tous les députés)\n",
    "\n",
    "Le but est d'aggreger tous les fichiers dans un seul fichier final\n",
    "\n",
    "\n",
    "0. dezipper le fichier deputes.zip\n",
    "1. Creer une dataframe vide qui sera la df principale\n",
    "\n",
    "    ouvrir un des fichiers pour initialiser la df principale\n",
    "\n",
    "1. Parcourir le repertoire ./acteur\n",
    "\n",
    "2. Pour chaque fichier rencontré\n",
    "    1. charger les infos dans une dataframe\n",
    "    2. ajouter la nouvelle dataframe à la df principale\n",
    "\n",
    "utiliser pour cela la fonction\n",
    "\n",
    "        pd.concat()\n",
    "  \n",
    "3. sauver la dataframe finale dans un fichier csv avec la fonction\n",
    "        df.to_csv(filename)\n",
    "\n",
    "Attention:\n",
    "\n",
    "* aux colonnes qui sont surement mal nommées\n",
    "* a l'index des dataframes\n",
    "\n"
   ]
  },
  {
   "cell_type": "code",
   "execution_count": 4,
   "metadata": {},
   "outputs": [],
   "source": [
    "import zipfile\n",
    "with zipfile.ZipFile(\"deputes_actifs.zip\",\"r\") as zip_ref:\n",
    "    zip_ref.extractall(\"./\")\n"
   ]
  },
  {
   "cell_type": "code",
   "execution_count": 49,
   "metadata": {},
   "outputs": [
    {
     "data": {
      "text/html": [
       "<div>\n",
       "<style scoped>\n",
       "    .dataframe tbody tr th:only-of-type {\n",
       "        vertical-align: middle;\n",
       "    }\n",
       "\n",
       "    .dataframe tbody tr th {\n",
       "        vertical-align: top;\n",
       "    }\n",
       "\n",
       "    .dataframe thead th {\n",
       "        text-align: right;\n",
       "    }\n",
       "</style>\n",
       "<table border=\"1\" class=\"dataframe\">\n",
       "  <thead>\n",
       "    <tr style=\"text-align: right;\">\n",
       "      <th></th>\n",
       "      <th>Unnamed: 0</th>\n",
       "      <th>uid[1]</th>\n",
       "      <th>uid[1]@xsi:type</th>\n",
       "      <th>etatCivil[1]</th>\n",
       "      <th>etatCivil[1]/ident[1]</th>\n",
       "      <th>etatCivil[1]/ident[1]/civ[1]</th>\n",
       "      <th>etatCivil[1]/ident[1]/prenom[1]</th>\n",
       "      <th>etatCivil[1]/ident[1]/nom[1]</th>\n",
       "      <th>etatCivil[1]/ident[1]/alpha[1]</th>\n",
       "      <th>etatCivil[1]/ident[1]/trigramme[1]</th>\n",
       "      <th>...</th>\n",
       "      <th>mandats[1]/mandat[19]/datePublication[1]</th>\n",
       "      <th>mandats[1]/mandat[19]/dateFin[1]</th>\n",
       "      <th>mandats[1]/mandat[19]/preseance[1]</th>\n",
       "      <th>mandats[1]/mandat[19]/nominPrincipale[1]</th>\n",
       "      <th>mandats[1]/mandat[19]/infosQualite[1]</th>\n",
       "      <th>mandats[1]/mandat[19]/infosQualite[1]/codeQualite[1]</th>\n",
       "      <th>mandats[1]/mandat[19]/infosQualite[1]/libQualite[1]</th>\n",
       "      <th>mandats[1]/mandat[19]/infosQualite[1]/libQualiteSex[1]</th>\n",
       "      <th>mandats[1]/mandat[19]/organes[1]</th>\n",
       "      <th>mandats[1]/mandat[19]/organes[1]/organeRef[1]</th>\n",
       "    </tr>\n",
       "  </thead>\n",
       "  <tbody>\n",
       "    <tr>\n",
       "      <th>0</th>\n",
       "      <td>NaN</td>\n",
       "      <td>PA1008</td>\n",
       "      <td>IdActeur_type</td>\n",
       "      <td>NaN</td>\n",
       "      <td>NaN</td>\n",
       "      <td>M.</td>\n",
       "      <td>Alain</td>\n",
       "      <td>David</td>\n",
       "      <td>DavidA</td>\n",
       "      <td>ADA</td>\n",
       "      <td>...</td>\n",
       "      <td>2018-07-24</td>\n",
       "      <td>NaN</td>\n",
       "      <td>32</td>\n",
       "      <td>1</td>\n",
       "      <td>NaN</td>\n",
       "      <td>Membre</td>\n",
       "      <td>Membre</td>\n",
       "      <td>Membre</td>\n",
       "      <td>NaN</td>\n",
       "      <td>PO59047</td>\n",
       "    </tr>\n",
       "  </tbody>\n",
       "</table>\n",
       "<p>1 rows × 438 columns</p>\n",
       "</div>"
      ],
      "text/plain": [
       "   Unnamed: 0  uid[1] uid[1]@xsi:type  etatCivil[1]  etatCivil[1]/ident[1]  \\\n",
       "0         NaN  PA1008   IdActeur_type           NaN                    NaN   \n",
       "\n",
       "  etatCivil[1]/ident[1]/civ[1] etatCivil[1]/ident[1]/prenom[1]  \\\n",
       "0                           M.                           Alain   \n",
       "\n",
       "  etatCivil[1]/ident[1]/nom[1] etatCivil[1]/ident[1]/alpha[1]  \\\n",
       "0                        David                         DavidA   \n",
       "\n",
       "  etatCivil[1]/ident[1]/trigramme[1]  \\\n",
       "0                                ADA   \n",
       "\n",
       "                       ...                       \\\n",
       "0                      ...                        \n",
       "\n",
       "   mandats[1]/mandat[19]/datePublication[1] mandats[1]/mandat[19]/dateFin[1]  \\\n",
       "0                                2018-07-24                              NaN   \n",
       "\n",
       "  mandats[1]/mandat[19]/preseance[1] mandats[1]/mandat[19]/nominPrincipale[1]  \\\n",
       "0                                 32                                        1   \n",
       "\n",
       "  mandats[1]/mandat[19]/infosQualite[1]  \\\n",
       "0                                   NaN   \n",
       "\n",
       "   mandats[1]/mandat[19]/infosQualite[1]/codeQualite[1]  \\\n",
       "0                                             Membre      \n",
       "\n",
       "   mandats[1]/mandat[19]/infosQualite[1]/libQualite[1]  \\\n",
       "0                                             Membre     \n",
       "\n",
       "  mandats[1]/mandat[19]/infosQualite[1]/libQualiteSex[1]  \\\n",
       "0                                             Membre       \n",
       "\n",
       "   mandats[1]/mandat[19]/organes[1]  \\\n",
       "0                               NaN   \n",
       "\n",
       "  mandats[1]/mandat[19]/organes[1]/organeRef[1]  \n",
       "0                                       PO59047  \n",
       "\n",
       "[1 rows x 438 columns]"
      ]
     },
     "execution_count": 49,
     "metadata": {},
     "output_type": "execute_result"
    }
   ],
   "source": [
    "# initialiser la premiere dataframe\n",
    "import pandas as pd\n",
    "dfo = pd.read_csv('acteur/PA1008.csv', sep = ';')\n",
    "\n",
    "dfo.head()"
   ]
  },
  {
   "cell_type": "code",
   "execution_count": 50,
   "metadata": {},
   "outputs": [
    {
     "data": {
      "text/html": [
       "<div>\n",
       "<style scoped>\n",
       "    .dataframe tbody tr th:only-of-type {\n",
       "        vertical-align: middle;\n",
       "    }\n",
       "\n",
       "    .dataframe tbody tr th {\n",
       "        vertical-align: top;\n",
       "    }\n",
       "\n",
       "    .dataframe thead th {\n",
       "        text-align: right;\n",
       "    }\n",
       "</style>\n",
       "<table border=\"1\" class=\"dataframe\">\n",
       "  <thead>\n",
       "    <tr style=\"text-align: right;\">\n",
       "      <th></th>\n",
       "      <th>etatCivil[1]/ident[1]/civ[1]</th>\n",
       "      <th>etatCivil[1]/ident[1]/nom[1]</th>\n",
       "      <th>etatCivil[1]/ident[1]/prenom[1]</th>\n",
       "    </tr>\n",
       "  </thead>\n",
       "  <tbody>\n",
       "    <tr>\n",
       "      <th>0</th>\n",
       "      <td>M.</td>\n",
       "      <td>David</td>\n",
       "      <td>Alain</td>\n",
       "    </tr>\n",
       "  </tbody>\n",
       "</table>\n",
       "</div>"
      ],
      "text/plain": [
       "  etatCivil[1]/ident[1]/civ[1] etatCivil[1]/ident[1]/nom[1]  \\\n",
       "0                           M.                        David   \n",
       "\n",
       "  etatCivil[1]/ident[1]/prenom[1]  \n",
       "0                           Alain  "
      ]
     },
     "execution_count": 50,
     "metadata": {},
     "output_type": "execute_result"
    }
   ],
   "source": [
    "dfo[['etatCivil[1]/ident[1]/civ[1]','etatCivil[1]/ident[1]/nom[1]','etatCivil[1]/ident[1]/prenom[1]']]"
   ]
  },
  {
   "cell_type": "code",
   "execution_count": 51,
   "metadata": {},
   "outputs": [
    {
     "data": {
      "text/html": [
       "<div>\n",
       "<style scoped>\n",
       "    .dataframe tbody tr th:only-of-type {\n",
       "        vertical-align: middle;\n",
       "    }\n",
       "\n",
       "    .dataframe tbody tr th {\n",
       "        vertical-align: top;\n",
       "    }\n",
       "\n",
       "    .dataframe thead th {\n",
       "        text-align: right;\n",
       "    }\n",
       "</style>\n",
       "<table border=\"1\" class=\"dataframe\">\n",
       "  <thead>\n",
       "    <tr style=\"text-align: right;\">\n",
       "      <th></th>\n",
       "      <th>etatCivil[1]/ident[1]/civ[1]</th>\n",
       "      <th>etatCivil[1]/ident[1]/prenom[1]</th>\n",
       "      <th>etatCivil[1]/ident[1]/nom[1]</th>\n",
       "    </tr>\n",
       "  </thead>\n",
       "  <tbody>\n",
       "    <tr>\n",
       "      <th>0</th>\n",
       "      <td>Mme</td>\n",
       "      <td>Danièle</td>\n",
       "      <td>Obono</td>\n",
       "    </tr>\n",
       "    <tr>\n",
       "      <th>0</th>\n",
       "      <td>Mme</td>\n",
       "      <td>Sonia</td>\n",
       "      <td>Krimi</td>\n",
       "    </tr>\n",
       "    <tr>\n",
       "      <th>0</th>\n",
       "      <td>M.</td>\n",
       "      <td>Thierry</td>\n",
       "      <td>Michels</td>\n",
       "    </tr>\n",
       "    <tr>\n",
       "      <th>0</th>\n",
       "      <td>Mme</td>\n",
       "      <td>Laurence</td>\n",
       "      <td>Trastour-Isnart</td>\n",
       "    </tr>\n",
       "    <tr>\n",
       "      <th>0</th>\n",
       "      <td>M.</td>\n",
       "      <td>Jean-Pierre</td>\n",
       "      <td>Door</td>\n",
       "    </tr>\n",
       "  </tbody>\n",
       "</table>\n",
       "</div>"
      ],
      "text/plain": [
       "  etatCivil[1]/ident[1]/civ[1] etatCivil[1]/ident[1]/prenom[1]  \\\n",
       "0                          Mme                         Danièle   \n",
       "0                          Mme                           Sonia   \n",
       "0                           M.                         Thierry   \n",
       "0                          Mme                        Laurence   \n",
       "0                           M.                     Jean-Pierre   \n",
       "\n",
       "  etatCivil[1]/ident[1]/nom[1]  \n",
       "0                        Obono  \n",
       "0                        Krimi  \n",
       "0                      Michels  \n",
       "0              Trastour-Isnart  \n",
       "0                         Door  "
      ]
     },
     "execution_count": 51,
     "metadata": {},
     "output_type": "execute_result"
    }
   ],
   "source": [
    "import glob\n",
    "colonnes = ['etatCivil[1]/ident[1]/civ[1]','etatCivil[1]/ident[1]/prenom[1]','etatCivil[1]/ident[1]/nom[1]']\n",
    "\n",
    "# dataframe originale dfo\n",
    "dfo = pd.DataFrame(columns = colonnes)\n",
    "\n",
    "\n",
    "for filename in glob.iglob('acteur/*.csv', recursive=True):\n",
    "    df = pd.read_csv(filename, sep = ';', usecols = colonnes)\n",
    "    dfo = pd.concat(  [dfo, df]   )\n",
    "\n",
    "dfo.head()    "
   ]
  },
  {
   "cell_type": "code",
   "execution_count": 52,
   "metadata": {},
   "outputs": [
    {
     "data": {
      "text/html": [
       "<div>\n",
       "<style scoped>\n",
       "    .dataframe tbody tr th:only-of-type {\n",
       "        vertical-align: middle;\n",
       "    }\n",
       "\n",
       "    .dataframe tbody tr th {\n",
       "        vertical-align: top;\n",
       "    }\n",
       "\n",
       "    .dataframe thead th {\n",
       "        text-align: right;\n",
       "    }\n",
       "</style>\n",
       "<table border=\"1\" class=\"dataframe\">\n",
       "  <thead>\n",
       "    <tr style=\"text-align: right;\">\n",
       "      <th></th>\n",
       "      <th>etatCivil[1]/ident[1]/civ[1]</th>\n",
       "      <th>etatCivil[1]/ident[1]/prenom[1]</th>\n",
       "      <th>etatCivil[1]/ident[1]/nom[1]</th>\n",
       "    </tr>\n",
       "  </thead>\n",
       "  <tbody>\n",
       "    <tr>\n",
       "      <th>0</th>\n",
       "      <td>Mme</td>\n",
       "      <td>Danièle</td>\n",
       "      <td>Obono</td>\n",
       "    </tr>\n",
       "    <tr>\n",
       "      <th>1</th>\n",
       "      <td>Mme</td>\n",
       "      <td>Sonia</td>\n",
       "      <td>Krimi</td>\n",
       "    </tr>\n",
       "    <tr>\n",
       "      <th>2</th>\n",
       "      <td>M.</td>\n",
       "      <td>Thierry</td>\n",
       "      <td>Michels</td>\n",
       "    </tr>\n",
       "    <tr>\n",
       "      <th>3</th>\n",
       "      <td>Mme</td>\n",
       "      <td>Laurence</td>\n",
       "      <td>Trastour-Isnart</td>\n",
       "    </tr>\n",
       "    <tr>\n",
       "      <th>4</th>\n",
       "      <td>M.</td>\n",
       "      <td>Jean-Pierre</td>\n",
       "      <td>Door</td>\n",
       "    </tr>\n",
       "  </tbody>\n",
       "</table>\n",
       "</div>"
      ],
      "text/plain": [
       "  etatCivil[1]/ident[1]/civ[1] etatCivil[1]/ident[1]/prenom[1]  \\\n",
       "0                          Mme                         Danièle   \n",
       "1                          Mme                           Sonia   \n",
       "2                           M.                         Thierry   \n",
       "3                          Mme                        Laurence   \n",
       "4                           M.                     Jean-Pierre   \n",
       "\n",
       "  etatCivil[1]/ident[1]/nom[1]  \n",
       "0                        Obono  \n",
       "1                        Krimi  \n",
       "2                      Michels  \n",
       "3              Trastour-Isnart  \n",
       "4                         Door  "
      ]
     },
     "execution_count": 52,
     "metadata": {},
     "output_type": "execute_result"
    }
   ],
   "source": [
    "dfo.reset_index(inplace = True, drop = True)\n",
    "dfo.head()"
   ]
  },
  {
   "cell_type": "code",
   "execution_count": 45,
   "metadata": {},
   "outputs": [
    {
     "data": {
      "text/plain": [
       "etatCivil[1]/ident[1]/civ[1]            Mme\n",
       "etatCivil[1]/ident[1]/prenom[1]    Isabelle\n",
       "etatCivil[1]/ident[1]/nom[1]       Valentin\n",
       "Name: 7, dtype: object"
      ]
     },
     "execution_count": 45,
     "metadata": {},
     "output_type": "execute_result"
    }
   ],
   "source": [
    "dfo.loc[7]"
   ]
  },
  {
   "cell_type": "code",
   "execution_count": 46,
   "metadata": {},
   "outputs": [],
   "source": [
    "# renommer les colonnes \n",
    "# dfo.rename(columns = { 'etatCivil[1]/ident[1]/civ[1]': 'civ'  }, inplace = True)\n",
    "\n",
    "dfo.columns = ['civ','prenom', 'nom']\n"
   ]
  },
  {
   "cell_type": "code",
   "execution_count": 47,
   "metadata": {},
   "outputs": [
    {
     "data": {
      "text/html": [
       "<div>\n",
       "<style scoped>\n",
       "    .dataframe tbody tr th:only-of-type {\n",
       "        vertical-align: middle;\n",
       "    }\n",
       "\n",
       "    .dataframe tbody tr th {\n",
       "        vertical-align: top;\n",
       "    }\n",
       "\n",
       "    .dataframe thead th {\n",
       "        text-align: right;\n",
       "    }\n",
       "</style>\n",
       "<table border=\"1\" class=\"dataframe\">\n",
       "  <thead>\n",
       "    <tr style=\"text-align: right;\">\n",
       "      <th></th>\n",
       "      <th>civ</th>\n",
       "      <th>prenom</th>\n",
       "      <th>nom</th>\n",
       "    </tr>\n",
       "  </thead>\n",
       "  <tbody>\n",
       "    <tr>\n",
       "      <th>0</th>\n",
       "      <td>Mme</td>\n",
       "      <td>Danièle</td>\n",
       "      <td>Obono</td>\n",
       "    </tr>\n",
       "    <tr>\n",
       "      <th>1</th>\n",
       "      <td>Mme</td>\n",
       "      <td>Sonia</td>\n",
       "      <td>Krimi</td>\n",
       "    </tr>\n",
       "    <tr>\n",
       "      <th>2</th>\n",
       "      <td>M.</td>\n",
       "      <td>Thierry</td>\n",
       "      <td>Michels</td>\n",
       "    </tr>\n",
       "    <tr>\n",
       "      <th>3</th>\n",
       "      <td>Mme</td>\n",
       "      <td>Laurence</td>\n",
       "      <td>Trastour-Isnart</td>\n",
       "    </tr>\n",
       "    <tr>\n",
       "      <th>4</th>\n",
       "      <td>M.</td>\n",
       "      <td>Jean-Pierre</td>\n",
       "      <td>Door</td>\n",
       "    </tr>\n",
       "  </tbody>\n",
       "</table>\n",
       "</div>"
      ],
      "text/plain": [
       "   civ       prenom              nom\n",
       "0  Mme      Danièle            Obono\n",
       "1  Mme        Sonia            Krimi\n",
       "2   M.      Thierry          Michels\n",
       "3  Mme     Laurence  Trastour-Isnart\n",
       "4   M.  Jean-Pierre             Door"
      ]
     },
     "execution_count": 47,
     "metadata": {},
     "output_type": "execute_result"
    }
   ],
   "source": [
    "dfo.head()\n"
   ]
  },
  {
   "cell_type": "markdown",
   "metadata": {},
   "source": [
    "# trouver les colonnes qui sont dans tous les fichiers"
   ]
  },
  {
   "cell_type": "code",
   "execution_count": 80,
   "metadata": {},
   "outputs": [
    {
     "data": {
      "text/plain": [
       "614"
      ]
     },
     "execution_count": 80,
     "metadata": {},
     "output_type": "execute_result"
    }
   ],
   "source": [
    "import pandas as pd\n",
    "df = pd.read_csv('acteur/PA722118.csv', sep = ';')\n",
    "common_cols = df.columns\n",
    "\n",
    "for filename in glob.iglob('acteur/*.csv', recursive=True):\n",
    "    df = pd.read_csv(filename, sep = ';')\n",
    "\n",
    "    # df.columns INTERSECTION common_cols\n",
    "    common_cols = [col for col in df.columns if col in common_cols]\n",
    "    \n",
    "    \n",
    "for filename in glob.iglob('acteur/*.csv', recursive=True):\n",
    "    df = pd.read_csv(filename, sep = ';')\n",
    "    nouvelles_colonnes = df.columns\n",
    "\n",
    "    colonnes_a_garder = []\n",
    "    for col in nouvelles_colonnes: \n",
    "        if  col in common_cols:\n",
    "            colonnes_a_garder.append(col)\n",
    "            \n",
    "    common_cols = colonnes_a_garder\n",
    "    \n",
    "    \n",
    "#     print(len(common_cols))\n"
   ]
  },
  {
   "cell_type": "code",
   "execution_count": null,
   "metadata": {},
   "outputs": [],
   "source": [
    "common_cols"
   ]
  },
  {
   "cell_type": "markdown",
   "metadata": {},
   "source": [
    "# utiliser la nombre d'occurence des colonnes"
   ]
  },
  {
   "cell_type": "code",
   "execution_count": 86,
   "metadata": {},
   "outputs": [
    {
     "data": {
      "text/plain": [
       "573993"
      ]
     },
     "execution_count": 86,
     "metadata": {},
     "output_type": "execute_result"
    }
   ],
   "source": [
    "import pandas as pd\n",
    "df = pd.read_csv('acteur/PA722118.csv', sep = ';')\n",
    "common_cols = list(df.columns)\n",
    "\n",
    "for filename in glob.iglob('acteur/*.csv', recursive=True):\n",
    "    df = pd.read_csv(filename, sep = ';')\n",
    "    common_cols = common_cols + list(df.columns)\n",
    "    \n",
    "len(common_cols)"
   ]
  },
  {
   "cell_type": "code",
   "execution_count": 97,
   "metadata": {},
   "outputs": [
    {
     "data": {
      "text/plain": [
       "[(2, 6), (3, 3), (4, 3)]"
      ]
     },
     "execution_count": 97,
     "metadata": {},
     "output_type": "execute_result"
    }
   ],
   "source": [
    "from collections import Counter\n",
    "\n",
    "l = [1,2,3,4,2,3,4,2,3,4,2,2,2,23,8]\n",
    "Counter(l).most_common(3)\n",
    "\n"
   ]
  },
  {
   "cell_type": "code",
   "execution_count": 87,
   "metadata": {},
   "outputs": [],
   "source": [
    "from collections import Counter\n",
    "\n",
    "cols = Counter(common_cols)"
   ]
  },
  {
   "cell_type": "code",
   "execution_count": 92,
   "metadata": {},
   "outputs": [],
   "source": [
    "cols = dict(cols)"
   ]
  },
  {
   "cell_type": "code",
   "execution_count": 100,
   "metadata": {},
   "outputs": [
    {
     "data": {
      "text/plain": [
       "577"
      ]
     },
     "execution_count": 100,
     "metadata": {},
     "output_type": "execute_result"
    }
   ],
   "source": [
    "max(cols.values())"
   ]
  },
  {
   "cell_type": "code",
   "execution_count": 101,
   "metadata": {},
   "outputs": [
    {
     "data": {
      "text/plain": [
       "89"
      ]
     },
     "execution_count": 101,
     "metadata": {},
     "output_type": "execute_result"
    }
   ],
   "source": [
    "common_cols = []\n",
    "for k, v in cols.items():\n",
    "    if v == max(cols.values()):\n",
    "        common_cols.append(k)\n",
    "        \n",
    "len(common_cols)    "
   ]
  },
  {
   "cell_type": "markdown",
   "metadata": {},
   "source": [
    "# beaucoup de colonnes vides ?"
   ]
  },
  {
   "cell_type": "code",
   "execution_count": 108,
   "metadata": {},
   "outputs": [
    {
     "name": "stdout",
     "output_type": "stream",
     "text": [
      "(576, 89)\n"
     ]
    },
    {
     "data": {
      "text/html": [
       "<div>\n",
       "<style scoped>\n",
       "    .dataframe tbody tr th:only-of-type {\n",
       "        vertical-align: middle;\n",
       "    }\n",
       "\n",
       "    .dataframe tbody tr th {\n",
       "        vertical-align: top;\n",
       "    }\n",
       "\n",
       "    .dataframe thead th {\n",
       "        text-align: right;\n",
       "    }\n",
       "</style>\n",
       "<table border=\"1\" class=\"dataframe\">\n",
       "  <thead>\n",
       "    <tr style=\"text-align: right;\">\n",
       "      <th></th>\n",
       "      <th>Unnamed: 0</th>\n",
       "      <th>uid[1]</th>\n",
       "      <th>uid[1]@xsi:type</th>\n",
       "      <th>etatCivil[1]</th>\n",
       "      <th>etatCivil[1]/ident[1]</th>\n",
       "      <th>etatCivil[1]/ident[1]/civ[1]</th>\n",
       "      <th>etatCivil[1]/ident[1]/prenom[1]</th>\n",
       "      <th>etatCivil[1]/ident[1]/nom[1]</th>\n",
       "      <th>etatCivil[1]/ident[1]/alpha[1]</th>\n",
       "      <th>etatCivil[1]/ident[1]/trigramme[1]</th>\n",
       "      <th>...</th>\n",
       "      <th>mandats[1]/mandat[3]/datePublication[1]</th>\n",
       "      <th>mandats[1]/mandat[3]/dateFin[1]</th>\n",
       "      <th>mandats[1]/mandat[3]/preseance[1]</th>\n",
       "      <th>mandats[1]/mandat[3]/nominPrincipale[1]</th>\n",
       "      <th>mandats[1]/mandat[3]/infosQualite[1]</th>\n",
       "      <th>mandats[1]/mandat[3]/infosQualite[1]/codeQualite[1]</th>\n",
       "      <th>mandats[1]/mandat[3]/infosQualite[1]/libQualite[1]</th>\n",
       "      <th>mandats[1]/mandat[3]/infosQualite[1]/libQualiteSex[1]</th>\n",
       "      <th>mandats[1]/mandat[3]/organes[1]</th>\n",
       "      <th>mandats[1]/mandat[3]/organes[1]/organeRef[1]</th>\n",
       "    </tr>\n",
       "  </thead>\n",
       "  <tbody>\n",
       "    <tr>\n",
       "      <th>0</th>\n",
       "      <td>NaN</td>\n",
       "      <td>PA721960</td>\n",
       "      <td>IdActeur_type</td>\n",
       "      <td>NaN</td>\n",
       "      <td>NaN</td>\n",
       "      <td>Mme</td>\n",
       "      <td>Danièle</td>\n",
       "      <td>Obono</td>\n",
       "      <td>Obono</td>\n",
       "      <td>DOB</td>\n",
       "      <td>...</td>\n",
       "      <td>2017-07-06</td>\n",
       "      <td>NaN</td>\n",
       "      <td>16</td>\n",
       "      <td>1</td>\n",
       "      <td>NaN</td>\n",
       "      <td>Secrétaire</td>\n",
       "      <td>Secrétaire</td>\n",
       "      <td>Secrétaire</td>\n",
       "      <td>NaN</td>\n",
       "      <td>PO415287</td>\n",
       "    </tr>\n",
       "    <tr>\n",
       "      <th>0</th>\n",
       "      <td>NaN</td>\n",
       "      <td>PA720202</td>\n",
       "      <td>IdActeur_type</td>\n",
       "      <td>NaN</td>\n",
       "      <td>NaN</td>\n",
       "      <td>Mme</td>\n",
       "      <td>Sonia</td>\n",
       "      <td>Krimi</td>\n",
       "      <td>Krimi</td>\n",
       "      <td>SKR</td>\n",
       "      <td>...</td>\n",
       "      <td>NaN</td>\n",
       "      <td>NaN</td>\n",
       "      <td>50</td>\n",
       "      <td>1</td>\n",
       "      <td>NaN</td>\n",
       "      <td>membre</td>\n",
       "      <td>membre</td>\n",
       "      <td>membre</td>\n",
       "      <td>NaN</td>\n",
       "      <td>PO717460</td>\n",
       "    </tr>\n",
       "    <tr>\n",
       "      <th>0</th>\n",
       "      <td>NaN</td>\n",
       "      <td>PA720738</td>\n",
       "      <td>IdActeur_type</td>\n",
       "      <td>NaN</td>\n",
       "      <td>NaN</td>\n",
       "      <td>M.</td>\n",
       "      <td>Thierry</td>\n",
       "      <td>Michels</td>\n",
       "      <td>Michels</td>\n",
       "      <td>TMI</td>\n",
       "      <td>...</td>\n",
       "      <td>2017-06-28</td>\n",
       "      <td>NaN</td>\n",
       "      <td>20</td>\n",
       "      <td>1</td>\n",
       "      <td>NaN</td>\n",
       "      <td>Membre</td>\n",
       "      <td>Membre du</td>\n",
       "      <td>Membre du</td>\n",
       "      <td>NaN</td>\n",
       "      <td>PO730964</td>\n",
       "    </tr>\n",
       "    <tr>\n",
       "      <th>0</th>\n",
       "      <td>NaN</td>\n",
       "      <td>PA718780</td>\n",
       "      <td>IdActeur_type</td>\n",
       "      <td>NaN</td>\n",
       "      <td>NaN</td>\n",
       "      <td>Mme</td>\n",
       "      <td>Laurence</td>\n",
       "      <td>Trastour-Isnart</td>\n",
       "      <td>TrastourIsnart</td>\n",
       "      <td>LTR</td>\n",
       "      <td>...</td>\n",
       "      <td>2017-07-12</td>\n",
       "      <td>NaN</td>\n",
       "      <td>20</td>\n",
       "      <td>1</td>\n",
       "      <td>NaN</td>\n",
       "      <td>Membre</td>\n",
       "      <td>Membre</td>\n",
       "      <td>Membre</td>\n",
       "      <td>NaN</td>\n",
       "      <td>PO201269</td>\n",
       "    </tr>\n",
       "    <tr>\n",
       "      <th>0</th>\n",
       "      <td>NaN</td>\n",
       "      <td>PA267289</td>\n",
       "      <td>IdActeur_type</td>\n",
       "      <td>NaN</td>\n",
       "      <td>NaN</td>\n",
       "      <td>M.</td>\n",
       "      <td>Jean-Pierre</td>\n",
       "      <td>Door</td>\n",
       "      <td>Door</td>\n",
       "      <td>JDO</td>\n",
       "      <td>...</td>\n",
       "      <td>2011-09-13</td>\n",
       "      <td>2012-06-19</td>\n",
       "      <td>30</td>\n",
       "      <td>1</td>\n",
       "      <td>NaN</td>\n",
       "      <td>Suppléant</td>\n",
       "      <td>Membre suppléant</td>\n",
       "      <td>Membre suppléant</td>\n",
       "      <td>NaN</td>\n",
       "      <td>PO275380</td>\n",
       "    </tr>\n",
       "  </tbody>\n",
       "</table>\n",
       "<p>5 rows × 89 columns</p>\n",
       "</div>"
      ],
      "text/plain": [
       "  Unnamed: 0    uid[1] uid[1]@xsi:type etatCivil[1] etatCivil[1]/ident[1]  \\\n",
       "0        NaN  PA721960   IdActeur_type          NaN                   NaN   \n",
       "0        NaN  PA720202   IdActeur_type          NaN                   NaN   \n",
       "0        NaN  PA720738   IdActeur_type          NaN                   NaN   \n",
       "0        NaN  PA718780   IdActeur_type          NaN                   NaN   \n",
       "0        NaN  PA267289   IdActeur_type          NaN                   NaN   \n",
       "\n",
       "  etatCivil[1]/ident[1]/civ[1] etatCivil[1]/ident[1]/prenom[1]  \\\n",
       "0                          Mme                         Danièle   \n",
       "0                          Mme                           Sonia   \n",
       "0                           M.                         Thierry   \n",
       "0                          Mme                        Laurence   \n",
       "0                           M.                     Jean-Pierre   \n",
       "\n",
       "  etatCivil[1]/ident[1]/nom[1] etatCivil[1]/ident[1]/alpha[1]  \\\n",
       "0                        Obono                          Obono   \n",
       "0                        Krimi                          Krimi   \n",
       "0                      Michels                        Michels   \n",
       "0              Trastour-Isnart                 TrastourIsnart   \n",
       "0                         Door                           Door   \n",
       "\n",
       "  etatCivil[1]/ident[1]/trigramme[1]  \\\n",
       "0                                DOB   \n",
       "0                                SKR   \n",
       "0                                TMI   \n",
       "0                                LTR   \n",
       "0                                JDO   \n",
       "\n",
       "                      ...                       \\\n",
       "0                     ...                        \n",
       "0                     ...                        \n",
       "0                     ...                        \n",
       "0                     ...                        \n",
       "0                     ...                        \n",
       "\n",
       "  mandats[1]/mandat[3]/datePublication[1] mandats[1]/mandat[3]/dateFin[1]  \\\n",
       "0                              2017-07-06                             NaN   \n",
       "0                                     NaN                             NaN   \n",
       "0                              2017-06-28                             NaN   \n",
       "0                              2017-07-12                             NaN   \n",
       "0                              2011-09-13                      2012-06-19   \n",
       "\n",
       "  mandats[1]/mandat[3]/preseance[1] mandats[1]/mandat[3]/nominPrincipale[1]  \\\n",
       "0                                16                                       1   \n",
       "0                                50                                       1   \n",
       "0                                20                                       1   \n",
       "0                                20                                       1   \n",
       "0                                30                                       1   \n",
       "\n",
       "  mandats[1]/mandat[3]/infosQualite[1]  \\\n",
       "0                                  NaN   \n",
       "0                                  NaN   \n",
       "0                                  NaN   \n",
       "0                                  NaN   \n",
       "0                                  NaN   \n",
       "\n",
       "  mandats[1]/mandat[3]/infosQualite[1]/codeQualite[1]  \\\n",
       "0                                         Secrétaire    \n",
       "0                                             membre    \n",
       "0                                             Membre    \n",
       "0                                             Membre    \n",
       "0                                          Suppléant    \n",
       "\n",
       "  mandats[1]/mandat[3]/infosQualite[1]/libQualite[1]  \\\n",
       "0                                         Secrétaire   \n",
       "0                                             membre   \n",
       "0                                          Membre du   \n",
       "0                                             Membre   \n",
       "0                                   Membre suppléant   \n",
       "\n",
       "  mandats[1]/mandat[3]/infosQualite[1]/libQualiteSex[1]  \\\n",
       "0                                         Secrétaire      \n",
       "0                                             membre      \n",
       "0                                          Membre du      \n",
       "0                                             Membre      \n",
       "0                                   Membre suppléant      \n",
       "\n",
       "  mandats[1]/mandat[3]/organes[1] mandats[1]/mandat[3]/organes[1]/organeRef[1]  \n",
       "0                             NaN                                     PO415287  \n",
       "0                             NaN                                     PO717460  \n",
       "0                             NaN                                     PO730964  \n",
       "0                             NaN                                     PO201269  \n",
       "0                             NaN                                     PO275380  \n",
       "\n",
       "[5 rows x 89 columns]"
      ]
     },
     "execution_count": 108,
     "metadata": {},
     "output_type": "execute_result"
    }
   ],
   "source": [
    "# aggreger tous les fichiers avec les 89 colonnes communes\n",
    "\n",
    "dfo = pd.DataFrame(columns = common_cols)\n",
    "\n",
    "\n",
    "for filename in glob.iglob('acteur/*.csv', recursive=True):\n",
    "    df = pd.read_csv(filename, sep = ';', usecols = common_cols)\n",
    "    dfo = pd.concat(  [dfo, df]   )\n",
    "\n",
    "print(dfo.shape)    \n",
    "    \n",
    "dfo.head()    "
   ]
  },
  {
   "cell_type": "code",
   "execution_count": 112,
   "metadata": {},
   "outputs": [
    {
     "data": {
      "text/plain": [
       "Counter({576: 21,\n",
       "         0: 52,\n",
       "         3: 1,\n",
       "         39: 1,\n",
       "         1: 1,\n",
       "         6: 1,\n",
       "         29: 1,\n",
       "         453: 1,\n",
       "         534: 1,\n",
       "         4: 1,\n",
       "         448: 1,\n",
       "         373: 1,\n",
       "         5: 2,\n",
       "         385: 1,\n",
       "         360: 1,\n",
       "         350: 1,\n",
       "         346: 1})"
      ]
     },
     "execution_count": 112,
     "metadata": {},
     "output_type": "execute_result"
    }
   ],
   "source": [
    "colonnes_non_vides = []\n",
    "nbre_elt_nan = []\n",
    "\n",
    "for col in dfo.columns:\n",
    "    condition = dfo[col].isnull()\n",
    "    nombre_de_rangees_nulles = dfo[condition].shape[0]\n",
    "    nbre_elt_nan.append(nombre_de_rangees_nulles)\n",
    "    if nombre_de_rangees_nulles < 576:\n",
    "        colonnes_non_vides.append(col)\n",
    "        \n",
    "        \n",
    "#     print(\"col: {} a {} elements NaN\".format(col, nombre_de_colonnes_nulles)  )\n",
    "len(colonnes_non_vides)\n",
    "Counter(nbre_elt_nan)"
   ]
  },
  {
   "cell_type": "markdown",
   "metadata": {},
   "source": [
    "### finalement ne garder que les colonnes qui ont au moins 100 valeurs\n",
    "\n",
    "\n",
    "puis exporter dans une fichier csv avec \n",
    "\n",
    "        pd.to_csv(<nom de fichier>)"
   ]
  },
  {
   "cell_type": "code",
   "execution_count": null,
   "metadata": {},
   "outputs": [],
   "source": []
  }
 ],
 "metadata": {
  "kernelspec": {
   "display_name": "Python 3",
   "language": "python",
   "name": "python3"
  },
  "language_info": {
   "codemirror_mode": {
    "name": "ipython",
    "version": 3
   },
   "file_extension": ".py",
   "mimetype": "text/x-python",
   "name": "python",
   "nbconvert_exporter": "python",
   "pygments_lexer": "ipython3",
   "version": "3.6.5"
  }
 },
 "nbformat": 4,
 "nbformat_minor": 2
}
