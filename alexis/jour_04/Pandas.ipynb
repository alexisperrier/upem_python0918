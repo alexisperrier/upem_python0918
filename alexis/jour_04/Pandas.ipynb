{
 "cells": [
  {
   "cell_type": "markdown",
   "metadata": {},
   "source": [
    "# Workshop pandas \n",
    "\n",
    "On va reprendre le dataset des arbres de Paris et l'analyser en profondeur avec [pandas](pandas.pydata.org/pandas-docs/dev/basics.html)\n",
    "\n",
    "le dataset les-arbres.csv est disponible dans le channel slack ou sur le site [opendata.paris.fr](https://opendata.paris.fr/explore/dataset/les-arbres/download/?format=csv&timezone=Europe/Berlin&use_labels_for_header=true)\n",
    "\n",
    "\n"
   ]
  },
  {
   "cell_type": "code",
   "execution_count": 14,
   "metadata": {},
   "outputs": [],
   "source": [
    "import pandas as pd\n",
    "\n",
    "# folder ou sont les datasets\n",
    "# si le dataset est dans le meme repertoire que le notebook:\n",
    "DATA_PATH = './'\n",
    "\n",
    "# sinon en chemin absolu\n",
    "DATA_PATH = '/home/alexis/py918/data/'\n",
    "# ou relatif\n",
    "# DATA_PATH = './../data/'\n",
    "\n",
    "# nom du fichier \n",
    "filename = 'les-arbres.csv'\n",
    "\n"
   ]
  },
  {
   "cell_type": "code",
   "execution_count": 15,
   "metadata": {},
   "outputs": [
    {
     "data": {
      "text/plain": [
       "'/home/alexis/py918/data/les-arbres.csv'"
      ]
     },
     "execution_count": 15,
     "metadata": {},
     "output_type": "execute_result"
    }
   ],
   "source": [
    "DATA_PATH + filename"
   ]
  },
  {
   "cell_type": "code",
   "execution_count": 17,
   "metadata": {},
   "outputs": [
    {
     "name": "stderr",
     "output_type": "stream",
     "text": [
      "b'Skipping line 1916: expected 17 fields, saw 18\\n'\n"
     ]
    },
    {
     "name": "stdout",
     "output_type": "stream",
     "text": [
      "le fichier a 200332 rangées (arbres) et 17 colonnes\n",
      "les colonnes de la dataframes sont:\n",
      "Index(['IDBASE', 'TYPEEMPLACEMENT', 'DOMANIALITE', 'ARRONDISSEMENT',\n",
      "       'COMPLEMENTADRESSE', 'NUMERO', 'LIEU / ADRESSE', 'IDEMPLACEMENT',\n",
      "       'LIBELLEFRANCAIS', 'GENRE', 'ESPECE', 'VARIETEOUCULTIVAR',\n",
      "       'CIRCONFERENCEENCM', 'HAUTEUR (m)', 'STADEDEVELOPPEMENT', 'REMARQUABLE',\n",
      "       'geo_point_2d'],\n",
      "      dtype='object')\n"
     ]
    }
   ],
   "source": [
    "''' \n",
    "On charge les données dans une dataframe pandas\n",
    "* les colonnes sont séparées par des ';' et non des ','  il faut preciser: sep\n",
    "* une des lignes est malformée: \n",
    "  on met error_bad_lines a False pour que cette ligne ne soit pas prise en compte\n",
    "'''\n",
    "\n",
    "df = pd.read_csv(DATA_PATH + filename, sep=';', error_bad_lines=False)\n",
    "\n",
    "print(\"le fichier a {} rangées (arbres) et {} colonnes\".format(df.shape[0], df.shape[1]))\n",
    "\n",
    "print(\"les colonnes de la dataframes sont:\")\n",
    "print(df.columns)\n"
   ]
  },
  {
   "cell_type": "markdown",
   "metadata": {},
   "source": [
    "# explorer la dataframe\n",
    "\n",
    "Avec les fonctions suivantes\n",
    "\n",
    "\n",
    "* df.head(10)\n",
    "* df.tail()\n",
    "* df.dtypes\n",
    "* df.duplicated()\n",
    "* df.describe()\n"
   ]
  },
  {
   "cell_type": "code",
   "execution_count": 24,
   "metadata": {},
   "outputs": [
    {
     "data": {
      "text/html": [
       "<div>\n",
       "<style scoped>\n",
       "    .dataframe tbody tr th:only-of-type {\n",
       "        vertical-align: middle;\n",
       "    }\n",
       "\n",
       "    .dataframe tbody tr th {\n",
       "        vertical-align: top;\n",
       "    }\n",
       "\n",
       "    .dataframe thead th {\n",
       "        text-align: right;\n",
       "    }\n",
       "</style>\n",
       "<table border=\"1\" class=\"dataframe\">\n",
       "  <thead>\n",
       "    <tr style=\"text-align: right;\">\n",
       "      <th></th>\n",
       "      <th>IDBASE</th>\n",
       "      <th>TYPEEMPLACEMENT</th>\n",
       "      <th>DOMANIALITE</th>\n",
       "      <th>ARRONDISSEMENT</th>\n",
       "      <th>COMPLEMENTADRESSE</th>\n",
       "      <th>NUMERO</th>\n",
       "      <th>LIEU / ADRESSE</th>\n",
       "      <th>IDEMPLACEMENT</th>\n",
       "      <th>LIBELLEFRANCAIS</th>\n",
       "      <th>GENRE</th>\n",
       "      <th>ESPECE</th>\n",
       "      <th>VARIETEOUCULTIVAR</th>\n",
       "      <th>CIRCONFERENCEENCM</th>\n",
       "      <th>HAUTEUR (m)</th>\n",
       "      <th>STADEDEVELOPPEMENT</th>\n",
       "      <th>REMARQUABLE</th>\n",
       "      <th>geo_point_2d</th>\n",
       "    </tr>\n",
       "  </thead>\n",
       "  <tbody>\n",
       "    <tr>\n",
       "      <th>0</th>\n",
       "      <td>232702.0</td>\n",
       "      <td>Arbre</td>\n",
       "      <td>Alignement</td>\n",
       "      <td>PARIS 11E ARRDT</td>\n",
       "      <td>NaN</td>\n",
       "      <td>NaN</td>\n",
       "      <td>BOULEVARD DE MENILMONTANT</td>\n",
       "      <td>000602002</td>\n",
       "      <td>Sophora</td>\n",
       "      <td>Sophora</td>\n",
       "      <td>japonica</td>\n",
       "      <td>NaN</td>\n",
       "      <td>55.0</td>\n",
       "      <td>5.0</td>\n",
       "      <td>JA</td>\n",
       "      <td>0.0</td>\n",
       "      <td>48.8652353853, 2.38481800435</td>\n",
       "    </tr>\n",
       "    <tr>\n",
       "      <th>1</th>\n",
       "      <td>235862.0</td>\n",
       "      <td>Arbre</td>\n",
       "      <td>Alignement</td>\n",
       "      <td>PARIS 18E ARRDT</td>\n",
       "      <td>NaN</td>\n",
       "      <td>NaN</td>\n",
       "      <td>AVENUE DE LA PORTE DE CLIGNANCOURT</td>\n",
       "      <td>000303007</td>\n",
       "      <td>Tilleul</td>\n",
       "      <td>Tilia</td>\n",
       "      <td>tomentosa</td>\n",
       "      <td>NaN</td>\n",
       "      <td>60.0</td>\n",
       "      <td>10.0</td>\n",
       "      <td>JA</td>\n",
       "      <td>NaN</td>\n",
       "      <td>48.8999949231, 2.34379810146</td>\n",
       "    </tr>\n",
       "  </tbody>\n",
       "</table>\n",
       "</div>"
      ],
      "text/plain": [
       "     IDBASE TYPEEMPLACEMENT DOMANIALITE   ARRONDISSEMENT COMPLEMENTADRESSE  \\\n",
       "0  232702.0           Arbre  Alignement  PARIS 11E ARRDT               NaN   \n",
       "1  235862.0           Arbre  Alignement  PARIS 18E ARRDT               NaN   \n",
       "\n",
       "   NUMERO                      LIEU / ADRESSE IDEMPLACEMENT LIBELLEFRANCAIS  \\\n",
       "0     NaN           BOULEVARD DE MENILMONTANT     000602002         Sophora   \n",
       "1     NaN  AVENUE DE LA PORTE DE CLIGNANCOURT     000303007         Tilleul   \n",
       "\n",
       "     GENRE     ESPECE VARIETEOUCULTIVAR  CIRCONFERENCEENCM  HAUTEUR (m)  \\\n",
       "0  Sophora   japonica               NaN               55.0          5.0   \n",
       "1    Tilia  tomentosa               NaN               60.0         10.0   \n",
       "\n",
       "  STADEDEVELOPPEMENT  REMARQUABLE                  geo_point_2d  \n",
       "0                 JA          0.0  48.8652353853, 2.38481800435  \n",
       "1                 JA          NaN  48.8999949231, 2.34379810146  "
      ]
     },
     "execution_count": 24,
     "metadata": {},
     "output_type": "execute_result"
    }
   ],
   "source": [
    "# La fonction .head( nombre de ligne): l'en-tete de la dataframe\n",
    "\n",
    "df.head(2)\n",
    "\n",
    "# La fonction .tail( nombre de ligne): la fin de la dataframe\n",
    "# df.tail(7)"
   ]
  },
  {
   "cell_type": "code",
   "execution_count": 23,
   "metadata": {},
   "outputs": [
    {
     "data": {
      "text/plain": [
       "IDBASE                float64\n",
       "TYPEEMPLACEMENT        object\n",
       "DOMANIALITE            object\n",
       "ARRONDISSEMENT         object\n",
       "COMPLEMENTADRESSE      object\n",
       "NUMERO                float64\n",
       "LIEU / ADRESSE         object\n",
       "IDEMPLACEMENT          object\n",
       "LIBELLEFRANCAIS        object\n",
       "GENRE                  object\n",
       "ESPECE                 object\n",
       "VARIETEOUCULTIVAR      object\n",
       "CIRCONFERENCEENCM     float64\n",
       "HAUTEUR (m)           float64\n",
       "STADEDEVELOPPEMENT     object\n",
       "REMARQUABLE           float64\n",
       "geo_point_2d           object\n",
       "dtype: object"
      ]
     },
     "execution_count": 23,
     "metadata": {},
     "output_type": "execute_result"
    }
   ],
   "source": [
    "# le type de la colonne df.dtypes\n",
    "\n",
    "df.dtypes\n"
   ]
  },
  {
   "cell_type": "code",
   "execution_count": 29,
   "metadata": {},
   "outputs": [
    {
     "name": "stdout",
     "output_type": "stream",
     "text": [
      "Y a t il au moins un Vrai dans doublons: False\n",
      "il n'y a aucun doublon\n"
     ]
    }
   ],
   "source": [
    "# rangées en double\n",
    "\n",
    "doublons = df.duplicated()\n",
    "doublons\n",
    "\n",
    "# any all \n",
    "print(\"Y a t il au moins un Vrai dans doublons: {}\".format( any(doublons)   )  )\n",
    "\n",
    "if any(doublons): \n",
    "    print(\"il y a des doublons\")\n",
    "else:\n",
    "    print(\"il n'y a aucun doublon\")\n",
    "        \n",
    "# voir si toute les valeurs de la liste sont a false\n",
    "\n",
    "\n"
   ]
  },
  {
   "cell_type": "code",
   "execution_count": 32,
   "metadata": {},
   "outputs": [
    {
     "data": {
      "text/plain": [
       "True"
      ]
     },
     "execution_count": 32,
     "metadata": {},
     "output_type": "execute_result"
    }
   ],
   "source": [
    "# tous les doublons sont a False\n",
    "all(~doublons)"
   ]
  },
  {
   "cell_type": "code",
   "execution_count": 71,
   "metadata": {},
   "outputs": [
    {
     "name": "stdout",
     "output_type": "stream",
     "text": [
      "(23170, 17)\n"
     ]
    },
    {
     "data": {
      "text/html": [
       "<div>\n",
       "<style scoped>\n",
       "    .dataframe tbody tr th:only-of-type {\n",
       "        vertical-align: middle;\n",
       "    }\n",
       "\n",
       "    .dataframe tbody tr th {\n",
       "        vertical-align: top;\n",
       "    }\n",
       "\n",
       "    .dataframe thead th {\n",
       "        text-align: right;\n",
       "    }\n",
       "</style>\n",
       "<table border=\"1\" class=\"dataframe\">\n",
       "  <thead>\n",
       "    <tr style=\"text-align: right;\">\n",
       "      <th></th>\n",
       "      <th>IDBASE</th>\n",
       "      <th>TYPEEMPLACEMENT</th>\n",
       "      <th>DOMANIALITE</th>\n",
       "      <th>ARRONDISSEMENT</th>\n",
       "      <th>COMPLEMENTADRESSE</th>\n",
       "      <th>NUMERO</th>\n",
       "      <th>LIEU / ADRESSE</th>\n",
       "      <th>IDEMPLACEMENT</th>\n",
       "      <th>LIBELLEFRANCAIS</th>\n",
       "      <th>GENRE</th>\n",
       "      <th>ESPECE</th>\n",
       "      <th>VARIETEOUCULTIVAR</th>\n",
       "      <th>CIRCONFERENCEENCM</th>\n",
       "      <th>HAUTEUR (m)</th>\n",
       "      <th>STADEDEVELOPPEMENT</th>\n",
       "      <th>REMARQUABLE</th>\n",
       "      <th>geo_point_2d</th>\n",
       "    </tr>\n",
       "  </thead>\n",
       "  <tbody>\n",
       "    <tr>\n",
       "      <th>2</th>\n",
       "      <td>236391.0</td>\n",
       "      <td>Arbre</td>\n",
       "      <td>Alignement</td>\n",
       "      <td>PARIS 15E ARRDT</td>\n",
       "      <td>27</td>\n",
       "      <td>NaN</td>\n",
       "      <td>BOULEVARD GARIBALDI</td>\n",
       "      <td>000101024</td>\n",
       "      <td>Noisetier de Byzance</td>\n",
       "      <td>Corylus</td>\n",
       "      <td>colurna</td>\n",
       "      <td>NaN</td>\n",
       "      <td>60.0</td>\n",
       "      <td>10.0</td>\n",
       "      <td>JA</td>\n",
       "      <td>NaN</td>\n",
       "      <td>48.8470727044, 2.30470921442</td>\n",
       "    </tr>\n",
       "    <tr>\n",
       "      <th>22</th>\n",
       "      <td>251225.0</td>\n",
       "      <td>Arbre</td>\n",
       "      <td>Alignement</td>\n",
       "      <td>PARIS 15E ARRDT</td>\n",
       "      <td>N°32</td>\n",
       "      <td>NaN</td>\n",
       "      <td>RUE DE VOUILLE</td>\n",
       "      <td>000602003</td>\n",
       "      <td>Tilleul</td>\n",
       "      <td>Tilia</td>\n",
       "      <td>tomentosa</td>\n",
       "      <td>NaN</td>\n",
       "      <td>120.0</td>\n",
       "      <td>12.0</td>\n",
       "      <td>A</td>\n",
       "      <td>0.0</td>\n",
       "      <td>48.8344213832, 2.30599876394</td>\n",
       "    </tr>\n",
       "    <tr>\n",
       "      <th>26</th>\n",
       "      <td>265449.0</td>\n",
       "      <td>Arbre</td>\n",
       "      <td>Alignement</td>\n",
       "      <td>PARIS 15E ARRDT</td>\n",
       "      <td>N°212</td>\n",
       "      <td>NaN</td>\n",
       "      <td>RUE DE LA CONVENTION</td>\n",
       "      <td>003202015</td>\n",
       "      <td>Tilleul</td>\n",
       "      <td>Tilia</td>\n",
       "      <td>tomentosa</td>\n",
       "      <td>NaN</td>\n",
       "      <td>70.0</td>\n",
       "      <td>8.0</td>\n",
       "      <td>JA</td>\n",
       "      <td>0.0</td>\n",
       "      <td>48.8367859294, 2.29774187171</td>\n",
       "    </tr>\n",
       "    <tr>\n",
       "      <th>72</th>\n",
       "      <td>251071.0</td>\n",
       "      <td>Arbre</td>\n",
       "      <td>Alignement</td>\n",
       "      <td>PARIS 15E ARRDT</td>\n",
       "      <td>2</td>\n",
       "      <td>NaN</td>\n",
       "      <td>AVENUE DE SUFFREN</td>\n",
       "      <td>000202003</td>\n",
       "      <td>Tilleul</td>\n",
       "      <td>Tilia</td>\n",
       "      <td>tomentosa</td>\n",
       "      <td>NaN</td>\n",
       "      <td>150.0</td>\n",
       "      <td>20.0</td>\n",
       "      <td>A</td>\n",
       "      <td>0.0</td>\n",
       "      <td>48.8572067827, 2.29131596986</td>\n",
       "    </tr>\n",
       "    <tr>\n",
       "      <th>77</th>\n",
       "      <td>275354.0</td>\n",
       "      <td>Arbre</td>\n",
       "      <td>Alignement</td>\n",
       "      <td>PARIS 7E ARRDT</td>\n",
       "      <td>27</td>\n",
       "      <td>NaN</td>\n",
       "      <td>BOULEVARD DES INVALIDES</td>\n",
       "      <td>000301022</td>\n",
       "      <td>Platane</td>\n",
       "      <td>Platanus</td>\n",
       "      <td>occidentalis</td>\n",
       "      <td>NaN</td>\n",
       "      <td>15.0</td>\n",
       "      <td>15.0</td>\n",
       "      <td>A</td>\n",
       "      <td>0.0</td>\n",
       "      <td>48.8549240846, 2.315000748</td>\n",
       "    </tr>\n",
       "    <tr>\n",
       "      <th>93</th>\n",
       "      <td>266075.0</td>\n",
       "      <td>Arbre</td>\n",
       "      <td>Alignement</td>\n",
       "      <td>PARIS 15E ARRDT</td>\n",
       "      <td>N°81</td>\n",
       "      <td>NaN</td>\n",
       "      <td>RUE SAINT CHARLES</td>\n",
       "      <td>000901005</td>\n",
       "      <td>Platane</td>\n",
       "      <td>Platanus</td>\n",
       "      <td>x hispanica</td>\n",
       "      <td>NaN</td>\n",
       "      <td>45.0</td>\n",
       "      <td>9.0</td>\n",
       "      <td>JA</td>\n",
       "      <td>0.0</td>\n",
       "      <td>48.847297374, 2.28622497498</td>\n",
       "    </tr>\n",
       "    <tr>\n",
       "      <th>94</th>\n",
       "      <td>271810.0</td>\n",
       "      <td>Arbre</td>\n",
       "      <td>Alignement</td>\n",
       "      <td>PARIS 7E ARRDT</td>\n",
       "      <td>14</td>\n",
       "      <td>NaN</td>\n",
       "      <td>AVENUE DUQUESNE</td>\n",
       "      <td>000402019</td>\n",
       "      <td>Platane</td>\n",
       "      <td>Platanus</td>\n",
       "      <td>x hispanica</td>\n",
       "      <td>NaN</td>\n",
       "      <td>75.0</td>\n",
       "      <td>8.0</td>\n",
       "      <td>A</td>\n",
       "      <td>0.0</td>\n",
       "      <td>48.8519372776, 2.30959046852</td>\n",
       "    </tr>\n",
       "    <tr>\n",
       "      <th>111</th>\n",
       "      <td>257857.0</td>\n",
       "      <td>Arbre</td>\n",
       "      <td>Alignement</td>\n",
       "      <td>PARIS 7E ARRDT</td>\n",
       "      <td>215</td>\n",
       "      <td>NaN</td>\n",
       "      <td>BOULEVARD SAINT GERMAIN</td>\n",
       "      <td>004901002</td>\n",
       "      <td>Platane</td>\n",
       "      <td>Platanus</td>\n",
       "      <td>occidentalis</td>\n",
       "      <td>NaN</td>\n",
       "      <td>200.0</td>\n",
       "      <td>20.0</td>\n",
       "      <td>M</td>\n",
       "      <td>0.0</td>\n",
       "      <td>48.8570149372, 2.32438548389</td>\n",
       "    </tr>\n",
       "    <tr>\n",
       "      <th>112</th>\n",
       "      <td>258427.0</td>\n",
       "      <td>Arbre</td>\n",
       "      <td>Alignement</td>\n",
       "      <td>PARIS 15E ARRDT</td>\n",
       "      <td>2</td>\n",
       "      <td>NaN</td>\n",
       "      <td>RUE DU GENERAL GUILLAUMAT</td>\n",
       "      <td>000202001</td>\n",
       "      <td>Platane</td>\n",
       "      <td>Platanus</td>\n",
       "      <td>x hispanica</td>\n",
       "      <td>NaN</td>\n",
       "      <td>190.0</td>\n",
       "      <td>15.0</td>\n",
       "      <td>A</td>\n",
       "      <td>0.0</td>\n",
       "      <td>48.8287692194, 2.2937496863</td>\n",
       "    </tr>\n",
       "    <tr>\n",
       "      <th>113</th>\n",
       "      <td>276484.0</td>\n",
       "      <td>Arbre</td>\n",
       "      <td>Alignement</td>\n",
       "      <td>PARIS 7E ARRDT</td>\n",
       "      <td>27</td>\n",
       "      <td>NaN</td>\n",
       "      <td>AVENUE DE BRETEUIL</td>\n",
       "      <td>000303009</td>\n",
       "      <td>Platane</td>\n",
       "      <td>Platanus</td>\n",
       "      <td>orientalis</td>\n",
       "      <td>NaN</td>\n",
       "      <td>150.0</td>\n",
       "      <td>10.0</td>\n",
       "      <td>A</td>\n",
       "      <td>0.0</td>\n",
       "      <td>48.8497103295, 2.31222669589</td>\n",
       "    </tr>\n",
       "  </tbody>\n",
       "</table>\n",
       "</div>"
      ],
      "text/plain": [
       "       IDBASE TYPEEMPLACEMENT DOMANIALITE   ARRONDISSEMENT COMPLEMENTADRESSE  \\\n",
       "2    236391.0           Arbre  Alignement  PARIS 15E ARRDT                27   \n",
       "22   251225.0           Arbre  Alignement  PARIS 15E ARRDT              N°32   \n",
       "26   265449.0           Arbre  Alignement  PARIS 15E ARRDT             N°212   \n",
       "72   251071.0           Arbre  Alignement  PARIS 15E ARRDT                 2   \n",
       "77   275354.0           Arbre  Alignement   PARIS 7E ARRDT                27   \n",
       "93   266075.0           Arbre  Alignement  PARIS 15E ARRDT              N°81   \n",
       "94   271810.0           Arbre  Alignement   PARIS 7E ARRDT                14   \n",
       "111  257857.0           Arbre  Alignement   PARIS 7E ARRDT               215   \n",
       "112  258427.0           Arbre  Alignement  PARIS 15E ARRDT                 2   \n",
       "113  276484.0           Arbre  Alignement   PARIS 7E ARRDT                27   \n",
       "\n",
       "     NUMERO             LIEU / ADRESSE IDEMPLACEMENT       LIBELLEFRANCAIS  \\\n",
       "2       NaN        BOULEVARD GARIBALDI     000101024  Noisetier de Byzance   \n",
       "22      NaN             RUE DE VOUILLE     000602003               Tilleul   \n",
       "26      NaN       RUE DE LA CONVENTION     003202015               Tilleul   \n",
       "72      NaN          AVENUE DE SUFFREN     000202003               Tilleul   \n",
       "77      NaN    BOULEVARD DES INVALIDES     000301022               Platane   \n",
       "93      NaN          RUE SAINT CHARLES     000901005               Platane   \n",
       "94      NaN            AVENUE DUQUESNE     000402019               Platane   \n",
       "111     NaN    BOULEVARD SAINT GERMAIN     004901002               Platane   \n",
       "112     NaN  RUE DU GENERAL GUILLAUMAT     000202001               Platane   \n",
       "113     NaN         AVENUE DE BRETEUIL     000303009               Platane   \n",
       "\n",
       "        GENRE        ESPECE VARIETEOUCULTIVAR  CIRCONFERENCEENCM  HAUTEUR (m)  \\\n",
       "2     Corylus       colurna               NaN               60.0         10.0   \n",
       "22      Tilia     tomentosa               NaN              120.0         12.0   \n",
       "26      Tilia     tomentosa               NaN               70.0          8.0   \n",
       "72      Tilia     tomentosa               NaN              150.0         20.0   \n",
       "77   Platanus  occidentalis               NaN               15.0         15.0   \n",
       "93   Platanus   x hispanica               NaN               45.0          9.0   \n",
       "94   Platanus   x hispanica               NaN               75.0          8.0   \n",
       "111  Platanus  occidentalis               NaN              200.0         20.0   \n",
       "112  Platanus   x hispanica               NaN              190.0         15.0   \n",
       "113  Platanus    orientalis               NaN              150.0         10.0   \n",
       "\n",
       "    STADEDEVELOPPEMENT  REMARQUABLE                  geo_point_2d  \n",
       "2                   JA          NaN  48.8470727044, 2.30470921442  \n",
       "22                   A          0.0  48.8344213832, 2.30599876394  \n",
       "26                  JA          0.0  48.8367859294, 2.29774187171  \n",
       "72                   A          0.0  48.8572067827, 2.29131596986  \n",
       "77                   A          0.0    48.8549240846, 2.315000748  \n",
       "93                  JA          0.0   48.847297374, 2.28622497498  \n",
       "94                   A          0.0  48.8519372776, 2.30959046852  \n",
       "111                  M          0.0  48.8570149372, 2.32438548389  \n",
       "112                  A          0.0   48.8287692194, 2.2937496863  \n",
       "113                  A          0.0  48.8497103295, 2.31222669589  "
      ]
     },
     "execution_count": 71,
     "metadata": {},
     "output_type": "execute_result"
    }
   ],
   "source": [
    "# sur espece, stade de devt et arrondissement\n",
    "# considere que les data qui ont un numero non  null\n",
    "\n",
    "\n",
    "# je ne regarde que les rangees qui ont un comnplement d'addresse non null\n",
    "\n",
    "condition = ~df['COMPLEMENTADRESSE'].isnull()\n",
    "\n",
    "df_avec_complement_adresse = df[condition].copy()\n",
    "\n",
    "# sur ce sous ensemble je regarde les arbres qui ont la meme : domanialite, arrdt, ... espece\n",
    "\n",
    "similaire= df_avec_complement_adresse.duplicated(\n",
    "        subset = ['DOMANIALITE', 'ARRONDISSEMENT', 'COMPLEMENTADRESSE', 'ESPECE'], \n",
    "        keep = False\n",
    ")\n",
    "\n",
    "# le nombre d'arbres 1) avec complement d'adresse et 2) similaire sur les champs consideres\n",
    "print(df[condition & similaire].shape)\n",
    "# l'en tete \n",
    "df[condition & similaire].head(10)\n"
   ]
  },
  {
   "cell_type": "code",
   "execution_count": 84,
   "metadata": {},
   "outputs": [
    {
     "name": "stdout",
     "output_type": "stream",
     "text": [
      "108872    1.0\n",
      "171721    1.0\n",
      "128221    1.0\n",
      "63848     1.0\n",
      "59840     1.0\n",
      "Name: REMARQUABLE, dtype: float64\n",
      "200293   NaN\n",
      "200296   NaN\n",
      "200311   NaN\n",
      "200312   NaN\n",
      "200331   NaN\n",
      "Name: REMARQUABLE, dtype: float64\n"
     ]
    }
   ],
   "source": [
    "# ordonner la dataframe par remarquable \n",
    "# on veut les arbres remarquables en premier\n",
    "\n",
    "df.sort_values( by = ['REMARQUABLE'], ascending = False, inplace = True  )\n",
    "\n",
    "print(df['REMARQUABLE'].head())\n",
    "print(df['REMARQUABLE'].tail())\n"
   ]
  },
  {
   "cell_type": "code",
   "execution_count": 89,
   "metadata": {},
   "outputs": [
    {
     "name": "stdout",
     "output_type": "stream",
     "text": [
      "        REMARQUABLE  CIRCONFERENCEENCM\n",
      "8174            1.0             2439.0\n",
      "197194          1.0              695.0\n",
      "12708           1.0              686.0\n",
      "191164          1.0              645.0\n",
      "94121           1.0              634.0\n",
      "        REMARQUABLE  CIRCONFERENCEENCM\n",
      "122366          0.0           250255.0\n",
      "10790           0.0           120170.0\n",
      "66755           0.0            79120.0\n",
      "125697          0.0            65110.0\n",
      "141125          0.0            30140.0\n",
      "        REMARQUABLE  CIRCONFERENCEENCM\n",
      "10461           1.0               30.0\n",
      "96252           1.0               45.0\n",
      "137706          1.0               55.0\n",
      "167263          1.0               78.0\n",
      "102690          1.0               81.0\n"
     ]
    }
   ],
   "source": [
    "df.sort_values( by = ['REMARQUABLE', 'CIRCONFERENCEENCM'], ascending = False, inplace = True  )\n",
    "\n",
    "print(df[['REMARQUABLE', 'CIRCONFERENCEENCM']].head())\n",
    "\n",
    "df.sort_values( by = ['CIRCONFERENCEENCM', 'REMARQUABLE' ], ascending = False, inplace = True  )\n",
    "\n",
    "print(df[['REMARQUABLE', 'CIRCONFERENCEENCM']].head())\n",
    "\n",
    "\n",
    "df.sort_values( by = ['REMARQUABLE', 'CIRCONFERENCEENCM'], ascending = [False, True], inplace = True  )\n",
    "\n",
    "print(df[['REMARQUABLE', 'CIRCONFERENCEENCM']].head())\n",
    "\n",
    "\n"
   ]
  },
  {
   "cell_type": "code",
   "execution_count": 60,
   "metadata": {},
   "outputs": [
    {
     "data": {
      "text/plain": [
       "(31014, 17)"
      ]
     },
     "execution_count": 60,
     "metadata": {},
     "output_type": "execute_result"
    }
   ],
   "source": [
    "# selectionner une colonne : ['REMARQUABLE']\n",
    "df['REMARQUABLE']\n",
    "\n",
    "# selectionner plusieurs colonnes : [['REMARQUABLE', 'CIRCONFERENCEENCM']]\n",
    "\n",
    "df[['REMARQUABLE', 'CIRCONFERENCEENCM']]"
   ]
  },
  {
   "cell_type": "code",
   "execution_count": 88,
   "metadata": {},
   "outputs": [],
   "source": []
  },
  {
   "cell_type": "code",
   "execution_count": null,
   "metadata": {},
   "outputs": [],
   "source": []
  },
  {
   "cell_type": "markdown",
   "metadata": {},
   "source": [
    "# modifier le nom des colonnes\n",
    "\n",
    "* on affiche les colonnes avec \n",
    "        df.columns\n",
    "\n",
    "\n",
    "* on peut modifier le nom des colonnes simplement avec\n",
    "\n",
    "\n",
    "        df.columns = [liste des noms des nouvelles colonnes]\n",
    "\n",
    "1. ecrire une fonction *transforme_colonnes* qui prends en entree une liste de strings \n",
    "    et qui retourne les elements de cette liste \n",
    "    * en minsucule\n",
    "    * les ' ' remplacés par des '_'\n",
    "    * les parentheses ( et ) remplacées par des '_'\n",
    "    * qui remplace 2 '__' consecutifs par un seul '_'\n",
    "\n",
    "Utiliser pour cela  les fonctions suivantes\n",
    "\n",
    "        'A'.lower()\n",
    "et la fonction replace():\n",
    "\n",
    "        '(abc)'.replace( '(','_' ) )\n",
    "    \n",
    "    \n",
    "\n",
    "2. tester que la fonction fonctionne comme prévu avec assert:\n",
    "    \n",
    "        assert transforme_colonnes(['Hauteur (m)']) == 'hauteur__m', \"ca marche pas\"\n",
    "\n",
    "3. utiliser la fonction pour creer une nouvelle liste de nom de colonnes\n",
    "\n",
    "4. renommer les colonnes de df avec la nouvelle liste"
   ]
  },
  {
   "cell_type": "code",
   "execution_count": 9,
   "metadata": {},
   "outputs": [
    {
     "data": {
      "text/plain": [
       "PARIS 15E ARRDT      17156\n",
       "PARIS 13E ARRDT      16714\n",
       "PARIS 16E ARRDT      16405\n",
       "PARIS 20E ARRDT      15341\n",
       "PARIS 19E ARRDT      13723\n",
       "PARIS 12E ARRDT      12602\n",
       "SEINE-SAINT-DENIS    11574\n",
       "BOIS DE VINCENNES    11512\n",
       "PARIS 14E ARRDT      11422\n",
       "PARIS 17E ARRDT      10764\n",
       "PARIS 18E ARRDT      10025\n",
       "PARIS 7E ARRDT        8689\n",
       "VAL-DE-MARNE          7581\n",
       "PARIS 8E ARRDT        7247\n",
       "PARIS 11E ARRDT       5663\n",
       "HAUTS-DE-SEINE        5299\n",
       "BOIS DE BOULOGNE      3983\n",
       "PARIS 10E ARRDT       3386\n",
       "PARIS 4E ARRDT        2740\n",
       "PARIS 5E ARRDT        2403\n",
       "PARIS 6E ARRDT        1766\n",
       "PARIS 1ER ARRDT       1413\n",
       "PARIS 3E ARRDT        1209\n",
       "PARIS 9E ARRDT        1167\n",
       "PARIS 2E ARRDT         548\n",
       "Name: ARRONDISSEMENT, dtype: int64"
      ]
     },
     "execution_count": 9,
     "metadata": {},
     "output_type": "execute_result"
    }
   ],
   "source": [
    "df.ARRONDISSEMENT.value_counts()"
   ]
  },
  {
   "cell_type": "markdown",
   "metadata": {},
   "source": [
    "# Arbres geants\n",
    "\n",
    "\n",
    "On a vu que certains arbres avaient des valeurs abberrantes en hauteur et circonference. On va d'abord retrouver ces valeurs puis supprimer ces echantillons du dataset.\n",
    "\n",
    "1. avec la fonction describe() appliquée a la colonne 'hauteur_m' et 'circonferenceemcm'\n",
    "\n",
    "2. en plotant un histogram des valeurs avec\n",
    "\n",
    "        df.hauteur_m.hist(bins = 100)\n",
    "\n",
    "\n",
    "3. regarder (describe et hist) maintenant un sous ensemble des donnees \n",
    "\n",
    "        condition = df.hauteur_m < 50\n",
    "        \n",
    "Q) qu'est ce qu'il y a maintenant dans l'objet *condition* ?\n",
    "\n",
    "4. regarder les histograms et les stats de df[condition]\n",
    "\n",
    "\n",
    "5. supprimer les echantillons absurdes (hauteur et circonference) simplement avec\n",
    "\n",
    "        df = df[condition]\n",
    "\n",
    "6. combien d'echantillons ont ainsi ete supprimés ?\n",
    "\n",
    "\n"
   ]
  },
  {
   "cell_type": "code",
   "execution_count": null,
   "metadata": {},
   "outputs": [],
   "source": []
  },
  {
   "cell_type": "markdown",
   "metadata": {},
   "source": [
    "\n",
    "\n"
   ]
  },
  {
   "cell_type": "code",
   "execution_count": 10,
   "metadata": {},
   "outputs": [
    {
     "data": {
      "text/html": [
       "<div>\n",
       "<style scoped>\n",
       "    .dataframe tbody tr th:only-of-type {\n",
       "        vertical-align: middle;\n",
       "    }\n",
       "\n",
       "    .dataframe tbody tr th {\n",
       "        vertical-align: top;\n",
       "    }\n",
       "\n",
       "    .dataframe thead th {\n",
       "        text-align: right;\n",
       "    }\n",
       "</style>\n",
       "<table border=\"1\" class=\"dataframe\">\n",
       "  <thead>\n",
       "    <tr style=\"text-align: right;\">\n",
       "      <th></th>\n",
       "      <th>IDBASE</th>\n",
       "      <th>TYPEEMPLACEMENT</th>\n",
       "      <th>DOMANIALITE</th>\n",
       "      <th>ARRONDISSEMENT</th>\n",
       "      <th>COMPLEMENTADRESSE</th>\n",
       "      <th>NUMERO</th>\n",
       "      <th>LIEU / ADRESSE</th>\n",
       "      <th>IDEMPLACEMENT</th>\n",
       "      <th>LIBELLEFRANCAIS</th>\n",
       "      <th>GENRE</th>\n",
       "      <th>ESPECE</th>\n",
       "      <th>VARIETEOUCULTIVAR</th>\n",
       "      <th>CIRCONFERENCEENCM</th>\n",
       "      <th>HAUTEUR (m)</th>\n",
       "      <th>STADEDEVELOPPEMENT</th>\n",
       "      <th>REMARQUABLE</th>\n",
       "      <th>geo_point_2d</th>\n",
       "    </tr>\n",
       "  </thead>\n",
       "  <tbody>\n",
       "    <tr>\n",
       "      <th>0</th>\n",
       "      <td>232702.0</td>\n",
       "      <td>Arbre</td>\n",
       "      <td>Alignement</td>\n",
       "      <td>PARIS 11E ARRDT</td>\n",
       "      <td>NaN</td>\n",
       "      <td>NaN</td>\n",
       "      <td>BOULEVARD DE MENILMONTANT</td>\n",
       "      <td>000602002</td>\n",
       "      <td>Sophora</td>\n",
       "      <td>Sophora</td>\n",
       "      <td>japonica</td>\n",
       "      <td>NaN</td>\n",
       "      <td>55.0</td>\n",
       "      <td>5.0</td>\n",
       "      <td>JA</td>\n",
       "      <td>0.0</td>\n",
       "      <td>48.8652353853, 2.38481800435</td>\n",
       "    </tr>\n",
       "    <tr>\n",
       "      <th>1</th>\n",
       "      <td>235862.0</td>\n",
       "      <td>Arbre</td>\n",
       "      <td>Alignement</td>\n",
       "      <td>PARIS 18E ARRDT</td>\n",
       "      <td>NaN</td>\n",
       "      <td>NaN</td>\n",
       "      <td>AVENUE DE LA PORTE DE CLIGNANCOURT</td>\n",
       "      <td>000303007</td>\n",
       "      <td>Tilleul</td>\n",
       "      <td>Tilia</td>\n",
       "      <td>tomentosa</td>\n",
       "      <td>NaN</td>\n",
       "      <td>60.0</td>\n",
       "      <td>10.0</td>\n",
       "      <td>JA</td>\n",
       "      <td>NaN</td>\n",
       "      <td>48.8999949231, 2.34379810146</td>\n",
       "    </tr>\n",
       "    <tr>\n",
       "      <th>2</th>\n",
       "      <td>236391.0</td>\n",
       "      <td>Arbre</td>\n",
       "      <td>Alignement</td>\n",
       "      <td>PARIS 15E ARRDT</td>\n",
       "      <td>27</td>\n",
       "      <td>NaN</td>\n",
       "      <td>BOULEVARD GARIBALDI</td>\n",
       "      <td>000101024</td>\n",
       "      <td>Noisetier de Byzance</td>\n",
       "      <td>Corylus</td>\n",
       "      <td>colurna</td>\n",
       "      <td>NaN</td>\n",
       "      <td>60.0</td>\n",
       "      <td>10.0</td>\n",
       "      <td>JA</td>\n",
       "      <td>NaN</td>\n",
       "      <td>48.8470727044, 2.30470921442</td>\n",
       "    </tr>\n",
       "    <tr>\n",
       "      <th>3</th>\n",
       "      <td>241122.0</td>\n",
       "      <td>Arbre</td>\n",
       "      <td>Alignement</td>\n",
       "      <td>PARIS 14E ARRDT</td>\n",
       "      <td>NaN</td>\n",
       "      <td>NaN</td>\n",
       "      <td>RUE SARRETTE</td>\n",
       "      <td>000501003</td>\n",
       "      <td>Tilleul</td>\n",
       "      <td>Tilia</td>\n",
       "      <td>tomentosa</td>\n",
       "      <td>NaN</td>\n",
       "      <td>155.0</td>\n",
       "      <td>12.0</td>\n",
       "      <td>A</td>\n",
       "      <td>0.0</td>\n",
       "      <td>48.8259993388, 2.32878574525</td>\n",
       "    </tr>\n",
       "    <tr>\n",
       "      <th>4</th>\n",
       "      <td>99927.0</td>\n",
       "      <td>Arbre</td>\n",
       "      <td>Jardin</td>\n",
       "      <td>PARIS 16E ARRDT</td>\n",
       "      <td>NaN</td>\n",
       "      <td>NaN</td>\n",
       "      <td>JARDIN DU RANELAGH</td>\n",
       "      <td>00030007</td>\n",
       "      <td>Erable</td>\n",
       "      <td>Acer</td>\n",
       "      <td>platanoides</td>\n",
       "      <td>'Schwedleri'</td>\n",
       "      <td>125.0</td>\n",
       "      <td>0.0</td>\n",
       "      <td>NaN</td>\n",
       "      <td>NaN</td>\n",
       "      <td>48.858836461, 2.26870442691</td>\n",
       "    </tr>\n",
       "  </tbody>\n",
       "</table>\n",
       "</div>"
      ],
      "text/plain": [
       "     IDBASE TYPEEMPLACEMENT DOMANIALITE   ARRONDISSEMENT COMPLEMENTADRESSE  \\\n",
       "0  232702.0           Arbre  Alignement  PARIS 11E ARRDT               NaN   \n",
       "1  235862.0           Arbre  Alignement  PARIS 18E ARRDT               NaN   \n",
       "2  236391.0           Arbre  Alignement  PARIS 15E ARRDT                27   \n",
       "3  241122.0           Arbre  Alignement  PARIS 14E ARRDT               NaN   \n",
       "4   99927.0           Arbre      Jardin  PARIS 16E ARRDT               NaN   \n",
       "\n",
       "   NUMERO                      LIEU / ADRESSE IDEMPLACEMENT  \\\n",
       "0     NaN           BOULEVARD DE MENILMONTANT     000602002   \n",
       "1     NaN  AVENUE DE LA PORTE DE CLIGNANCOURT     000303007   \n",
       "2     NaN                 BOULEVARD GARIBALDI     000101024   \n",
       "3     NaN                        RUE SARRETTE     000501003   \n",
       "4     NaN                  JARDIN DU RANELAGH      00030007   \n",
       "\n",
       "        LIBELLEFRANCAIS    GENRE       ESPECE VARIETEOUCULTIVAR  \\\n",
       "0               Sophora  Sophora     japonica               NaN   \n",
       "1               Tilleul    Tilia    tomentosa               NaN   \n",
       "2  Noisetier de Byzance  Corylus      colurna               NaN   \n",
       "3               Tilleul    Tilia    tomentosa               NaN   \n",
       "4                Erable     Acer  platanoides      'Schwedleri'   \n",
       "\n",
       "   CIRCONFERENCEENCM  HAUTEUR (m) STADEDEVELOPPEMENT  REMARQUABLE  \\\n",
       "0               55.0          5.0                 JA          0.0   \n",
       "1               60.0         10.0                 JA          NaN   \n",
       "2               60.0         10.0                 JA          NaN   \n",
       "3              155.0         12.0                  A          0.0   \n",
       "4              125.0          0.0                NaN          NaN   \n",
       "\n",
       "                   geo_point_2d  \n",
       "0  48.8652353853, 2.38481800435  \n",
       "1  48.8999949231, 2.34379810146  \n",
       "2  48.8470727044, 2.30470921442  \n",
       "3  48.8259993388, 2.32878574525  \n",
       "4   48.858836461, 2.26870442691  "
      ]
     },
     "execution_count": 10,
     "metadata": {},
     "output_type": "execute_result"
    }
   ],
   "source": []
  },
  {
   "cell_type": "markdown",
   "metadata": {},
   "source": [
    "# Especes d'arbres\n",
    "\n",
    "On va regarder maintenant les especes d'arbres avec la fonction value_counts() sur la colonne *libellefrancais*.\n",
    "\n",
    "1. combien a t on d'especes d'arbres differentes ?\n",
    "\n",
    "2. combien a t on de domanialité ?\n",
    "\n",
    "3. rajouter `dropna = False` dans value_counts(). a t on des données manquantes  sur ces 2 colonnes ?\n",
    "\n",
    "4. maintenant la question est de savoir si les especes d'abres varient en fonction de leur domanialité. En utilisant des conditions (df.domanialite == 'Alignement'), ... regarder si les especes principales varient beaucoup en fonction de la domanialité. \n",
    "\n",
    "\n"
   ]
  },
  {
   "cell_type": "code",
   "execution_count": null,
   "metadata": {},
   "outputs": [],
   "source": []
  },
  {
   "cell_type": "markdown",
   "metadata": {},
   "source": [
    "# Nouvelles colonnes\n",
    "\n",
    "On a les hauteurs d'arbres en metre et les circonference en cm\n",
    "\n",
    "1. creer une nouvelle colonne `hauteur_cm`\n",
    "\n",
    "2. les arrondissements ne sont pas tous dans paris. Creer une nouvelle colonne `dans_paris`  Boolean (True ou False) qui soit True quand l'arrondissement contient la string `PARIS` et False sinon\n",
    "\n"
   ]
  },
  {
   "cell_type": "code",
   "execution_count": 91,
   "metadata": {},
   "outputs": [],
   "source": [
    "\n",
    "df['hauteur_cm'] = df['HAUTEUR (m)'] * 100\n",
    "\n"
   ]
  },
  {
   "cell_type": "code",
   "execution_count": 92,
   "metadata": {},
   "outputs": [
    {
     "name": "stdout",
     "output_type": "stream",
     "text": [
      "count    200332.000000\n",
      "mean         13.108235\n",
      "std        1970.258098\n",
      "min           0.000000\n",
      "25%           5.000000\n",
      "50%           8.000000\n",
      "75%          12.000000\n",
      "max      881818.000000\n",
      "Name: HAUTEUR (m), dtype: float64\n",
      "count    2.003320e+05\n",
      "mean     1.310824e+03\n",
      "std      1.970258e+05\n",
      "min      0.000000e+00\n",
      "25%      5.000000e+02\n",
      "50%      8.000000e+02\n",
      "75%      1.200000e+03\n",
      "max      8.818180e+07\n",
      "Name: hauteur_cm, dtype: float64\n"
     ]
    }
   ],
   "source": [
    "print(df['HAUTEUR (m)'].describe())\n",
    "print(df['hauteur_cm'].describe())"
   ]
  },
  {
   "cell_type": "code",
   "execution_count": 102,
   "metadata": {},
   "outputs": [
    {
     "name": "stdout",
     "output_type": "stream",
     "text": [
      "1\n",
      "10461     1\n",
      "96252     1\n",
      "137706    1\n",
      "167263    1\n",
      "102690    1\n",
      "Name: ma_nouvelle_colonne, dtype: int64\n"
     ]
    }
   ],
   "source": [
    "# ça marche pas, la colonne n'est pas créée\n",
    "df.nouvelle_colonne = 1\n",
    "print(df.nouvelle_colonne)\n",
    "\n",
    "# ça, ça marche\n",
    "\n",
    "\n",
    "df['ma_nouvelle_colonne'] = 1\n",
    "print(df.ma_nouvelle_colonne.head())\n",
    "\n"
   ]
  },
  {
   "cell_type": "markdown",
   "metadata": {},
   "source": [
    "2. les arrondissements ne sont pas tous dans paris. Creer une nouvelle colonne `dans_paris`  Boolean (True ou False) qui soit True quand l'arrondissement contient la string `PARIS` et False sinon\n"
   ]
  },
  {
   "cell_type": "code",
   "execution_count": 107,
   "metadata": {},
   "outputs": [
    {
     "name": "stdout",
     "output_type": "stream",
     "text": [
      "['PARIS 18E ARRDT' 'PARIS 10E ARRDT' 'PARIS 3E ARRDT' 'PARIS 12E ARRDT'\n",
      " 'PARIS 4E ARRDT' 'PARIS 5E ARRDT' 'PARIS 13E ARRDT' 'PARIS 16E ARRDT'\n",
      " 'PARIS 20E ARRDT' 'PARIS 7E ARRDT' 'PARIS 1ER ARRDT' 'PARIS 15E ARRDT'\n",
      " 'PARIS 14E ARRDT' 'PARIS 19E ARRDT' 'PARIS 17E ARRDT' 'PARIS 8E ARRDT'\n",
      " 'PARIS 11E ARRDT' 'PARIS 6E ARRDT' 'PARIS 9E ARRDT' 'PARIS 2E ARRDT']\n"
     ]
    }
   ],
   "source": [
    "# trouver les rangées dont l'arrondissement est dans Paris\n",
    "\n",
    "df['ARRONDISSEMENT'].value_counts()\n",
    "\n",
    "# \"PARIS\" in \"PARIS 15E ARRDT\" => True\n",
    "\n",
    "\n",
    "condition =    df['ARRONDISSEMENT'].str.contains(\"PARIS\")\n",
    "\n",
    "# on a plus seine st denis, bois de vincennes, ....\n",
    "# print(df[condition]['ARRONDISSEMENT'].value_counts())\n",
    "\n",
    "# autre facon de regarder les valeurs uniques d'une colonne\n",
    "\n",
    "print(df[condition]['ARRONDISSEMENT'].unique())\n"
   ]
  },
  {
   "cell_type": "code",
   "execution_count": 111,
   "metadata": {},
   "outputs": [
    {
     "name": "stdout",
     "output_type": "stream",
     "text": [
      "il y a 160383 arbres dans un arrondissement de Paris\n"
     ]
    }
   ],
   "source": [
    "# sum d'une liste de boolean donne le nombre de valeurs a True\n",
    "print(\"il y a {} arbres dans un arrondissement de Paris\".format(sum(condition)))"
   ]
  },
  {
   "cell_type": "code",
   "execution_count": 113,
   "metadata": {},
   "outputs": [
    {
     "data": {
      "text/plain": [
       "True     160383\n",
       "False     39949\n",
       "Name: dans_paris, dtype: int64"
      ]
     },
     "execution_count": 113,
     "metadata": {},
     "output_type": "execute_result"
    }
   ],
   "source": [
    "# creer la nouvelle colonne\n",
    "\n",
    "df['dans_paris'] = condition\n",
    "\n",
    "df.dans_paris.value_counts()\n",
    "\n",
    "# df.head()\n"
   ]
  },
  {
   "cell_type": "code",
   "execution_count": 120,
   "metadata": {},
   "outputs": [
    {
     "data": {
      "text/plain": [
       "count    25869.0\n",
       "mean         0.0\n",
       "std          0.0\n",
       "min          0.0\n",
       "25%          0.0\n",
       "50%          0.0\n",
       "75%          0.0\n",
       "max          0.0\n",
       "Name: CIRCONFERENCEENCM, dtype: float64"
      ]
     },
     "execution_count": 120,
     "metadata": {},
     "output_type": "execute_result"
    }
   ],
   "source": [
    "# on a 25k arbres avec une circonference de 0 \n",
    "# pour lesquels on ne peut pas calculer de raport hauteur / circonference\n",
    "df[df.CIRCONFERENCEENCM < 1].CIRCONFERENCEENCM.describe()"
   ]
  },
  {
   "cell_type": "code",
   "execution_count": 130,
   "metadata": {},
   "outputs": [
    {
     "data": {
      "text/plain": [
       "IDBASE                                       125087\n",
       "TYPEEMPLACEMENT                               Arbre\n",
       "DOMANIALITE                                  Jardin\n",
       "ARRONDISSEMENT                      PARIS 18E ARRDT\n",
       "COMPLEMENTADRESSE                               NaN\n",
       "NUMERO                                          NaN\n",
       "LIEU / ADRESSE                 SQUARE LOUISE MICHEL\n",
       "IDEMPLACEMENT                              00001160\n",
       "LIBELLEFRANCAIS                           Grenadier\n",
       "GENRE                                        Punica\n",
       "ESPECE                                     granatum\n",
       "VARIETEOUCULTIVAR                               NaN\n",
       "CIRCONFERENCEENCM                                30\n",
       "HAUTEUR (m)                                       3\n",
       "STADEDEVELOPPEMENT                                A\n",
       "REMARQUABLE                                       1\n",
       "geo_point_2d           48.8856292413, 2.34379244341\n",
       "hauteur_cm                                      300\n",
       "nouvelle_colonne                                  1\n",
       "ma_nouvelle_colonne                               1\n",
       "dans_paris                                     True\n",
       "rapport                                           0\n",
       "Name: 0, dtype: object"
      ]
     },
     "execution_count": 130,
     "metadata": {},
     "output_type": "execute_result"
    }
   ],
   "source": [
    "df.reset_index(drop = True, inplace = True)\n",
    "df.head()\n",
    "df.loc[0]"
   ]
  },
  {
   "cell_type": "code",
   "execution_count": 141,
   "metadata": {},
   "outputs": [
    {
     "name": "stderr",
     "output_type": "stream",
     "text": [
      "200332it [03:18, 1010.19it/s]"
     ]
    },
    {
     "name": "stdout",
     "output_type": "stream",
     "text": [
      "(25869, 19)\n"
     ]
    },
    {
     "name": "stderr",
     "output_type": "stream",
     "text": [
      "\n"
     ]
    }
   ],
   "source": [
    "# ratio entre hauteur et circonference\n",
    "from tqdm import tqdm\n",
    "\n",
    "\n",
    "df['rapport'] = 0\n",
    "for i,d in tqdm(df.iterrows()):\n",
    "    try: \n",
    "        df.loc[i, 'rapport'] = d['hauteur_cm'] / d['CIRCONFERENCEENCM']\n",
    "    except:\n",
    "        df.loc[i, 'rapport'] = -1\n",
    "\n",
    "print(df[df.rapport == -1].shape)"
   ]
  },
  {
   "cell_type": "code",
   "execution_count": 140,
   "metadata": {},
   "outputs": [
    {
     "data": {
      "text/plain": [
       "<matplotlib.axes._subplots.AxesSubplot at 0x7ff7650bd2e8>"
      ]
     },
     "execution_count": 140,
     "metadata": {},
     "output_type": "execute_result"
    },
    {
     "data": {
      "image/png": "[encoded data removed]",
      "text/plain": [
       "<Figure size 432x288 with 1 Axes>"
      ]
     },
     "metadata": {},
     "output_type": "display_data"
    }
   ],
   "source": [
    "%matplotlib inline\n",
    "df.rapport.hist(bins = 100)"
   ]
  },
  {
   "cell_type": "markdown",
   "metadata": {},
   "source": [
    "# on reprend le dataset a partir du debut \n"
   ]
  },
  {
   "cell_type": "code",
   "execution_count": 136,
   "metadata": {},
   "outputs": [
    {
     "name": "stderr",
     "output_type": "stream",
     "text": [
      "b'Skipping line 1916: expected 17 fields, saw 18\\n'\n"
     ]
    },
    {
     "data": {
      "text/html": [
       "<div>\n",
       "<style scoped>\n",
       "    .dataframe tbody tr th:only-of-type {\n",
       "        vertical-align: middle;\n",
       "    }\n",
       "\n",
       "    .dataframe tbody tr th {\n",
       "        vertical-align: top;\n",
       "    }\n",
       "\n",
       "    .dataframe thead th {\n",
       "        text-align: right;\n",
       "    }\n",
       "</style>\n",
       "<table border=\"1\" class=\"dataframe\">\n",
       "  <thead>\n",
       "    <tr style=\"text-align: right;\">\n",
       "      <th></th>\n",
       "      <th>IDBASE</th>\n",
       "      <th>TYPEEMPLACEMENT</th>\n",
       "      <th>DOMANIALITE</th>\n",
       "      <th>ARRONDISSEMENT</th>\n",
       "      <th>COMPLEMENTADRESSE</th>\n",
       "      <th>NUMERO</th>\n",
       "      <th>LIEU / ADRESSE</th>\n",
       "      <th>IDEMPLACEMENT</th>\n",
       "      <th>LIBELLEFRANCAIS</th>\n",
       "      <th>GENRE</th>\n",
       "      <th>ESPECE</th>\n",
       "      <th>VARIETEOUCULTIVAR</th>\n",
       "      <th>CIRCONFERENCEENCM</th>\n",
       "      <th>HAUTEUR (m)</th>\n",
       "      <th>STADEDEVELOPPEMENT</th>\n",
       "      <th>REMARQUABLE</th>\n",
       "      <th>geo_point_2d</th>\n",
       "      <th>hauteur_cm</th>\n",
       "    </tr>\n",
       "  </thead>\n",
       "  <tbody>\n",
       "    <tr>\n",
       "      <th>0</th>\n",
       "      <td>232702.0</td>\n",
       "      <td>Arbre</td>\n",
       "      <td>Alignement</td>\n",
       "      <td>PARIS 11E ARRDT</td>\n",
       "      <td>NaN</td>\n",
       "      <td>NaN</td>\n",
       "      <td>BOULEVARD DE MENILMONTANT</td>\n",
       "      <td>000602002</td>\n",
       "      <td>Sophora</td>\n",
       "      <td>Sophora</td>\n",
       "      <td>japonica</td>\n",
       "      <td>NaN</td>\n",
       "      <td>55.0</td>\n",
       "      <td>5.0</td>\n",
       "      <td>JA</td>\n",
       "      <td>0.0</td>\n",
       "      <td>48.8652353853, 2.38481800435</td>\n",
       "      <td>500.0</td>\n",
       "    </tr>\n",
       "    <tr>\n",
       "      <th>1</th>\n",
       "      <td>235862.0</td>\n",
       "      <td>Arbre</td>\n",
       "      <td>Alignement</td>\n",
       "      <td>PARIS 18E ARRDT</td>\n",
       "      <td>NaN</td>\n",
       "      <td>NaN</td>\n",
       "      <td>AVENUE DE LA PORTE DE CLIGNANCOURT</td>\n",
       "      <td>000303007</td>\n",
       "      <td>Tilleul</td>\n",
       "      <td>Tilia</td>\n",
       "      <td>tomentosa</td>\n",
       "      <td>NaN</td>\n",
       "      <td>60.0</td>\n",
       "      <td>10.0</td>\n",
       "      <td>JA</td>\n",
       "      <td>NaN</td>\n",
       "      <td>48.8999949231, 2.34379810146</td>\n",
       "      <td>1000.0</td>\n",
       "    </tr>\n",
       "    <tr>\n",
       "      <th>2</th>\n",
       "      <td>236391.0</td>\n",
       "      <td>Arbre</td>\n",
       "      <td>Alignement</td>\n",
       "      <td>PARIS 15E ARRDT</td>\n",
       "      <td>27</td>\n",
       "      <td>NaN</td>\n",
       "      <td>BOULEVARD GARIBALDI</td>\n",
       "      <td>000101024</td>\n",
       "      <td>Noisetier de Byzance</td>\n",
       "      <td>Corylus</td>\n",
       "      <td>colurna</td>\n",
       "      <td>NaN</td>\n",
       "      <td>60.0</td>\n",
       "      <td>10.0</td>\n",
       "      <td>JA</td>\n",
       "      <td>NaN</td>\n",
       "      <td>48.8470727044, 2.30470921442</td>\n",
       "      <td>1000.0</td>\n",
       "    </tr>\n",
       "    <tr>\n",
       "      <th>3</th>\n",
       "      <td>241122.0</td>\n",
       "      <td>Arbre</td>\n",
       "      <td>Alignement</td>\n",
       "      <td>PARIS 14E ARRDT</td>\n",
       "      <td>NaN</td>\n",
       "      <td>NaN</td>\n",
       "      <td>RUE SARRETTE</td>\n",
       "      <td>000501003</td>\n",
       "      <td>Tilleul</td>\n",
       "      <td>Tilia</td>\n",
       "      <td>tomentosa</td>\n",
       "      <td>NaN</td>\n",
       "      <td>155.0</td>\n",
       "      <td>12.0</td>\n",
       "      <td>A</td>\n",
       "      <td>0.0</td>\n",
       "      <td>48.8259993388, 2.32878574525</td>\n",
       "      <td>1200.0</td>\n",
       "    </tr>\n",
       "    <tr>\n",
       "      <th>4</th>\n",
       "      <td>99927.0</td>\n",
       "      <td>Arbre</td>\n",
       "      <td>Jardin</td>\n",
       "      <td>PARIS 16E ARRDT</td>\n",
       "      <td>NaN</td>\n",
       "      <td>NaN</td>\n",
       "      <td>JARDIN DU RANELAGH</td>\n",
       "      <td>00030007</td>\n",
       "      <td>Erable</td>\n",
       "      <td>Acer</td>\n",
       "      <td>platanoides</td>\n",
       "      <td>'Schwedleri'</td>\n",
       "      <td>125.0</td>\n",
       "      <td>0.0</td>\n",
       "      <td>NaN</td>\n",
       "      <td>NaN</td>\n",
       "      <td>48.858836461, 2.26870442691</td>\n",
       "      <td>0.0</td>\n",
       "    </tr>\n",
       "  </tbody>\n",
       "</table>\n",
       "</div>"
      ],
      "text/plain": [
       "     IDBASE TYPEEMPLACEMENT DOMANIALITE   ARRONDISSEMENT COMPLEMENTADRESSE  \\\n",
       "0  232702.0           Arbre  Alignement  PARIS 11E ARRDT               NaN   \n",
       "1  235862.0           Arbre  Alignement  PARIS 18E ARRDT               NaN   \n",
       "2  236391.0           Arbre  Alignement  PARIS 15E ARRDT                27   \n",
       "3  241122.0           Arbre  Alignement  PARIS 14E ARRDT               NaN   \n",
       "4   99927.0           Arbre      Jardin  PARIS 16E ARRDT               NaN   \n",
       "\n",
       "   NUMERO                      LIEU / ADRESSE IDEMPLACEMENT  \\\n",
       "0     NaN           BOULEVARD DE MENILMONTANT     000602002   \n",
       "1     NaN  AVENUE DE LA PORTE DE CLIGNANCOURT     000303007   \n",
       "2     NaN                 BOULEVARD GARIBALDI     000101024   \n",
       "3     NaN                        RUE SARRETTE     000501003   \n",
       "4     NaN                  JARDIN DU RANELAGH      00030007   \n",
       "\n",
       "        LIBELLEFRANCAIS    GENRE       ESPECE VARIETEOUCULTIVAR  \\\n",
       "0               Sophora  Sophora     japonica               NaN   \n",
       "1               Tilleul    Tilia    tomentosa               NaN   \n",
       "2  Noisetier de Byzance  Corylus      colurna               NaN   \n",
       "3               Tilleul    Tilia    tomentosa               NaN   \n",
       "4                Erable     Acer  platanoides      'Schwedleri'   \n",
       "\n",
       "   CIRCONFERENCEENCM  HAUTEUR (m) STADEDEVELOPPEMENT  REMARQUABLE  \\\n",
       "0               55.0          5.0                 JA          0.0   \n",
       "1               60.0         10.0                 JA          NaN   \n",
       "2               60.0         10.0                 JA          NaN   \n",
       "3              155.0         12.0                  A          0.0   \n",
       "4              125.0          0.0                NaN          NaN   \n",
       "\n",
       "                   geo_point_2d  hauteur_cm  \n",
       "0  48.8652353853, 2.38481800435       500.0  \n",
       "1  48.8999949231, 2.34379810146      1000.0  \n",
       "2  48.8470727044, 2.30470921442      1000.0  \n",
       "3  48.8259993388, 2.32878574525      1200.0  \n",
       "4   48.858836461, 2.26870442691         0.0  "
      ]
     },
     "execution_count": 136,
     "metadata": {},
     "output_type": "execute_result"
    }
   ],
   "source": [
    "import pandas as pd\n",
    "\n",
    "DATA_PATH = '/home/alexis/py918/data/'\n",
    "filename = 'les-arbres.csv'\n",
    "\n",
    "df = pd.read_csv(DATA_PATH + filename, sep=';', error_bad_lines=False)\n",
    "\n",
    "df['hauteur_cm'] = df['HAUTEUR (m)'] * 100\n",
    "\n",
    "df.head()\n"
   ]
  },
  {
   "cell_type": "code",
   "execution_count": null,
   "metadata": {},
   "outputs": [],
   "source": []
  },
  {
   "cell_type": "code",
   "execution_count": null,
   "metadata": {},
   "outputs": [],
   "source": []
  },
  {
   "cell_type": "markdown",
   "metadata": {},
   "source": [
    "# hauteur vs circonference\n",
    "\n",
    "\n",
    "1. En utilisant matplotlib: regarder la variation de la hauteur en fonction de la circonference\n",
    "\n",
    "\n",
    "    plt.scatterplot(df.circonference, df.hauteur_m)\n",
    "\n",
    "2. en utilisant la variable dans paris, comparez la hauteur / circonference des arbres dans paris et en banlieue.\n",
    "\n",
    "par exemple\n",
    "        \n",
    "\n",
    "        plt.plot(df[df.dans_paris].circonference, df[df.dans_paris].hauteur_m)\n",
    "\n",
    "suivi de         \n",
    "\n",
    "        plt.plot(df[~df.dans_paris].circonference, df[~df.dans_paris].hauteur_m)\n",
    "\n"
   ]
  },
  {
   "cell_type": "code",
   "execution_count": null,
   "metadata": {},
   "outputs": [],
   "source": []
  },
  {
   "cell_type": "markdown",
   "metadata": {},
   "source": [
    "# sauver le dataset\n",
    "\n",
    "1. En utilisant la fonction df.to_csv(), sauver un sous ensemble du dataset composé des arbres dans paris et dont la hauteur / circonference est non absurde.\n",
    "\n",
    "2. `import csv` puis utiliser le parametre quoting = csv.QUOTE_ALL pour etre sur que tous les elements du fichier csv seront entre double quote.\n",
    "\n",
    "\n",
    "\n"
   ]
  },
  {
   "cell_type": "code",
   "execution_count": null,
   "metadata": {},
   "outputs": [],
   "source": []
  }
 ],
 "metadata": {
  "kernelspec": {
   "display_name": "Python 3",
   "language": "python",
   "name": "python3"
  },
  "language_info": {
   "codemirror_mode": {
    "name": "ipython",
    "version": 3
   },
   "file_extension": ".py",
   "mimetype": "text/x-python",
   "name": "python",
   "nbconvert_exporter": "python",
   "pygments_lexer": "ipython3",
   "version": "3.6.5"
  }
 },
 "nbformat": 4,
 "nbformat_minor": 2
}
