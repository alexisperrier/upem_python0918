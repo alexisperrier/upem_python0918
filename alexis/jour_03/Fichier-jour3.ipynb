{
 "cells": [
  {
   "cell_type": "markdown",
   "metadata": {},
   "source": [
    "# Lire les fichiers du data set BBC\n",
    "\n",
    "\n",
    "Les fichiers sont \n",
    "\n",
    "\"/home/alexis/py918/data/bbc/\"\n",
    "\n"
   ]
  },
  {
   "cell_type": "markdown",
   "metadata": {},
   "source": [
    "# 1. lire le contenu du README.TXT\n"
   ]
  },
  {
   "cell_type": "code",
   "execution_count": 1,
   "metadata": {},
   "outputs": [
    {
     "name": "stdout",
     "output_type": "stream",
     "text": [
      "['Consists of 2225 documents from the BBC news website corresponding to stories in five topical areas from 2004-2005.\\n', 'Natural Classes: 5 (business, entertainment, politics, sport, tech)\\n', '\\n', 'If you make use of the dataset, please consider citing the publication: \\n', '- D. Greene and P. Cunningham. \"Practical Solutions to the Problem of Diagonal Dominance in Kernel Document Clustering\", Proc. ICML 2006.\\n', '\\n', 'All rights, including copyright, in the content of the original articles are owned by the BBC.\\n', '\\n', 'Contact Derek Greene <derek.greene@ucd.ie> for further information.\\n', 'http://mlg.ucd.ie/datasets/bbc.html\\n', '\\n']\n"
     ]
    }
   ],
   "source": [
    "\n",
    "DATA_PATH = \"/home/alexis/py918/data/bbc/\"\n",
    "filename = \"README.TXT\"\n",
    "\n",
    "with open( DATA_PATH + filename    ) as f: \n",
    "    lines = f.readlines()\n",
    "\n",
    "print(lines)"
   ]
  },
  {
   "cell_type": "code",
   "execution_count": 2,
   "metadata": {},
   "outputs": [
    {
     "data": {
      "text/plain": [
       "list"
      ]
     },
     "execution_count": 2,
     "metadata": {},
     "output_type": "execute_result"
    }
   ],
   "source": [
    "type(lines)"
   ]
  },
  {
   "cell_type": "code",
   "execution_count": 3,
   "metadata": {},
   "outputs": [
    {
     "name": "stdout",
     "output_type": "stream",
     "text": [
      "Consists of 2225 documents from the BBC news website corresponding to stories in five topical areas from 2004-2005.\n",
      "\n",
      "Natural Classes: 5 (business, entertainment, politics, sport, tech)\n",
      "\n",
      "\n",
      "\n",
      "If you make use of the dataset, please consider citing the publication: \n",
      "\n",
      "- D. Greene and P. Cunningham. \"Practical Solutions to the Problem of Diagonal Dominance in Kernel Document Clustering\", Proc. ICML 2006.\n",
      "\n",
      "\n",
      "\n",
      "All rights, including copyright, in the content of the original articles are owned by the BBC.\n",
      "\n",
      "\n",
      "\n",
      "Contact Derek Greene <derek.greene@ucd.ie> for further information.\n",
      "\n",
      "http://mlg.ucd.ie/datasets/bbc.html\n",
      "\n",
      "\n",
      "\n"
     ]
    }
   ],
   "source": [
    "for l in lines: \n",
    "    print(l)"
   ]
  },
  {
   "cell_type": "code",
   "execution_count": 5,
   "metadata": {},
   "outputs": [
    {
     "name": "stdout",
     "output_type": "stream",
     "text": [
      "Consists of 2225 documents from the BBC news website corresponding to stories in five topical areas from 2004-2005.\n",
      "Natural Classes: 5 (business, entertainment, politics, sport, tech)\n",
      "\n",
      "If you make use of the dataset, please consider citing the publication: \n",
      "- D. Greene and P. Cunningham. \"Practical Solutions to the Problem of Diagonal Dominance in Kernel Document Clustering\", Proc. ICML 2006.\n",
      "\n",
      "All rights, including copyright, in the content of the original articles are owned by the BBC.\n",
      "\n",
      "Contact Derek Greene <derek.greene@ucd.ie> for further information.\n",
      "http://mlg.ucd.ie/datasets/bbc.html\n",
      "\n",
      "\n"
     ]
    }
   ],
   "source": [
    "# autre facon d'ouvrir le fichier\n",
    "from pathlib import Path \n",
    "\n",
    "contents = Path(DATA_PATH + filename).read_text() \n",
    "\n",
    "print(contents)"
   ]
  },
  {
   "cell_type": "code",
   "execution_count": 6,
   "metadata": {},
   "outputs": [],
   "source": [
    "contents = contents + \" bonjour il fait beau \\n my taylor is rich  \""
   ]
  },
  {
   "cell_type": "code",
   "execution_count": 9,
   "metadata": {},
   "outputs": [],
   "source": [
    "# ecrit le contenu dans le fichier \n",
    "\n",
    "with open( DATA_PATH + 'readme_02.txt', 'a') as f:\n",
    "    f.write(contents)\n",
    "\n"
   ]
  },
  {
   "cell_type": "code",
   "execution_count": 10,
   "metadata": {},
   "outputs": [
    {
     "name": "stdout",
     "output_type": "stream",
     "text": [
      "/home/alexis/py918/alexis/jour_03\r\n"
     ]
    }
   ],
   "source": [
    "!pwd"
   ]
  },
  {
   "cell_type": "code",
   "execution_count": 13,
   "metadata": {},
   "outputs": [
    {
     "name": "stdout",
     "output_type": "stream",
     "text": [
      "/home/alexis/py918/alexis\n"
     ]
    }
   ],
   "source": [
    "cd .."
   ]
  },
  {
   "cell_type": "code",
   "execution_count": 14,
   "metadata": {},
   "outputs": [
    {
     "name": "stdout",
     "output_type": "stream",
     "text": [
      "/home/alexis/py918/alexis\r\n"
     ]
    }
   ],
   "source": [
    "!pwd"
   ]
  },
  {
   "cell_type": "code",
   "execution_count": 15,
   "metadata": {},
   "outputs": [
    {
     "name": "stdout",
     "output_type": "stream",
     "text": [
      "\u001b[0m\u001b[01;34mjour_01\u001b[0m/  \u001b[01;34mjour_02\u001b[0m/  \u001b[01;34mjour_03\u001b[0m/\r\n"
     ]
    }
   ],
   "source": [
    "ls "
   ]
  },
  {
   "cell_type": "code",
   "execution_count": 16,
   "metadata": {},
   "outputs": [
    {
     "name": "stdout",
     "output_type": "stream",
     "text": [
      "\u001b[0m\u001b[01;34mbbc\u001b[0m/  \u001b[01;31mbbc.zip\u001b[0m  les-arbres.csv\r\n"
     ]
    }
   ],
   "source": [
    "ls ../data"
   ]
  },
  {
   "cell_type": "code",
   "execution_count": 17,
   "metadata": {},
   "outputs": [
    {
     "name": "stdout",
     "output_type": "stream",
     "text": [
      "\u001b[0m\u001b[01;34mbusiness\u001b[0m/  \u001b[01;34mentertainment\u001b[0m/  readme_02.txt  README.TXT\r\n"
     ]
    }
   ],
   "source": [
    "ls ../data/bbc/"
   ]
  },
  {
   "cell_type": "code",
   "execution_count": null,
   "metadata": {},
   "outputs": [],
   "source": []
  }
 ],
 "metadata": {
  "kernelspec": {
   "display_name": "Python 3",
   "language": "python",
   "name": "python3"
  },
  "language_info": {
   "codemirror_mode": {
    "name": "ipython",
    "version": 3
   },
   "file_extension": ".py",
   "mimetype": "text/x-python",
   "name": "python",
   "nbconvert_exporter": "python",
   "pygments_lexer": "ipython3",
   "version": "3.6.5"
  }
 },
 "nbformat": 4,
 "nbformat_minor": 2
}
