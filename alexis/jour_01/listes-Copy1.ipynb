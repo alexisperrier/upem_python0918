{
 "cells": [
  {
   "cell_type": "code",
   "execution_count": 11,
   "metadata": {},
   "outputs": [],
   "source": [
    "\n",
    "# une liste de noms\n",
    "\n",
    "equipe = ['Amelie','Jean', 'Bruno', 'John', 'Nathalie']\n",
    "\n",
    "\n",
    "chiffres = [1,2,3,87, 100, 12, 54, True, 'brocoli']\n"
   ]
  },
  {
   "cell_type": "code",
   "execution_count": 12,
   "metadata": {},
   "outputs": [
    {
     "data": {
      "text/plain": [
       "5"
      ]
     },
     "execution_count": 12,
     "metadata": {},
     "output_type": "execute_result"
    }
   ],
   "source": [
    "# combien d'elements dans ma liste\n",
    "\n",
    "len(equipe)\n"
   ]
  },
  {
   "cell_type": "code",
   "execution_count": 13,
   "metadata": {},
   "outputs": [
    {
     "data": {
      "text/plain": [
       "9"
      ]
     },
     "execution_count": 13,
     "metadata": {},
     "output_type": "execute_result"
    }
   ],
   "source": [
    "len(chiffres)"
   ]
  },
  {
   "cell_type": "code",
   "execution_count": 14,
   "metadata": {},
   "outputs": [
    {
     "data": {
      "text/plain": [
       "['Amelie', 'Jean', 'Bruno', 'John', 'Nathalie']"
      ]
     },
     "execution_count": 14,
     "metadata": {},
     "output_type": "execute_result"
    }
   ],
   "source": [
    "equipe"
   ]
  },
  {
   "cell_type": "code",
   "execution_count": 15,
   "metadata": {},
   "outputs": [
    {
     "name": "stdout",
     "output_type": "stream",
     "text": [
      " Les membres de l'equipe sont ['Amelie', 'Jean', 'Bruno', 'John', 'Nathalie']  \n"
     ]
    }
   ],
   "source": [
    "print(\" Les membres de l'equipe sont {}  \".format(equipe))"
   ]
  },
  {
   "cell_type": "markdown",
   "metadata": {},
   "source": [
    "# Boucles"
   ]
  },
  {
   "cell_type": "code",
   "execution_count": 19,
   "metadata": {},
   "outputs": [
    {
     "name": "stdout",
     "output_type": "stream",
     "text": [
      "Bonjour Amelie\n",
      "Bonjour Jean\n",
      "Bonjour Bruno\n",
      "Bonjour John\n",
      "Bonjour Nathalie\n"
     ]
    }
   ],
   "source": [
    "equipe = ['Amelie','Jean', 'Bruno', 'John', 'Nathalie']\n",
    "\n",
    "for prenom in equipe:\n",
    "    print(\"Bonjour {}\".format(prenom))"
   ]
  },
  {
   "cell_type": "code",
   "execution_count": 23,
   "metadata": {},
   "outputs": [
    {
     "name": "stdout",
     "output_type": "stream",
     "text": [
      "4 au carré = 16\n",
      "1 au carré = 1\n",
      "3 au carré = 9\n",
      "5 au carré = 25\n",
      "6 au carré = 36\n",
      "3.15 au carré = 9.9225\n",
      "8 au carré = 64\n",
      "-1 au carré = 1\n"
     ]
    }
   ],
   "source": [
    "lst = [4,1,3,5,6, 3.15, 8, -1]\n",
    "\n",
    "for i in lst:\n",
    "    print(\"{} au carré = {}\".format(i, i**2))\n",
    "\n"
   ]
  },
  {
   "cell_type": "code",
   "execution_count": 24,
   "metadata": {},
   "outputs": [
    {
     "name": "stdout",
     "output_type": "stream",
     "text": [
      "la somme est 21\n"
     ]
    }
   ],
   "source": [
    "lst = [1,2,3,4,5,6]\n",
    "\n",
    "la_somme = 0\n",
    "for i in lst:\n",
    "    la_somme = la_somme + i\n",
    "\n",
    "print(\"la somme est {}\".format(la_somme))"
   ]
  },
  {
   "cell_type": "code",
   "execution_count": 26,
   "metadata": {},
   "outputs": [
    {
     "name": "stdout",
     "output_type": "stream",
     "text": [
      "Nantes\n",
      "Paris\n",
      "Bordeaux\n"
     ]
    }
   ],
   "source": [
    "liste_des_villes = [ 'Nantes', 'Paris','Bordeaux', 'Lyon'  ]\n",
    "\n",
    "\n",
    "for nom_de_la_ville in liste_des_villes:\n",
    "    if 'a' in nom_de_la_ville:\n",
    "        print(nom_de_la_ville)\n",
    "    \n",
    "\n"
   ]
  },
  {
   "cell_type": "code",
   "execution_count": 34,
   "metadata": {},
   "outputs": [
    {
     "name": "stdout",
     "output_type": "stream",
     "text": [
      "la ville Nantes a 6 lettres.\n",
      "la ville Paris n'a que 5 lettres.\n",
      "la ville Bordeaux a 8 lettres.\n",
      "la ville Lyon n'a que 4 lettres.\n"
     ]
    }
   ],
   "source": [
    "# Afficher les noms de villes de moins de 6 lettres\n",
    "\n",
    "# la longueur d'une chaine de charateres : len('Paris')\n",
    "\n",
    "liste_des_villes = [ 'Nantes', 'Paris','Bordeaux', 'Lyon'  ]\n",
    "\n",
    "for nom_de_la_ville in liste_des_villes:\n",
    "    if len(nom_de_la_ville) > 5:\n",
    "        print(\"la ville {} a {} lettres.\".format(nom_de_la_ville, len(nom_de_la_ville)))\n",
    "    else:\n",
    "        print(\"la ville {} n'a que {} lettres.\".format(nom_de_la_ville, len(nom_de_la_ville)))\n",
    "\n",
    "\n",
    "\n"
   ]
  },
  {
   "cell_type": "code",
   "execution_count": null,
   "metadata": {},
   "outputs": [],
   "source": []
  }
 ],
 "metadata": {
  "kernelspec": {
   "display_name": "Python 3",
   "language": "python",
   "name": "python3"
  },
  "language_info": {
   "codemirror_mode": {
    "name": "ipython",
    "version": 3
   },
   "file_extension": ".py",
   "mimetype": "text/x-python",
   "name": "python",
   "nbconvert_exporter": "python",
   "pygments_lexer": "ipython3",
   "version": "3.6.5"
  }
 },
 "nbformat": 4,
 "nbformat_minor": 2
}
