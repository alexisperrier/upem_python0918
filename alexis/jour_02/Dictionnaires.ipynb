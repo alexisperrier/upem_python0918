{
 "cells": [
  {
   "cell_type": "markdown",
   "metadata": {},
   "source": [
    "# Dictionnaires\n",
    "\n",
    "* creation\n",
    "* les clefs\n",
    "* les valeurs\n",
    "* ajouter une cle, valeur\n",
    "* enlever une cle, valeur\n",
    "* merge 2 dictionnaires\n",
    "\n"
   ]
  },
  {
   "cell_type": "code",
   "execution_count": 47,
   "metadata": {},
   "outputs": [
    {
     "data": {
      "text/plain": [
       "dict"
      ]
     },
     "execution_count": 47,
     "metadata": {},
     "output_type": "execute_result"
    }
   ],
   "source": [
    "# creation\n",
    "\n",
    "ma_liste = []\n",
    "mon_dico = {}\n",
    "\n",
    "type(mon_dico)"
   ]
  },
  {
   "cell_type": "code",
   "execution_count": 48,
   "metadata": {},
   "outputs": [
    {
     "name": "stdout",
     "output_type": "stream",
     "text": [
      "{'nom': 'Paris', 'population': 3000000, 'nombre_arbres': 40000, 'fondé_en': '1000-01-01', 'riviere': 'Seine', 'université': 'Sorbonne'}\n"
     ]
    }
   ],
   "source": [
    "# dictionnaire non vide\n",
    "\n",
    "paris = {\n",
    "    \"nom\": \"Paris\",\n",
    "    \"population\": 3000000,\n",
    "    \"nombre_arbres\": 40000,\n",
    "    \"fondé_en\": \"1000-01-01\",\n",
    "    'riviere': 'Seine',\n",
    "    \"université\": \"Sorbonne\"\n",
    "}\n",
    "\n",
    "\n",
    "print(paris)\n"
   ]
  },
  {
   "cell_type": "code",
   "execution_count": 49,
   "metadata": {},
   "outputs": [
    {
     "name": "stdout",
     "output_type": "stream",
     "text": [
      "Seine\n"
     ]
    }
   ],
   "source": [
    "print(paris['riviere'])"
   ]
  },
  {
   "cell_type": "code",
   "execution_count": 50,
   "metadata": {},
   "outputs": [
    {
     "data": {
      "text/plain": [
       "False"
      ]
     },
     "execution_count": 50,
     "metadata": {},
     "output_type": "execute_result"
    }
   ],
   "source": [
    "# clef qui n'existe pas\n",
    "\n",
    "'tourisme' in  paris\n"
   ]
  },
  {
   "cell_type": "code",
   "execution_count": 51,
   "metadata": {},
   "outputs": [
    {
     "data": {
      "text/plain": [
       "dict_keys(['nom', 'population', 'nombre_arbres', 'fondé_en', 'riviere', 'université'])"
      ]
     },
     "execution_count": 51,
     "metadata": {},
     "output_type": "execute_result"
    }
   ],
   "source": [
    "# liste des keys\n",
    "\n",
    "les_clefs = paris.keys()\n",
    "les_clefs"
   ]
  },
  {
   "cell_type": "code",
   "execution_count": 52,
   "metadata": {},
   "outputs": [
    {
     "data": {
      "text/plain": [
       "True"
      ]
     },
     "execution_count": 52,
     "metadata": {},
     "output_type": "execute_result"
    }
   ],
   "source": [
    "'nom' in les_clefs"
   ]
  },
  {
   "cell_type": "code",
   "execution_count": 53,
   "metadata": {},
   "outputs": [
    {
     "name": "stdout",
     "output_type": "stream",
     "text": [
      "{'nom': 'Paris', 'population': 3000000, 'nombre_arbres': 40000, 'fondé_en': '1000-01-01', 'riviere': 'Seine', 'université': 'Sorbonne', 'metro': 'chatelet'}\n"
     ]
    }
   ],
   "source": [
    "# rajouter une entrée dans le dictionnaire\n",
    "\n",
    "paris['metro'] = 'chatelet'\n",
    "\n",
    "print(paris)\n"
   ]
  },
  {
   "cell_type": "code",
   "execution_count": 54,
   "metadata": {},
   "outputs": [
    {
     "data": {
      "text/plain": [
       "dict_values(['Paris', 3000000, 40000, '1000-01-01', 'Seine', 'Sorbonne', 'chatelet'])"
      ]
     },
     "execution_count": 54,
     "metadata": {},
     "output_type": "execute_result"
    }
   ],
   "source": [
    "# valeurs du dictionnaire\n",
    "\n",
    "paris.values()\n"
   ]
  },
  {
   "cell_type": "code",
   "execution_count": 55,
   "metadata": {
    "scrolled": true
   },
   "outputs": [
    {
     "data": {
      "text/plain": [
       "{'nom': 'Paris',\n",
       " 'population': 3000000,\n",
       " 'nombre_arbres': 40000,\n",
       " 'fondé_en': '1000-08-23',\n",
       " 'riviere': 'Seine',\n",
       " 'université': 'Sorbonne',\n",
       " 'metro': 'chatelet'}"
      ]
     },
     "execution_count": 55,
     "metadata": {},
     "output_type": "execute_result"
    }
   ],
   "source": [
    "# changer la date\n",
    "paris['fondé_en'] = '1000-08-23'\n",
    "\n",
    "paris\n"
   ]
  },
  {
   "cell_type": "code",
   "execution_count": 56,
   "metadata": {},
   "outputs": [
    {
     "data": {
      "text/plain": [
       "{'nom': 'Paris',\n",
       " 'population': 3000000,\n",
       " 'nombre_arbres': 40000,\n",
       " 'fondé_en': '1000-08-23',\n",
       " 'riviere': 'Seine',\n",
       " 'université': 'Sorbonne',\n",
       " 'metro': 'chatelet',\n",
       " 'rues': ['champs elysees', 'rivoli', 'sebastopol']}"
      ]
     },
     "execution_count": 56,
     "metadata": {},
     "output_type": "execute_result"
    }
   ],
   "source": [
    "# avoir un element du dctionnaire qui est une liste\n",
    "\n",
    "paris['rues'] = ['champs elysees', 'rivoli', 'sebastopol']\n",
    "\n",
    "paris\n",
    "\n"
   ]
  },
  {
   "cell_type": "code",
   "execution_count": 57,
   "metadata": {},
   "outputs": [
    {
     "data": {
      "text/plain": [
       "list"
      ]
     },
     "execution_count": 57,
     "metadata": {},
     "output_type": "execute_result"
    }
   ],
   "source": [
    "type(paris['rues'])"
   ]
  },
  {
   "cell_type": "code",
   "execution_count": 58,
   "metadata": {},
   "outputs": [
    {
     "data": {
      "text/plain": [
       "{'nom': 'Paris',\n",
       " 'population': 3000000,\n",
       " 'nombre_arbres': 40000,\n",
       " 'riviere': 'Seine',\n",
       " 'université': 'Sorbonne'}"
      ]
     },
     "execution_count": 58,
     "metadata": {},
     "output_type": "execute_result"
    }
   ],
   "source": [
    "# enlever des clef / valeurs\n",
    "\n",
    "paris.pop('rues', None)\n",
    "paris.pop('metro', None)\n",
    "paris.pop('fondé_en', None)\n",
    "paris"
   ]
  },
  {
   "cell_type": "code",
   "execution_count": 59,
   "metadata": {},
   "outputs": [],
   "source": [
    "londres = {'nom': 'London',\n",
    " 'population': 5000000,\n",
    " 'nombre_arbres': 20000,\n",
    " 'riviere': 'Thames',\n",
    " 'université': \"King's college\"}\n"
   ]
  },
  {
   "cell_type": "code",
   "execution_count": 60,
   "metadata": {},
   "outputs": [
    {
     "data": {
      "text/plain": [
       "{'nom': 'London',\n",
       " 'population': 5000000,\n",
       " 'nombre_arbres': 20000,\n",
       " 'riviere': 'Thames',\n",
       " 'université': \"King's college\"}"
      ]
     },
     "execution_count": 60,
     "metadata": {},
     "output_type": "execute_result"
    }
   ],
   "source": [
    "londres"
   ]
  },
  {
   "cell_type": "code",
   "execution_count": 61,
   "metadata": {},
   "outputs": [
    {
     "data": {
      "text/plain": [
       "{'nom': 'Paris',\n",
       " 'population': 3000000,\n",
       " 'nombre_arbres': 40000,\n",
       " 'riviere': 'Seine',\n",
       " 'université': 'Sorbonne'}"
      ]
     },
     "execution_count": 61,
     "metadata": {},
     "output_type": "execute_result"
    }
   ],
   "source": [
    "paris"
   ]
  },
  {
   "cell_type": "code",
   "execution_count": 62,
   "metadata": {},
   "outputs": [],
   "source": [
    "villes = [londres, paris]"
   ]
  },
  {
   "cell_type": "code",
   "execution_count": 63,
   "metadata": {},
   "outputs": [
    {
     "data": {
      "text/plain": [
       "[{'nom': 'London',\n",
       "  'population': 5000000,\n",
       "  'nombre_arbres': 20000,\n",
       "  'riviere': 'Thames',\n",
       "  'université': \"King's college\"},\n",
       " {'nom': 'Paris',\n",
       "  'population': 3000000,\n",
       "  'nombre_arbres': 40000,\n",
       "  'riviere': 'Seine',\n",
       "  'université': 'Sorbonne'}]"
      ]
     },
     "execution_count": 63,
     "metadata": {},
     "output_type": "execute_result"
    }
   ],
   "source": [
    "villes"
   ]
  },
  {
   "cell_type": "code",
   "execution_count": 64,
   "metadata": {},
   "outputs": [
    {
     "data": {
      "text/plain": [
       "{'nom': 'London',\n",
       " 'population': 5000000,\n",
       " 'nombre_arbres': 20000,\n",
       " 'riviere': 'Thames',\n",
       " 'université': \"King's college\",\n",
       " 'monument': 'tour eiffel',\n",
       " 'place': 'picadilly circus'}"
      ]
     },
     "execution_count": 64,
     "metadata": {},
     "output_type": "execute_result"
    }
   ],
   "source": [
    "londres['place'] = 'picadilly circus'\n",
    "paris['monument'] = 'tour eiffel'\n",
    "\n",
    "paris.update(londres)\n",
    "paris"
   ]
  },
  {
   "cell_type": "code",
   "execution_count": 65,
   "metadata": {
    "scrolled": true
   },
   "outputs": [
    {
     "name": "stdout",
     "output_type": "stream",
     "text": [
      "nom -> London\n",
      "population -> 5000000\n",
      "nombre_arbres -> 20000\n",
      "riviere -> Thames\n",
      "université -> King's college\n",
      "monument -> tour eiffel\n",
      "place -> picadilly circus\n"
     ]
    }
   ],
   "source": [
    "for key, value in paris.items():\n",
    "    print(\"{} -> {}\".format(key,value))"
   ]
  },
  {
   "cell_type": "code",
   "execution_count": null,
   "metadata": {},
   "outputs": [],
   "source": []
  }
 ],
 "metadata": {
  "kernelspec": {
   "display_name": "Python 3",
   "language": "python",
   "name": "python3"
  },
  "language_info": {
   "codemirror_mode": {
    "name": "ipython",
    "version": 3
   },
   "file_extension": ".py",
   "mimetype": "text/x-python",
   "name": "python",
   "nbconvert_exporter": "python",
   "pygments_lexer": "ipython3",
   "version": "3.6.5"
  }
 },
 "nbformat": 4,
 "nbformat_minor": 2
}
