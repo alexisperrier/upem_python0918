{
 "cells": [
  {
   "cell_type": "markdown",
   "metadata": {},
   "source": [
    "# Exercice 1\n",
    "\n",
    "        a = [1, 1, 2, 3, 5, 8, 13, 21, 34, 55, 89]\n",
    "        b = [1, 2, 3, 4, 5, 6, 7, 8, 9, 10, 11, 12, 13]\n",
    "\n",
    "Soient 2 listes.\n",
    "Ecrire un programme qui retourne une liste qui ne contient que les elements qui sont dans les 2 listes d'origine\n",
    "\n"
   ]
  },
  {
   "cell_type": "code",
   "execution_count": 1,
   "metadata": {},
   "outputs": [
    {
     "data": {
      "text/plain": [
       "[1, 2, 3, 5, 8, 13]"
      ]
     },
     "execution_count": 1,
     "metadata": {},
     "output_type": "execute_result"
    }
   ],
   "source": [
    "def intersection(a,b): \n",
    "    list_commons = list(set(a).intersection(b))\n",
    "    return list_commons \n",
    "\n",
    "a = [1, 1, 2, 3, 5, 8, 13, 21, 34, 55, 89]\n",
    "b = [1, 2, 3, 4, 5, 6, 7, 8, 9, 10, 11, 12, 13]\n",
    "intersection(a,b) \n",
    "\n",
    "\n"
   ]
  },
  {
   "cell_type": "code",
   "execution_count": 4,
   "metadata": {},
   "outputs": [
    {
     "data": {
      "text/plain": [
       "[6]"
      ]
     },
     "execution_count": 4,
     "metadata": {},
     "output_type": "execute_result"
    }
   ],
   "source": [
    "def intersection(a,b):\n",
    "    resultat = [n for n in b if n  in a]\n",
    "    return resultat\n",
    "\n",
    "a = [6]\n",
    "b = [5,6,7]\n",
    "intersection(a,b)\n"
   ]
  },
  {
   "cell_type": "code",
   "execution_count": 6,
   "metadata": {},
   "outputs": [
    {
     "data": {
      "text/plain": [
       "[1, 2, 3, 5, 8, 13]"
      ]
     },
     "execution_count": 6,
     "metadata": {},
     "output_type": "execute_result"
    }
   ],
   "source": [
    "def intersection(a,b):\n",
    "    resultat = []\n",
    "    for n in a:\n",
    "        for m in b:\n",
    "            if (n in b) & (m in a):\n",
    "                resultat.append(n)\n",
    "    resultat = list(set(resultat))\n",
    "    return resultat\n",
    "\n",
    "a = [1, 1, 2, 3, 5, 8, 13, 21, 34, 55, 89]\n",
    "b = [1, 2, 3, 4, 5, 6, 7, 8, 9, 10, 11, 12, 13]\n",
    "intersection(a,b) \n"
   ]
  },
  {
   "cell_type": "markdown",
   "metadata": {},
   "source": [
    "# Exercice 2\n",
    "\n",
    "Une fonction qui prends en entrée une string et qui retourne True si la string est un palyndrome, qui se lit de la meme facond ans les deux sens\n",
    "\n",
    "Kayak est palyndrome"
   ]
  },
  {
   "cell_type": "code",
   "execution_count": 19,
   "metadata": {},
   "outputs": [
    {
     "name": "stdout",
     "output_type": "stream",
     "text": [
      "True\n"
     ]
    }
   ],
   "source": [
    "\n",
    "word=\"dimension\"\n",
    "\n",
    "def is_palyndrome(word):\n",
    "    len_mot = len(word)\n",
    "    word_reverse = ''\n",
    "    for i in range(len_mot):\n",
    "        k = len_mot - i -1\n",
    "        word_reverse = word_reverse + word[k]\n",
    "    if word==word_reverse:\n",
    "        print(\"True\")\n",
    "    else:\n",
    "        print(\"False\")\n",
    "    \n",
    "is_palyndrome(\"ressasser\")"
   ]
  },
  {
   "cell_type": "code",
   "execution_count": 21,
   "metadata": {},
   "outputs": [
    {
     "data": {
      "text/plain": [
       "False"
      ]
     },
     "execution_count": 21,
     "metadata": {},
     "output_type": "execute_result"
    }
   ],
   "source": [
    "def palyndrome(mot):\n",
    "    if mot == mot[::-1]:\n",
    "        return True\n",
    "    else:\n",
    "        return False\n",
    "\n",
    "palyndrome(\"ressassxaXxer\")"
   ]
  },
  {
   "cell_type": "markdown",
   "metadata": {},
   "source": [
    "# Exercice 3\n",
    "\n",
    "Ecrire une fonction qui prend en entrée un texte composé de plusieurs mots et qui retourne les mots dans un ordre inversé\n",
    "\n",
    "ex: \"il fait beau\" devient \"beau fait il\"\n",
    "\n",
    "\n"
   ]
  },
  {
   "cell_type": "code",
   "execution_count": 25,
   "metadata": {},
   "outputs": [
    {
     "name": "stdout",
     "output_type": "stream",
     "text": [
      "beau fait il \n"
     ]
    }
   ],
   "source": [
    "texte_01= \" il fait beau\"\n",
    "texte_02= \"\"\n",
    "for mot in texte_01.split() :\n",
    "    texte_02 = mot + ' ' + texte_02\n",
    "    \n",
    "print (texte_02)\n",
    "  \n",
    "    \n",
    "    "
   ]
  },
  {
   "cell_type": "code",
   "execution_count": 27,
   "metadata": {},
   "outputs": [
    {
     "data": {
      "text/plain": [
       "'pret est café Le'"
      ]
     },
     "execution_count": 27,
     "metadata": {},
     "output_type": "execute_result"
    }
   ],
   "source": [
    "def inversion(phrase):\n",
    "    liste_mots = phrase.split(' ')\n",
    "    liste_mots_inverse = liste_mots[::-1]\n",
    "    nouvelle_phrase = ' '.join(liste_mots_inverse)\n",
    "    return nouvelle_phrase\n",
    "\n",
    "inversion(\"Le café est pret\")"
   ]
  },
  {
   "cell_type": "code",
   "execution_count": 32,
   "metadata": {},
   "outputs": [
    {
     "name": "stdout",
     "output_type": "stream",
     "text": [
      "0 1 2 3 "
     ]
    }
   ],
   "source": [
    "for i in range(4):\n",
    "    print(i, end=' ')"
   ]
  },
  {
   "cell_type": "code",
   "execution_count": null,
   "metadata": {},
   "outputs": [],
   "source": []
  }
 ],
 "metadata": {
  "kernelspec": {
   "display_name": "Python 3",
   "language": "python",
   "name": "python3"
  },
  "language_info": {
   "codemirror_mode": {
    "name": "ipython",
    "version": 3
   },
   "file_extension": ".py",
   "mimetype": "text/x-python",
   "name": "python",
   "nbconvert_exporter": "python",
   "pygments_lexer": "ipython3",
   "version": "3.6.5"
  }
 },
 "nbformat": 4,
 "nbformat_minor": 2
}
